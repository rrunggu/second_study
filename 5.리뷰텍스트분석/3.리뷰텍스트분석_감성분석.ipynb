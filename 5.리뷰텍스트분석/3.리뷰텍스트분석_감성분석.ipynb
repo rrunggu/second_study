{
 "cells": [
  {
   "cell_type": "markdown",
   "metadata": {},
   "source": [
    "### 라이브러리 불러오기"
   ]
  },
  {
   "cell_type": "code",
   "execution_count": 3,
   "metadata": {},
   "outputs": [],
   "source": [
    "import pandas as pd\n",
    "import matplotlib.pyplot as plt\n",
    "import seaborn as sns\n",
    "import warnings \n",
    "warnings.filterwarnings('ignore')"
   ]
  },
  {
   "cell_type": "code",
   "execution_count": 4,
   "metadata": {},
   "outputs": [
    {
     "data": {
      "text/html": [
       "<div>\n",
       "<style scoped>\n",
       "    .dataframe tbody tr th:only-of-type {\n",
       "        vertical-align: middle;\n",
       "    }\n",
       "\n",
       "    .dataframe tbody tr th {\n",
       "        vertical-align: top;\n",
       "    }\n",
       "\n",
       "    .dataframe thead th {\n",
       "        text-align: right;\n",
       "    }\n",
       "</style>\n",
       "<table border=\"1\" class=\"dataframe\">\n",
       "  <thead>\n",
       "    <tr style=\"text-align: right;\">\n",
       "      <th></th>\n",
       "      <th>Unnamed: 0</th>\n",
       "      <th>Clothing ID</th>\n",
       "      <th>Age</th>\n",
       "      <th>Title</th>\n",
       "      <th>Review Text</th>\n",
       "      <th>Rating</th>\n",
       "      <th>Recommended IND</th>\n",
       "      <th>Positive Feedback Count</th>\n",
       "      <th>Division Name</th>\n",
       "      <th>Department Name</th>\n",
       "      <th>Class Name</th>\n",
       "    </tr>\n",
       "  </thead>\n",
       "  <tbody>\n",
       "    <tr>\n",
       "      <th>0</th>\n",
       "      <td>0</td>\n",
       "      <td>767</td>\n",
       "      <td>33</td>\n",
       "      <td>NaN</td>\n",
       "      <td>Absolutely wonderful - silky and sexy and comf...</td>\n",
       "      <td>4</td>\n",
       "      <td>1</td>\n",
       "      <td>0</td>\n",
       "      <td>Initmates</td>\n",
       "      <td>Intimate</td>\n",
       "      <td>Intimates</td>\n",
       "    </tr>\n",
       "    <tr>\n",
       "      <th>1</th>\n",
       "      <td>1</td>\n",
       "      <td>1080</td>\n",
       "      <td>34</td>\n",
       "      <td>NaN</td>\n",
       "      <td>Love this dress!  it's sooo pretty.  i happene...</td>\n",
       "      <td>5</td>\n",
       "      <td>1</td>\n",
       "      <td>4</td>\n",
       "      <td>General</td>\n",
       "      <td>Dresses</td>\n",
       "      <td>Dresses</td>\n",
       "    </tr>\n",
       "    <tr>\n",
       "      <th>2</th>\n",
       "      <td>2</td>\n",
       "      <td>1077</td>\n",
       "      <td>60</td>\n",
       "      <td>Some major design flaws</td>\n",
       "      <td>I had such high hopes for this dress and reall...</td>\n",
       "      <td>3</td>\n",
       "      <td>0</td>\n",
       "      <td>0</td>\n",
       "      <td>General</td>\n",
       "      <td>Dresses</td>\n",
       "      <td>Dresses</td>\n",
       "    </tr>\n",
       "    <tr>\n",
       "      <th>3</th>\n",
       "      <td>3</td>\n",
       "      <td>1049</td>\n",
       "      <td>50</td>\n",
       "      <td>My favorite buy!</td>\n",
       "      <td>I love, love, love this jumpsuit. it's fun, fl...</td>\n",
       "      <td>5</td>\n",
       "      <td>1</td>\n",
       "      <td>0</td>\n",
       "      <td>General Petite</td>\n",
       "      <td>Bottoms</td>\n",
       "      <td>Pants</td>\n",
       "    </tr>\n",
       "    <tr>\n",
       "      <th>4</th>\n",
       "      <td>4</td>\n",
       "      <td>847</td>\n",
       "      <td>47</td>\n",
       "      <td>Flattering shirt</td>\n",
       "      <td>This shirt is very flattering to all due to th...</td>\n",
       "      <td>5</td>\n",
       "      <td>1</td>\n",
       "      <td>6</td>\n",
       "      <td>General</td>\n",
       "      <td>Tops</td>\n",
       "      <td>Blouses</td>\n",
       "    </tr>\n",
       "    <tr>\n",
       "      <th>5</th>\n",
       "      <td>5</td>\n",
       "      <td>1080</td>\n",
       "      <td>49</td>\n",
       "      <td>Not for the very petite</td>\n",
       "      <td>I love tracy reese dresses, but this one is no...</td>\n",
       "      <td>2</td>\n",
       "      <td>0</td>\n",
       "      <td>4</td>\n",
       "      <td>General</td>\n",
       "      <td>Dresses</td>\n",
       "      <td>Dresses</td>\n",
       "    </tr>\n",
       "    <tr>\n",
       "      <th>6</th>\n",
       "      <td>6</td>\n",
       "      <td>858</td>\n",
       "      <td>39</td>\n",
       "      <td>Cagrcoal shimmer fun</td>\n",
       "      <td>I aded this in my basket at hte last mintue to...</td>\n",
       "      <td>5</td>\n",
       "      <td>1</td>\n",
       "      <td>1</td>\n",
       "      <td>General Petite</td>\n",
       "      <td>Tops</td>\n",
       "      <td>Knits</td>\n",
       "    </tr>\n",
       "    <tr>\n",
       "      <th>7</th>\n",
       "      <td>7</td>\n",
       "      <td>858</td>\n",
       "      <td>39</td>\n",
       "      <td>Shimmer, surprisingly goes with lots</td>\n",
       "      <td>I ordered this in carbon for store pick up, an...</td>\n",
       "      <td>4</td>\n",
       "      <td>1</td>\n",
       "      <td>4</td>\n",
       "      <td>General Petite</td>\n",
       "      <td>Tops</td>\n",
       "      <td>Knits</td>\n",
       "    </tr>\n",
       "    <tr>\n",
       "      <th>8</th>\n",
       "      <td>8</td>\n",
       "      <td>1077</td>\n",
       "      <td>24</td>\n",
       "      <td>Flattering</td>\n",
       "      <td>I love this dress. i usually get an xs but it ...</td>\n",
       "      <td>5</td>\n",
       "      <td>1</td>\n",
       "      <td>0</td>\n",
       "      <td>General</td>\n",
       "      <td>Dresses</td>\n",
       "      <td>Dresses</td>\n",
       "    </tr>\n",
       "    <tr>\n",
       "      <th>9</th>\n",
       "      <td>9</td>\n",
       "      <td>1077</td>\n",
       "      <td>34</td>\n",
       "      <td>Such a fun dress!</td>\n",
       "      <td>I'm 5\"5' and 125 lbs. i ordered the s petite t...</td>\n",
       "      <td>5</td>\n",
       "      <td>1</td>\n",
       "      <td>0</td>\n",
       "      <td>General</td>\n",
       "      <td>Dresses</td>\n",
       "      <td>Dresses</td>\n",
       "    </tr>\n",
       "  </tbody>\n",
       "</table>\n",
       "</div>"
      ],
      "text/plain": [
       "   Unnamed: 0  Clothing ID  Age                                 Title  \\\n",
       "0           0          767   33                                   NaN   \n",
       "1           1         1080   34                                   NaN   \n",
       "2           2         1077   60               Some major design flaws   \n",
       "3           3         1049   50                      My favorite buy!   \n",
       "4           4          847   47                      Flattering shirt   \n",
       "5           5         1080   49               Not for the very petite   \n",
       "6           6          858   39                  Cagrcoal shimmer fun   \n",
       "7           7          858   39  Shimmer, surprisingly goes with lots   \n",
       "8           8         1077   24                            Flattering   \n",
       "9           9         1077   34                     Such a fun dress!   \n",
       "\n",
       "                                         Review Text  Rating  Recommended IND  \\\n",
       "0  Absolutely wonderful - silky and sexy and comf...       4                1   \n",
       "1  Love this dress!  it's sooo pretty.  i happene...       5                1   \n",
       "2  I had such high hopes for this dress and reall...       3                0   \n",
       "3  I love, love, love this jumpsuit. it's fun, fl...       5                1   \n",
       "4  This shirt is very flattering to all due to th...       5                1   \n",
       "5  I love tracy reese dresses, but this one is no...       2                0   \n",
       "6  I aded this in my basket at hte last mintue to...       5                1   \n",
       "7  I ordered this in carbon for store pick up, an...       4                1   \n",
       "8  I love this dress. i usually get an xs but it ...       5                1   \n",
       "9  I'm 5\"5' and 125 lbs. i ordered the s petite t...       5                1   \n",
       "\n",
       "   Positive Feedback Count   Division Name Department Name Class Name  \n",
       "0                        0       Initmates        Intimate  Intimates  \n",
       "1                        4         General         Dresses    Dresses  \n",
       "2                        0         General         Dresses    Dresses  \n",
       "3                        0  General Petite         Bottoms      Pants  \n",
       "4                        6         General            Tops    Blouses  \n",
       "5                        4         General         Dresses    Dresses  \n",
       "6                        1  General Petite            Tops      Knits  \n",
       "7                        4  General Petite            Tops      Knits  \n",
       "8                        0         General         Dresses    Dresses  \n",
       "9                        0         General         Dresses    Dresses  "
      ]
     },
     "execution_count": 4,
     "metadata": {},
     "output_type": "execute_result"
    }
   ],
   "source": [
    "# 데이터 불러오기\n",
    "df = pd.read_csv('./data/Womens Clothing E-Commerce Reviews.csv')\n",
    "\n",
    "# 데이터 살펴보기\n",
    "df.head(10)"
   ]
  },
  {
   "cell_type": "code",
   "execution_count": 5,
   "metadata": {},
   "outputs": [
    {
     "data": {
      "text/plain": [
       "23486"
      ]
     },
     "execution_count": 5,
     "metadata": {},
     "output_type": "execute_result"
    }
   ],
   "source": [
    "# 데이터 개수\n",
    "len(df)"
   ]
  },
  {
   "cell_type": "code",
   "execution_count": 6,
   "metadata": {},
   "outputs": [
    {
     "data": {
      "image/png": "[encoded data removed]",
      "text/plain": [
       "<Figure size 432x288 with 1 Axes>"
      ]
     },
     "metadata": {},
     "output_type": "display_data"
    }
   ],
   "source": [
    "# 그래프 테마 설정\n",
    "sns.set_theme(style=\"whitegrid\", palette=\"pastel\")\n",
    "# 점수 분포\n",
    "sns.countplot(data=df, x=\"Rating\")\n",
    "plt.show()"
   ]
  },
  {
   "cell_type": "code",
   "execution_count": 7,
   "metadata": {},
   "outputs": [
    {
     "data": {
      "text/plain": [
       "0         53\n",
       "1        303\n",
       "2        500\n",
       "3        124\n",
       "4        192\n",
       "        ... \n",
       "23481    131\n",
       "23482    223\n",
       "23483    208\n",
       "23484    427\n",
       "23485    110\n",
       "Name: Review Text, Length: 22641, dtype: int64"
      ]
     },
     "execution_count": 7,
     "metadata": {},
     "output_type": "execute_result"
    }
   ],
   "source": [
    "# 리뷰 글자수\n",
    "df['Review Text'].dropna().map(len)"
   ]
  },
  {
   "cell_type": "code",
   "execution_count": 8,
   "metadata": {},
   "outputs": [
    {
     "data": {
      "image/png": "[encoded data removed]",
      "text/plain": [
       "<Figure size 432x288 with 1 Axes>"
      ]
     },
     "metadata": {},
     "output_type": "display_data"
    }
   ],
   "source": [
    "# 리뷰 길이 분포 (글자수)\n",
    "sns.histplot(df['Review Text'].dropna().map(len))\n",
    "plt.show()"
   ]
  },
  {
   "cell_type": "code",
   "execution_count": 9,
   "metadata": {},
   "outputs": [
    {
     "data": {
      "text/plain": [
       "508"
      ]
     },
     "execution_count": 9,
     "metadata": {},
     "output_type": "execute_result"
    }
   ],
   "source": [
    "# 가장 긴 리뷰의 글자수\n",
    "df['Review Text'].dropna().map(len).max()"
   ]
  },
  {
   "cell_type": "code",
   "execution_count": 10,
   "metadata": {},
   "outputs": [
    {
     "data": {
      "text/plain": [
       "0         8\n",
       "1        62\n",
       "2        98\n",
       "3        22\n",
       "4        36\n",
       "         ..\n",
       "23481    28\n",
       "23482    38\n",
       "23483    42\n",
       "23484    86\n",
       "23485    19\n",
       "Name: Review Text, Length: 22641, dtype: int64"
      ]
     },
     "execution_count": 10,
     "metadata": {},
     "output_type": "execute_result"
    }
   ],
   "source": [
    "# 리뷰 단어수\n",
    "df['Review Text'].dropna().map(lambda x: len(x.split()))"
   ]
  },
  {
   "cell_type": "code",
   "execution_count": 11,
   "metadata": {},
   "outputs": [
    {
     "data": {
      "image/png": "[encoded data removed]",
      "text/plain": [
       "<Figure size 432x288 with 1 Axes>"
      ]
     },
     "metadata": {},
     "output_type": "display_data"
    }
   ],
   "source": [
    "# 리뷰 길이 분포 (단어수)\n",
    "sns.histplot(df['Review Text'].dropna().map(lambda x: len(x.split())))\n",
    "plt.show()"
   ]
  },
  {
   "cell_type": "code",
   "execution_count": 12,
   "metadata": {},
   "outputs": [
    {
     "data": {
      "text/plain": [
       "115"
      ]
     },
     "execution_count": 12,
     "metadata": {},
     "output_type": "execute_result"
    }
   ],
   "source": [
    "# 가장 긴 리뷰의 단어수\n",
    "df['Review Text'].dropna().map(lambda x: len(x.split())).max()"
   ]
  },
  {
   "cell_type": "code",
   "execution_count": 13,
   "metadata": {},
   "outputs": [
    {
     "data": {
      "image/png": "[encoded data removed]",
      "text/plain": [
       "<Figure size 1080x576 with 1 Axes>"
      ]
     },
     "metadata": {},
     "output_type": "display_data"
    }
   ],
   "source": [
    "# 리뷰 길이와 리뷰 투표수\n",
    "df[\"Review Words\"] = df['Review Text'].dropna().map(lambda x: len(x.split()))\n",
    "g = sns.regplot(x=\"Review Words\", y=\"Positive Feedback Count\", data=df)\n",
    "g.figure.set_size_inches(15, 8)\n",
    "plt.show()"
   ]
  },
  {
   "cell_type": "code",
   "execution_count": 14,
   "metadata": {},
   "outputs": [],
   "source": [
    "df_clean = df.dropna(subset=['Review Text']).copy()"
   ]
  },
  {
   "cell_type": "code",
   "execution_count": 15,
   "metadata": {},
   "outputs": [],
   "source": [
    "# 점수 분포에서 5점이 압도적으로 많기 때문에, 5점을 positive, 4점 이하를 negative로 둔다.\n",
    "df_clean['Label'] = df_clean['Rating'] == 5"
   ]
  },
  {
   "cell_type": "markdown",
   "metadata": {},
   "source": [
    "### 텍스트 전처리"
   ]
  },
  {
   "cell_type": "code",
   "execution_count": 16,
   "metadata": {},
   "outputs": [],
   "source": [
    "import spacy\n",
    "from collections import Counter\n",
    "import math\n",
    "from tqdm import tqdm"
   ]
  },
  {
   "cell_type": "code",
   "execution_count": 17,
   "metadata": {},
   "outputs": [],
   "source": [
    "# 필요한 리소스를 로드해야 한다. 영어 리소스 로드.\n",
    "nlp = spacy.load(\"en_core_web_sm\")"
   ]
  },
  {
   "cell_type": "code",
   "execution_count": 18,
   "metadata": {},
   "outputs": [
    {
     "name": "stderr",
     "output_type": "stream",
     "text": [
      "22641it [02:40, 141.16it/s]\n"
     ]
    }
   ],
   "source": [
    "tokens_normalized = []\n",
    "for doc in tqdm(nlp.pipe(df_clean['Review Text'].str.lower())):\n",
    "  lemmas = [token.lemma_ for token in doc if not token.is_punct and not token.is_space]\n",
    "  tokens_normalized.append(lemmas)"
   ]
  },
  {
   "cell_type": "markdown",
   "metadata": {},
   "source": [
    "**Phrase modeling (bigram & trigram)**"
   ]
  },
  {
   "cell_type": "code",
   "execution_count": 19,
   "metadata": {},
   "outputs": [],
   "source": [
    "from gensim.models.phrases import Phrases, Phraser"
   ]
  },
  {
   "cell_type": "code",
   "execution_count": 20,
   "metadata": {},
   "outputs": [],
   "source": [
    "# gensim을 이용해서 phrase modeling을 한다\n",
    "bigram_model = Phrases(tokens_normalized)\n",
    "bigram_phraser = Phraser(bigram_model)"
   ]
  },
  {
   "cell_type": "code",
   "execution_count": 21,
   "metadata": {},
   "outputs": [],
   "source": [
    "tokens_bigram = []\n",
    "for s in tokens_normalized:\n",
    "    bigram_phrases = bigram_phraser[s]\n",
    "    tokens_bigram.append(bigram_phrases)"
   ]
  },
  {
   "cell_type": "code",
   "execution_count": 22,
   "metadata": {},
   "outputs": [],
   "source": [
    "trigram_model = Phrases(tokens_bigram)\n",
    "trigram_phraser = Phraser(trigram_model)"
   ]
  },
  {
   "cell_type": "code",
   "execution_count": 23,
   "metadata": {},
   "outputs": [],
   "source": [
    "tokens_trigram = []\n",
    "for s in tokens_bigram:\n",
    "    trigram_phrases = trigram_phraser[s]\n",
    "    trigram_phrases = [token for token in trigram_phrases if token not in nlp.Defaults.stop_words and token != '-PRON-']\n",
    "    tokens_trigram.append(trigram_phrases)"
   ]
  },
  {
   "cell_type": "code",
   "execution_count": 24,
   "metadata": {},
   "outputs": [],
   "source": [
    "preprocessed_sentences = []\n",
    "for s in tokens_trigram:\n",
    "  preprocessed_sentences.append(' '.join(s))"
   ]
  },
  {
   "cell_type": "code",
   "execution_count": 25,
   "metadata": {},
   "outputs": [],
   "source": [
    "df_clean['Reviews Preprocessed'] = preprocessed_sentences"
   ]
  },
  {
   "cell_type": "markdown",
   "metadata": {},
   "source": [
    "#### 학습용 데이터와 테스트용 데이터 나누기"
   ]
  },
  {
   "cell_type": "code",
   "execution_count": 26,
   "metadata": {},
   "outputs": [],
   "source": [
    "from sklearn.model_selection import train_test_split\n",
    "# scikit-learn의 train_test_split에서 학습용 데이터와 테스트용 데이터의 디폴트 비율은 75:25이다.\n",
    "df_train, df_test = train_test_split(df_clean, random_state=0)"
   ]
  },
  {
   "cell_type": "code",
   "execution_count": 27,
   "metadata": {},
   "outputs": [],
   "source": [
    "def preprocess_text(text):\n",
    "    text = text.lower()\n",
    "    doc = nlp(text)\n",
    "    lemmas = [token.lemma_ for token in doc if not token.is_punct and not token.is_space]\n",
    "    bigrams = bigram_phraser[lemmas]\n",
    "    trigrams = trigram_phraser[bigrams]\n",
    "    tokens_normalized = [lemma for lemma in trigrams if lemma not in nlp.Defaults.stop_words and lemma != '-PRON-']\n",
    "    return tokens_normalized"
   ]
  },
  {
   "cell_type": "markdown",
   "metadata": {},
   "source": [
    "### 사전으로 하는 감성분석\n",
    "\n",
    "- 감성어 사전을 만들고 이를 이용해 감성 분석 정확도를 구해보자\n",
    "- 출처 : https://github.com/cjhutto/vaderSentiment/blob/master/vaderSentiment/vader_lexicon.txt"
   ]
  },
  {
   "cell_type": "code",
   "execution_count": 28,
   "metadata": {},
   "outputs": [],
   "source": [
    "# 긍정 단어는 1, 부정 단어는 -1로 표기한다.\n",
    "sentiment_vocab = {\n",
    " 'adorable': 1,\n",
    " 'adore': 1,\n",
    " 'allow': 1,\n",
    " 'amazing': 1,\n",
    " 'appreciate': 1,\n",
    " 'attractive': 1,\n",
    " 'avoid': -1,\n",
    " 'awesome': 1,\n",
    " 'awful': -1,\n",
    " 'awkward': -1,\n",
    " 'bad': -1,\n",
    " 'beautiful': 1,\n",
    " 'beautifully': 1,\n",
    " 'beauty': 1,\n",
    " 'best': 1,\n",
    " 'better': 1,\n",
    " 'bother': -1,\n",
    " 'bright': 1,\n",
    " 'bummer': -1,\n",
    " 'care': 1,\n",
    " 'careful': 1,\n",
    " 'casual': 1,\n",
    " 'certainly': 1,\n",
    " 'chance': 1,\n",
    " 'chic': 1,\n",
    " 'classy': 1,\n",
    " 'comfort': 1,\n",
    " 'comfortable': 1,\n",
    " 'comfortably': 1,\n",
    " 'compliment': 1,\n",
    " 'cool': 1,\n",
    " 'crazy': -1,\n",
    " 'create': 1,\n",
    " 'cut': -1,\n",
    " 'cute': 1,\n",
    " 'definitely': 1,\n",
    " 'difficult': -1,\n",
    " 'disappoint': -1,\n",
    " 'disappointed': -1,\n",
    " 'disappointing': -1,\n",
    " 'disappointment': -1,\n",
    " 'dream': 1,\n",
    " 'easily': 1,\n",
    " 'easy': 1,\n",
    " 'elegant': 1,\n",
    " 'enjoy': 1,\n",
    " 'excellent': 1,\n",
    " 'excited': 1,\n",
    " 'expose': -1,\n",
    " 'fabulous': 1,\n",
    " 'fantastic': 1,\n",
    " 'favorite': 1,\n",
    " 'feeling': 1,\n",
    " 'fine': 1,\n",
    " 'fit': 1,\n",
    " 'flattering': 1,\n",
    " 'flirty': 1,\n",
    " 'forgiving': 1,\n",
    " 'friend': 1,\n",
    " 'fun': 1,\n",
    " 'generous': 1,\n",
    " 'glad': 1,\n",
    " 'good': 1,\n",
    " 'gorgeous': 1,\n",
    " 'great': 1,\n",
    " 'hand': 1,\n",
    " 'happy': 1,\n",
    " 'hate': -1,\n",
    " 'help': 1,\n",
    " 'hesitant': -1,\n",
    " 'hesitate': -1,\n",
    " 'hide': -1,\n",
    " 'holiday': 1,\n",
    " 'honestly': 1,\n",
    " 'hope': 1,\n",
    " 'hopefully': 1,\n",
    " 'hug': 1,\n",
    " 'huge': 1,\n",
    " 'interesting': 1,\n",
    " 'itchy': -1,\n",
    " 'justice': 1,\n",
    " 'lack': -1,\n",
    " 'like': 1,\n",
    " 'loose': -1,\n",
    " 'lose': -1,\n",
    " 'love': 1,\n",
    " 'lovely': 1,\n",
    " 'low': -1,\n",
    " 'miss': -1,\n",
    " 'nice': 1,\n",
    " 'nicely': 1,\n",
    " 'odd': -1,\n",
    " 'ok': 1,\n",
    " 'okay': 1,\n",
    " 'party': 1,\n",
    " 'perfect': 1,\n",
    " 'perfection': 1,\n",
    " 'perfectly': 1,\n",
    " 'pleased': 1,\n",
    " 'pretty': 1,\n",
    " 'problem': -1,\n",
    " 'recommend': 1,\n",
    " 'regret': -1,\n",
    " 'relaxed': 1,\n",
    " 'rich': 1,\n",
    " 'ridiculous': -1,\n",
    " 'romantic': 1,\n",
    " 'ruin': -1,\n",
    " 'sad': -1,\n",
    " 'sadly': -1,\n",
    " 'seriously': -1,\n",
    " 'sexy': 1,\n",
    " 'solid': 1,\n",
    " 'special': 1,\n",
    " 'stop': -1,\n",
    " 'straight': 1,\n",
    " 'strange': -1,\n",
    " 'stunning': 1,\n",
    " 'substantial': 1,\n",
    " 'super': 1,\n",
    " 'support': 1,\n",
    " 'sure': 1,\n",
    " 'surprise': 1,\n",
    " 'surprised': 1,\n",
    " 'surprisingly': 1,\n",
    " 'sweet': 1,\n",
    " 'terrible': -1,\n",
    " 'thank': 1,\n",
    " 'thrill': 1,\n",
    " 'trouble': -1,\n",
    " 'true': 1,\n",
    " 'truly': 1,\n",
    " 'uncomfortable': -1,\n",
    " 'unfortunately': -1,\n",
    " 'vibrant': 1,\n",
    " 'warm': 1,\n",
    " 'waste': -1,\n",
    " 'weird': -1,\n",
    " 'winner': 1,\n",
    " 'wish': 1,\n",
    " 'wonderful': 1,\n",
    " 'wonderfully': 1,\n",
    " 'worried': -1,\n",
    " 'worry': -1,\n",
    " 'worth': 1,\n",
    " 'wow': 1,\n",
    " 'wrong': -1,\n",
    " 'yes': 1}"
   ]
  },
  {
   "cell_type": "code",
   "execution_count": 29,
   "metadata": {},
   "outputs": [],
   "source": [
    "# 텍스트를 받아 점수를 반환하는 예측 함수를 만든다.\n",
    "def predict_with_dictionary(normalized_text):\n",
    "    tokens = normalized_text.split()\n",
    "    review_score = 0\n",
    "    for token in tokens:\n",
    "      token_score = sentiment_vocab.get(token, 0)\n",
    "      review_score = review_score + token_score\n",
    "    review_score = review_score/len(tokens)\n",
    "    pred = review_score > 0\n",
    "    return pred"
   ]
  },
  {
   "cell_type": "code",
   "execution_count": 30,
   "metadata": {},
   "outputs": [],
   "source": [
    "# 정답과 예측\n",
    "predictions_with_dict = df_test['Reviews Preprocessed'].map(predict_with_dictionary)"
   ]
  },
  {
   "cell_type": "code",
   "execution_count": 31,
   "metadata": {},
   "outputs": [
    {
     "data": {
      "text/plain": [
       "0.5804628157569334"
      ]
     },
     "execution_count": 31,
     "metadata": {},
     "output_type": "execute_result"
    }
   ],
   "source": [
    "# 정확도 (accuracy) 구하기\n",
    "corrects_with_dict = df_test['Label'] == predictions_with_dict\n",
    "corrects_with_dict.sum() / len(corrects_with_dict)\n",
    "\n",
    "## 사전으로 하는 감성분석은 정확도가 약 58% 정도 나왔다"
   ]
  },
  {
   "cell_type": "markdown",
   "metadata": {},
   "source": [
    "### 토픽으로 하는 감성분석\n",
    "\n",
    "- 문서의 토픽을 추출하여 긍부정을 예측"
   ]
  },
  {
   "cell_type": "code",
   "execution_count": 32,
   "metadata": {},
   "outputs": [],
   "source": [
    "from gensim.corpora import Dictionary, MmCorpus\n",
    "from gensim.models import LdaMulticore"
   ]
  },
  {
   "cell_type": "code",
   "execution_count": 33,
   "metadata": {},
   "outputs": [],
   "source": [
    "dictionary = Dictionary(tokens_trigram)\n",
    "dictionary.filter_extremes(no_below=10, no_above=0.4)\n",
    "dictionary.compactify()"
   ]
  },
  {
   "cell_type": "code",
   "execution_count": 34,
   "metadata": {},
   "outputs": [],
   "source": [
    "def make_bow_corpus(tokens):\n",
    "    \"\"\"\n",
    "    generator function to read in reviews from the file\n",
    "    and output a bag-of-words represention of the text\n",
    "    \"\"\"\n",
    "    for review in tokens:\n",
    "        yield dictionary.doc2bow(review)\n",
    "\n",
    "corpus_filepath = 'corpus.mm'\n",
    "MmCorpus.serialize(corpus_filepath, make_bow_corpus(tokens_trigram))\n",
    "review_corpus = MmCorpus(corpus_filepath)"
   ]
  },
  {
   "cell_type": "code",
   "execution_count": 35,
   "metadata": {},
   "outputs": [],
   "source": [
    "# warnings.filterwarnings(\"ignore\", category=DeprecationWarning)\n",
    "lda = LdaMulticore(review_corpus,\n",
    "                    num_topics=10,\n",
    "                    id2word=dictionary,\n",
    "                    workers=2,\n",
    "                    random_state=13)"
   ]
  },
  {
   "cell_type": "code",
   "execution_count": 36,
   "metadata": {},
   "outputs": [],
   "source": [
    "import pyLDAvis\n",
    "import pyLDAvis.gensim_models\n",
    "pyLDAvis.enable_notebook()"
   ]
  },
  {
   "cell_type": "code",
   "execution_count": 37,
   "metadata": {},
   "outputs": [
    {
     "name": "stderr",
     "output_type": "stream",
     "text": [
      "C:\\Users\\82104\\Anaconda3\\lib\\site-packages\\ipykernel\\ipkernel.py:287: DeprecationWarning: `should_run_async` will not call `transform_cell` automatically in the future. Please pass the result to `transformed_cell` argument and any exception that happen during thetransform in `preprocessing_exc_tuple` in IPython 7.17 and above.\n",
      "  and should_run_async(code)\n"
     ]
    }
   ],
   "source": [
    "ldavis = pyLDAvis.gensim_models.prepare(topic_model=lda, \n",
    "                                     corpus=review_corpus, \n",
    "                                     dictionary=dictionary)"
   ]
  },
  {
   "cell_type": "code",
   "execution_count": 38,
   "metadata": {},
   "outputs": [
    {
     "name": "stderr",
     "output_type": "stream",
     "text": [
      "C:\\Users\\82104\\Anaconda3\\lib\\site-packages\\ipykernel\\ipkernel.py:287: DeprecationWarning: `should_run_async` will not call `transform_cell` automatically in the future. Please pass the result to `transformed_cell` argument and any exception that happen during thetransform in `preprocessing_exc_tuple` in IPython 7.17 and above.\n",
      "  and should_run_async(code)\n"
     ]
    },
    {
     "data": {
      "text/html": [
       "\n",
       "<link rel=\"stylesheet\" type=\"text/css\" href=\"https://cdn.jsdelivr.net/gh/bmabey/pyLDAvis@3.3.1/pyLDAvis/js/ldavis.v1.0.0.css\">\n",
       "\n",
       "\n",
       "<div id=\"ldavis_el1442413802614412008641321453\"></div>\n",
       "<script type=\"text/javascript\">\n",
       "\n",
       "var ldavis_el1442413802614412008641321453_data = {\"mdsDat\": {\"x\": [0.032219693734396614, 0.015374362634284247, -0.011429127363395268, 0.009041709196436275, 0.05441707802872655, 0.01635993879324989, -0.02218816424698261, 0.005997385871003987, 0.018103140388793928, -0.11789601703651369], \"y\": [-0.01611693820631427, 0.04147595234865359, 0.008346557820625397, 0.03610775512443202, -0.0517393442418868, -0.0217600131843584, 0.04457953277028026, -0.030889122774448333, 0.020712969630459738, -0.030717349287443265], \"topics\": [1, 2, 3, 4, 5, 6, 7, 8, 9, 10], \"cluster\": [1, 1, 1, 1, 1, 1, 1, 1, 1, 1], \"Freq\": [14.980163230279016, 14.445463811863906, 11.926727747792961, 9.610935867565086, 9.46371854225058, 9.242673944842554, 9.013366254965243, 8.729115244273203, 8.64908982947275, 3.9387455266947002]}, \"tinfo\": {\"Term\": [\"dress\", \"love\", \"great\", \"like\", \"size\", \"order\", \"fit\", \"wear\", \"color\", \"jean\", \"sweater\", \"perfect\", \"small\", \"shirt\", \"long\", \"look\", \"comfortable\", \"medium\", \"print\", \"work\", \"length\", \"flattering\", \"feel\", \"skirt\", \"legging\", \"design\", \"jacket\", \"buy\", \"petite\", \"fall\", \"straight_figure\", \"chunky_necklace\", \"regualr\", \"inconsistent\", \"chocolate\", \"humid\", \"slinky\", \"ddd\", \"border\", \"an_undershirt\", \"downsize\", \"leg_opening\", \"eye_catching\", \"from_my_usual\", \"squish\", \"elastic_waistband\", \"occasionally\", \"39\", \"skort\", \"maintain\", \"once_again\", \"127_lb\", \"34d_chest\", \"te\", \"finger_cross\", \"layer_underneath\", \"divine\", \"large_for_reference\", \"xspetite\", \"5'8_135\", \"already_sell\", \"adn\", \"eyelet\", \"size\", \"exchange\", \"compare\", \"tee\", \"run\", \"promo\", \"skirt\", \"2\", \"large\", \"small\", \"my_usual\", \"available\", \"fabric\", \"wide\", \"my_normal\", \"detail\", \"blouse\", \"little\", \"6\", \"bust\", \"4\", \"0\", \"store\", \"soft\", \"fit\", \"pretty\", \"shoulder\", \"cute\", \"nice\", \"order\", \"bit\", \"look\", \"try\", \"great\", \"color\", \"beautiful\", \"like\", \"love\", \"waist\", \"wear\", \"true\", \"buy\", \"think\", \"feel\", \"usually\", \"work\", \"find\", \"big\", \"baby_shower\", \"bailey_44\", \"3_inch_above\", \"initial\", \"fill\", \"engagement\", \"70\", \"goddess\", \"hippie\", \"aka\", \"vs.\", \"quality_control\", \"an_evening\", \"with_flip_flop\", \"lady_who\", \"someone_tall\", \"poof\", \"5ft2\", \"many_occasion\", \"earring\", \"folk\", \"glam\", \"dirty\", \"horizontal\", \"'s_wedding\", \"translate\", \"playful\", \"skim_over\", \"postpartum\", \"115_lb_30dd_chest\", \"5'6_125_lb\", \"slip\", \"dress\", \"sequin\", \"absolutely_stunning\", \"shapeless\", \"matronly\", \"wedding\", \"look\", \"maxi\", \"material\", \"sack\", \"fabric\", \"absolutely_gorgeous\", \"belt\", \"cute\", \"lovely\", \"return\", \"try\", \"think\", \"summer\", \"swing\", \"cheap\", \"knee\", \"like\", \"unfortunately\", \"work\", \"cut\", \"print\", \"flattering\", \"need\", \"love\", \"definitely\", \"size\", \"pretty\", \"quality\", \"want\", \"wear\", \"petite\", \"buy\", \"way\", \"feel\", \"perfect\", \"great\", \"color\", \"short\", \"small\", \"fit\", \"little\", \"nice\", \"beautiful\", \"order\", \"long\", \"shawl\", \"fyi_36c\", \"eye_closure\", \"local_retailer\", \"3rd\", \"present\", \"every_year\", \"sport_bra\", \"steep\", \"rust\", \"negative_review\", \"percent\", \"motif\", \"summer_heat\", \"minimal\", \"skimpy\", \"only_drawback\", \"cooler_weather\", \"peachy_pink\", \"pattern_placement\", \"law\", \"appealing\", \"july\", \"confusing\", \"80\", \"wearer\", \"floreat\", \"skinnys\", \"capri\", \"mood\", \"squeeze\", \"many_thing\", \"basic_tee\", \"high_waiste\", \"shirt\", \"blouse\", \"navy\", \"color\", \"my_wardrobe\", \"buy\", \"tuck\", \"piece\", \"love\", \"think\", \"grey\", \"short\", \"wear\", \"sweater\", \"receive\", \"look\", \"great\", \"comfortable\", \"tank\", \"quality\", \"nice\", \"fit\", \"t_shirt\", \"wish\", \"like\", \"light\", \"soft\", \"purchase\", \"pant\", \"true\", \"lightweight\", \"flattering\", \"beautiful\", \"want\", \"size\", \"fabric\", \"perfect\", \"work\", \"little\", \"black\", \"feel\", \"dress\", \"small\", \"lengthen\", \"linen_blend\", \"degree\", \"cross_over\", \"droopy\", \"eliminate\", \"overpriced\", \"washing_machine\", \"sh\", \"clung\", \"rid\", \"land\", \"tightness\", \"potato_sack\", \"elevense\", \"115_lb_30_dd\", \"grant\", \"clip\", \"mismatch\", \"concerned_that\", \"next_time\", \"rub\", \"point_where\", \"fortunately\", \"big_cheste\", \"mint_green\", \"kimono\", \"5'5_tall_145_lb\", \"tape\", \"heft\", \"shed\", \"grandma\", \"itch\", \"fall_apart\", \"nearly\", \"its_own\", \"like\", \"picture\", \"unflattering\", \"wash\", \"cheap\", \"look\", \"pull\", \"fabric\", \"person\", \"bad\", \"hold_up\", \"color\", \"bit\", \"feel\", \"model\", \"thin\", \"nice\", \"eye\", \"shoulder\", \"scratchy\", \"online\", \"sew\", \"shirt\", \"love\", \"wear\", \"disappointed\", \"sweater\", \"xs\", \"if_you\", \"fit\", \"waist\", \"design\", \"way\", \"work\", \"petite\", \"try\", \"beautiful\", \"buy\", \"soft\", \"order\", \"little\", \"material\", \"small\", \"size\", \"raise_your_arm\", \"ag_jeans\", \"c.\", \"restock\", \"no_trouble\", \"receive_several\", \"brocade\", \"who_say\", \"camel\", \"34_b\", \"sizing_issue\", \"frustrating\", \"5'4_120\", \"freeze\", \"emerald_green\", \"26_27\", \"107_lb\", \"ample_room\", \"well_made\", \"albeit\", \"5\\\"3\", \"dolman\", \"really_look_forward\", \"haha\", \"bracelet\", \"magical\", \"5'7_140_lb\", \"sash\", \"theme\", \"son\", \"2p\", \"pleasantly_surprise_by\", \"adjustment\", \"suit\", \"customer_service\", \"mistake\", \"sz\", \"another_pair\", \"local_store\", \"26\", \"review\", \"petite\", \"medium\", \"swim\", \"length\", \"size\", \"order\", \"small\", \"regular\", \"usually\", \"sweater\", \"buy\", \"waist\", \"hip\", \"for_reference\", \"try\", \"6\", \"sleeve\", \"short\", \"big\", \"fit\", \"perfect\", \"wear\", \"retailer\", \"sell_out\", \"long\", \"online\", \"10\", \"flattering\", \"large\", \"find\", \"love\", \"think\", \"color\", \"comfortable\", \"beautiful\", \"dress\", \"great\", \"work\", \"look\", \"cranberry\", \"around_town\", \"sock\", \"cold_winter\", \"depend_on_where\", \"dusty_rise\", \"regularly\", \"110_pound\", \"tacky\", \"32_dd\", \"lounge_around\", \"crush\", \"pxxs\", \"3/4_length\", \"peachy\", \"surely\", \"insert\", \"5'5_135lbs_34c\", \"chino\", \"mp\", \"cottony\", \"unless_you_want\", \"caution\", \"25p\", \"front_panel\", \"5'5_110\", \"5'3_135\", \"truth\", \"lose_their\", \"unsure\", \"slide\", \"lover\", \"wonderfully\", \"crop\", \"legging\", \"order\", \"side_slit\", \"fall\", \"fit\", \"small\", \"skinny_jean\", \"tunic\", \"tight\", \"love\", \"size\", \"wear\", \"boot\", \"m\", \"normally\", \"great\", \"run\", \"large\", \"you_can\", \"true\", \"black\", \"bit\", \"chest\", \"long\", \"huge\", \"look\", \"medium\", \"length\", \"shoulder\", \"xs\", \"color\", \"comfortable\", \"perfect\", \"nice\", \"material\", \"cute\", \"little\", \"like\", \"dress\", \"sweater\", \"shirt\", \"fabric\", \"makeup\", \"butter\", \"alot\", \"fabric_content\", \"jersey_knit\", \"sort_of_like\", \"un\", \"receive_ton\", \"investment\", \"few_week_ago\", \"crooked\", \"slight_flare\", \"nursing\", \"shoulder_trend\", \"destroy\", \"exciting\", \"5'5_125_lb\", \"indoor\", \"bed\", \"gentle\", \"repeat\", \"lounge_pant\", \"winter_month\", \"undertone\", \"lifestyle\", \"circle\", \"meeting\", \"coverup\", \"window\", \"shortness\", \"fleece\", \"positive\", \"dressy\", \"post\", \"chilly\", \"jacket\", \"coat\", \"vest\", \"casual\", \"'ve_ever\", \"skirt\", \"comfortable\", \"easily\", \"wear\", \"super_cute\", \"dress\", \"great\", \"little\", \"pair\", \"sweater\", \"perfect\", \"warm\", \"love\", \"white\", \"purchase\", \"fit\", \"flattering\", \"line\", \"look\", \"piece\", \"like\", \"fabric\", \"jean\", \"bit\", \"long\", \"feel\", \"style\", \"buy\", \"nice\", \"soft\", \"beautiful\", \"color\", \"material\", \"size\", \"shirt\", \"subtly\", \"essential\", \"saturday\", \"ag_jean\", \"pain\", \"june\", \"3/4_length_sleeve\", \"red_motif\", \"relax\", \"fluctuate\", \"38_30_40\", \"going\", \"early_spring\", \"it&#39;s\", \"stay_away\", \"pleasing\", \"waist_definition\", \"ag_stevie\", \"4th\", \"outline\", \"balance_out\", \"i&#39;m\", \"affordable\", \"stevie\", \"1.5\", \"we_'ll\", \"solution\", \"develop\", \"4_inch\", \"sell_out_online\", \"at_first_sight\", \"an_hour\", \"inseam\", \"ag\", \"pullover\", \"buy_my_usual\", \"long\", \"cuff\", \"love\", \"s\", \"sleeve\", \"t_shirt\", \"fit\", \"perfect\", \"cardigan\", \"comfy\", \"medium\", \"shoulder\", \"like\", \"pant\", \"length\", \"wear\", \"try\", \"store\", \"size\", \"way\", \"great\", \"true\", \"if_you\", \"sweater\", \"style\", \"large\", \"slightly\", \"want\", \"run\", \"short\", \"flattering\", \"look\", \"small\", \"soft\", \"little\", \"color\", \"cute\", \"dress\", \"order\", \"color_blocking\", \"heeled\", \"suede_boot\", \"athletic_frame\", \"xs_p\", \"155_lb\", \"sigh\", \"hugging\", \"satisfied\", \"tangerine\", \"end_up_keep\", \"few_pound\", \"process\", \"5\\\"1\", \"heal\", \"purse\", \"become_available\", \"reddish\", \"fill_out\", \"prior_review\", \"tracy_reese\", \"slight_sheen\", \"an_outdoor\", \"light_airy\", \"hug_your\", \"recommendation\", \"unnecessary\", \"an_8/10\", \"few_year\", \"full_coverage\", \"an_hourglass\", \"pinch\", \"6p\", \"g\", \"120\", \"dress\", \"absolutely\", \"8\", \"wear\", \"6\", \"boot\", \"wedding\", \"many_compliment\", \"figure\", \"color\", \"fit\", \"beautiful\", \"think\", \"order\", \"flattering\", \"good\", \"gorgeous\", \"like\", \"love\", \"perfect\", \"look\", \"plan\", \"find\", \"small\", \"easy\", \"bit\", \"petite\", \"work\", \"size\", \"little\", \"large\", \"cut\", \"run\", \"tight\", \"great\", \"buy\", \"feel\", \"material\", \"skirt\", \"medium\", \"immediately_catch\", \"ponchos\", \"mother_'s_day\", \"brown_boot\", \"twill\", \"bland\", \"royal_blue\", \"brilliant\", \"few_week\", \"sheath\", \"semi_sheer\", \"know_why\", \"legge\", \"agree_with_another_reviewer\", \"5'6_145_lb\", \"count\", \"exaggerated\", \"free_shipping\", \"temp\", \"self\", \"guy\", \"tencel\", \"complexion\", \"upper_part\", \"highly_recommend_these\", \"multiple_season\", \"tip\", \"well_suited\", \"wardrobe_staple\", \"your_typical\", \"thrilled\", \"29\", \"poncho\", \"cape\", \"dream\", \"morning\", \"single\", \"transition\", \"my_eye\", \"great\", \"jean\", \"print\", \"rib\", \"like\", \"love\", \"denim\", \"work\", \"set\", \"design\", \"feel\", \"color\", \"perfect\", \"fit\", \"legging\", \"flattering\", \"cute\", \"light_weight\", \"cut\", \"sweater\", \"soft\", \"little\", \"weight\", \"buy\", \"fall\", \"wear\", \"year\", \"look\", \"length\", \"material\", \"dress\", \"black\", \"comfortable\", \"big\", \"nice\", \"try\"], \"Freq\": [11530.0, 10330.0, 6113.0, 7859.0, 9721.0, 4690.0, 9680.0, 9955.0, 6834.0, 1862.0, 2908.0, 3681.0, 5170.0, 2699.0, 3092.0, 9015.0, 2841.0, 2320.0, 992.0, 2851.0, 2709.0, 3446.0, 2939.0, 2225.0, 866.0, 1662.0, 1165.0, 4160.0, 2403.0, 1598.0, 21.054884931711307, 5.171295203619919, 11.969078706909194, 8.935036414942067, 7.010569995939996, 8.96650883741586, 12.198371707013886, 9.70155728485981, 17.85233698340931, 14.495125198731298, 8.79110298400856, 7.719003477505761, 6.939670834896178, 26.933890904385187, 7.153089910922839, 17.904037518897475, 9.75289282533814, 12.00320126186237, 20.990936910294973, 12.345880073733904, 9.15112241769703, 9.393306683271774, 7.230387680804711, 9.480299773054458, 13.463081655324679, 16.78364055154575, 13.2633756433485, 8.69549500433884, 14.410552720026107, 10.739731848738376, 14.162454639598764, 15.939068969586279, 27.624421156795236, 3397.9971690286316, 141.2030264227586, 62.96296482255214, 268.34872012760064, 926.3764311413765, 21.275039621170993, 667.5308196160953, 374.43328815783315, 895.3049030639074, 1269.6539602260968, 124.05351868005086, 110.20567070544759, 1121.673392968079, 244.84728708036573, 109.19570488166958, 366.33296062226884, 292.932508929153, 845.4412284746844, 270.95954062911494, 286.949062881303, 277.9100308789729, 146.67893683288392, 466.19333816601727, 641.7023216970778, 1506.827090631461, 501.39619773590954, 312.2163552215178, 535.8368581559392, 604.1613085726501, 822.8447501715881, 545.6085851716315, 1223.464849386437, 650.9228032431928, 881.9013906094976, 937.2785947264241, 535.2760108544468, 922.187022896959, 984.6516687655931, 412.12843218113784, 897.2772196569289, 360.9411020691322, 525.9400923589636, 475.54297868248364, 442.89574699445893, 376.4546529146302, 407.1577644339514, 378.72365894828397, 377.16920118222725, 11.645137135039267, 9.787347662789982, 12.907604759333658, 11.486038361485209, 20.695815834050467, 8.011381866759923, 16.317316875793345, 12.03627605158239, 7.370045739725169, 8.641692575430698, 13.812462096862964, 9.048437338991263, 20.016973095063562, 10.178145408925445, 12.343156673965554, 27.351130622966583, 17.180862363706588, 8.741822851119137, 14.935581043385929, 16.16299232864014, 10.385513317244161, 5.373911127343443, 16.853517994782997, 11.456251809659538, 5.327920060807142, 7.928041817637033, 12.097606830625093, 10.723070125680566, 11.602528621943462, 7.0658901619905246, 9.434737249942206, 269.65732438358924, 5894.994579620115, 26.263567894910214, 18.755013987421094, 72.69893115215723, 20.367765371941406, 104.9520413785002, 2135.1869599017305, 61.96347308578842, 745.402027943405, 59.4219781165899, 1009.7098348837984, 33.45907851961452, 170.85053939732896, 536.9830470151072, 277.91005516313203, 390.3450000486619, 673.5941388865732, 621.1126292405113, 297.6301884104682, 99.10258404831362, 117.46588690300153, 185.54890336068556, 1029.4105861970893, 170.8182361739202, 492.979250598682, 353.6635324798033, 228.126676570899, 530.5292775648627, 287.45531219139843, 1050.4506602469191, 242.65338431446267, 963.3983445555145, 378.439552051885, 308.60316154114645, 348.61832176578855, 947.5584330453555, 383.22875540177256, 530.2446291609432, 342.34382656823703, 427.8660059371278, 483.15858699779216, 622.1550387129058, 632.8590486411914, 393.1726894851463, 521.4224288290512, 612.8495683392581, 422.66694896232246, 385.80413420664826, 367.6336919603812, 389.20305518948595, 354.644410357662, 24.952312969866508, 7.998667787246099, 9.70027230472405, 13.475400518111377, 10.53326344030467, 11.235994748248656, 9.595505711220136, 12.677499461261988, 9.557937532174595, 16.15549364153062, 14.905628091888616, 8.368971743458264, 35.553569064694315, 6.192135778024399, 18.755384563662293, 8.19710746403393, 19.866523740061428, 16.543016829315274, 6.934579089206702, 6.634700871980954, 6.095547806960699, 12.01238981654299, 10.183890517718519, 7.326714396065547, 9.670355037548195, 5.906373372858816, 10.393628727414223, 8.01714300563257, 13.341287155345691, 7.099629038468176, 13.455105054817773, 27.088446137637824, 18.36234893978278, 57.56642362274135, 940.6422663752866, 348.79857381114493, 178.58357533153915, 1604.9177718316523, 64.10269310227372, 875.762562245252, 89.8235844276086, 294.09204553487984, 1760.8185355109617, 692.252723163134, 153.46047311425517, 603.694959507299, 1578.220066846596, 597.9523275041112, 216.1357875667101, 1269.9959037080437, 951.1817018898993, 518.647469516834, 168.17494072617848, 347.1949041746497, 521.14990156718, 1183.0998293265664, 108.72048634727781, 224.0149770454928, 990.0871494397296, 225.17718113362056, 486.7054054067522, 392.14794338764244, 255.23317913973463, 278.0630794166636, 137.8076790581392, 415.77077871535926, 372.94421342733, 298.37899506048626, 707.9485470244199, 472.4239599740679, 371.0322752429585, 332.45900010360464, 352.4822503175013, 270.8603435770603, 302.2730426726618, 397.38890805007884, 333.43754665074033, 10.9591220835877, 12.780681707199546, 21.911582459796918, 11.359136995857568, 14.160678023406886, 13.772619561354267, 10.350775454243115, 13.287916778176418, 10.929316797383768, 12.640294520803678, 13.054371999964694, 8.518405102138049, 15.275615389943729, 25.381248776172924, 11.37877157742791, 22.853767976616265, 9.355568521990543, 20.129717245257183, 13.300267586529403, 17.622822084049936, 18.34105815230623, 16.310336432740055, 12.155067363419846, 12.78378485318564, 9.39905638336649, 12.36446650524811, 70.45753875031767, 7.428418609635223, 9.070919526641172, 9.965776320605952, 36.701036875277666, 16.773166346640924, 29.999330519694084, 24.517878857475374, 38.771039251117806, 29.170962938406337, 1502.8414643163537, 447.1004921432934, 107.56429185029381, 259.32882970330826, 119.00616575768477, 1297.8798212482038, 166.00370248360295, 745.599460150931, 293.5839065733973, 100.96363599580738, 63.818616508569384, 888.8992478762128, 443.00181095232796, 458.9904143585432, 271.8605284810153, 234.47166493150337, 450.19674224941787, 70.66300724056354, 227.58153152904754, 58.186774324074634, 259.11565506719694, 67.40139967934681, 356.39677622817385, 796.542359669835, 753.5684309882854, 110.79500012268235, 346.21487153620313, 235.54445697829576, 255.062302793895, 657.9553542330334, 271.5914512446211, 236.41549856345893, 262.9841747710605, 313.29849184451484, 271.58549780158114, 329.52334809847133, 296.6814898829824, 319.4228607626691, 278.36844624305064, 316.9636520480898, 294.5954402197975, 256.9726914080004, 262.2644287924193, 265.3699423639689, 17.162897027945505, 14.135794633059994, 13.29361253011466, 16.324610831525927, 9.101076010271708, 23.979927105710747, 18.828378677443368, 19.172883477846796, 14.23855093597137, 21.989285798053366, 14.421377030191518, 8.816254687109268, 15.013669407592612, 9.192788252817584, 8.565854278102499, 8.311611718723922, 10.920831455746212, 8.402301179709115, 4.098577482257302, 8.333306570749706, 14.705164254708233, 11.119636566728047, 15.396601370256628, 7.920048356761829, 6.123918740948423, 8.366522922666203, 6.90387526642518, 9.82934316445412, 7.456314528850376, 8.810983047433076, 35.673687177122545, 11.568484183902196, 10.71118811388308, 160.1751408987504, 19.472978621909235, 26.70588752616742, 21.8599315160217, 34.52161640764643, 14.339687481086088, 84.65322206792594, 222.9549499730982, 578.0909182113475, 527.5816359597704, 56.60573371981041, 551.6707757654091, 1441.8105770174661, 819.0520295115937, 876.7080509672825, 266.8205600848568, 387.1461622065829, 517.8749268507864, 648.7228377663135, 388.3918111230012, 219.4297458849817, 136.15305482198644, 546.6641426111063, 203.66751354581922, 336.61825203302647, 438.17906334888977, 352.2699617196674, 901.2366105509374, 469.1401635338169, 884.5685360908319, 273.8802482708244, 102.10356739739929, 373.6176961130381, 244.61136917807835, 126.57568867794902, 369.6417325276932, 338.90330730805516, 255.4259077418375, 544.2312862054273, 299.5353557679141, 380.8557641934399, 276.28114522834437, 270.73448341000073, 339.0934569709332, 294.5786309586471, 266.87121535750543, 296.4324826594002, 15.57698360566609, 9.944393107995293, 38.23778049557294, 9.786369850827501, 6.607552304799912, 9.141120594171108, 8.633353747261095, 9.590260194408593, 7.085102311356559, 5.957512371268876, 15.568298906362847, 7.5576813430336225, 8.093761193892309, 13.152311166498897, 8.587922104000166, 8.647622849138903, 7.205296145740051, 10.670966436038448, 16.932201503987017, 12.0854111927878, 6.1906832842594515, 5.060708022290277, 11.445617159675608, 10.6762130389026, 13.134018863162126, 5.291501212165854, 8.585880108204716, 5.874524170020398, 6.326064289672359, 13.87421747032214, 13.252888439785172, 9.65917271692633, 33.489261577428195, 90.86802815215204, 265.1042621938824, 1120.3081057118534, 30.456226366546964, 371.1900277590617, 1493.1561345820585, 872.327517358426, 98.7267995646744, 130.41741377116435, 324.0216822716346, 1233.0630571768481, 1141.8146375373012, 1108.8461373882812, 121.38226488369178, 138.2117808020895, 176.84468333930013, 698.6852139584508, 400.0533150347625, 423.20555731195174, 161.6661721404977, 247.76463969929208, 257.6995820141624, 345.51786872190235, 160.47975876740261, 353.67225701964844, 110.19814062131582, 699.2617254642188, 291.39913323708026, 319.7039249915683, 191.01835576272137, 220.65770091545417, 524.4710854192423, 306.5159369255931, 351.64666350707034, 307.35804604416023, 296.1003104583868, 277.9109966578644, 331.9604092867782, 448.4186955892464, 518.6750668690371, 283.4060930022406, 273.5391251076248, 328.76899367670404, 20.582989042253782, 12.714198217470841, 16.885573893954167, 10.981136252311058, 13.852507294445147, 14.139819954066102, 13.095947021572176, 22.474335158096945, 17.34770632603, 10.648756512070397, 15.617674476845455, 8.909098756445173, 9.047244559648838, 6.788046541094554, 4.464899804390115, 8.203551947854299, 10.46433441122267, 8.523778888585559, 16.034227174175935, 16.978219454116587, 7.648873657075437, 13.601006321183382, 6.484815330896703, 11.944845169504548, 8.64783916601638, 13.762625081488245, 6.915448838390461, 13.518922379131185, 15.23878602677499, 7.069309747301184, 22.480082812499063, 19.764561319195423, 93.808941461797, 25.792891497300513, 22.387658212327725, 338.0252626234893, 179.19991086146885, 110.98045375201298, 274.3217858117273, 36.378049930474894, 503.2416611675089, 591.0717701838367, 108.69938136800027, 1315.1981020207695, 112.74375759497632, 1387.1801844222339, 844.0811349086105, 520.9933066089395, 251.04478249774067, 396.72027704231647, 457.206791954676, 153.95349653625388, 881.974932653018, 239.40389878425816, 318.316019446451, 802.4744332594555, 407.3130774576214, 184.09476748338002, 740.3449676387862, 192.6831913161852, 665.5623628606203, 473.0106265713234, 258.54045677856163, 313.83926224180783, 335.2473967297756, 324.75925590048956, 230.7417928783299, 333.63988584832794, 286.91894125245966, 277.3802816726488, 272.75894118408627, 363.5578686405656, 262.14930469531464, 310.1888522896594, 245.38712887247658, 10.095625566822122, 18.852404470408608, 11.825155763792266, 11.411960046233615, 18.231100556577072, 7.809116827733333, 13.55615650102612, 18.657053569750897, 18.362559288155033, 8.065081519110036, 12.841090313663303, 7.19548138340475, 8.680750536642694, 13.279696236275644, 11.56843883953, 9.278153278086895, 5.914833275725613, 12.556477488515608, 6.254853631031335, 5.216317190465587, 7.989008788041162, 6.790593500681103, 6.153094723954224, 15.625155763806495, 10.793234470965603, 8.839773742995188, 6.03888385082867, 13.56582396581213, 12.039418830006523, 8.385622109023616, 21.501369416235576, 18.037599900900673, 31.651770324433322, 31.305234314463146, 34.419530653782076, 19.14519334284327, 683.2437691264322, 65.15838384126384, 1582.4247917228822, 181.65317953837993, 371.4486061197257, 96.52658650714328, 1157.713598261086, 544.7530001259984, 121.81221709760703, 155.84259086548826, 357.20966355164194, 221.063658605837, 793.9389627958251, 237.32051123218884, 376.25429516637166, 918.7593598552119, 456.34713623219346, 300.46339633586547, 865.645084392941, 297.5986012263471, 599.9833086525986, 251.9334485940134, 270.06578677919714, 362.6006250135905, 257.5048311237028, 371.8643553841309, 149.2122732052796, 266.9221553145821, 335.4826621097265, 323.410713937418, 317.2358749204517, 466.95648792883475, 355.9084272278572, 272.7413923821352, 296.3188475777192, 370.0180562002934, 246.7395682336007, 290.26666231832957, 250.451039622016, 13.742645751043854, 12.9153129830843, 8.265136733274884, 7.364744163156013, 17.82358193711175, 12.492553879433908, 6.7261444769362955, 11.179988184430888, 7.886219975245171, 9.095028727537294, 13.817449628112266, 9.568492704323171, 6.554979491491662, 6.299460881524187, 13.956026657916698, 5.863060759070344, 8.689595954423764, 9.425038341238858, 6.2209697534248365, 5.849543855308609, 15.433833430852514, 7.5290168851904316, 8.46291857727473, 12.957093209001492, 7.9420006364407785, 7.199662107620415, 9.281001542463999, 6.598514781670599, 8.612142996933756, 6.6996562584503625, 42.11782658784533, 9.47995149000748, 17.626122662933863, 14.741939909299045, 13.303522854862397, 1928.3522349792743, 175.62009486698142, 126.31490842859313, 1331.6652002547976, 202.99641853390375, 125.46184506104811, 70.55130787976222, 78.62598426363341, 117.89917425301026, 835.2985333943208, 1040.6458769908625, 410.81367214640704, 436.2547320253938, 540.6914579912211, 427.26814105836456, 300.93079883598153, 173.82626016907972, 697.7509344317087, 827.1982893118563, 388.6404372007251, 699.3220653730938, 85.71876586665978, 241.75659451273333, 430.0109593652165, 114.4041360500065, 288.45773360382685, 262.8673012721365, 290.38830170601756, 580.6726777504393, 325.16970110676056, 294.2751090381936, 211.26289402890464, 252.833055237994, 186.79057273634092, 348.00868913619985, 278.62544342839436, 241.28127527464682, 226.961357535938, 208.8172071319176, 207.8565153373657, 21.795895699108684, 16.143455201382675, 17.76988661817345, 12.31295791301903, 9.704127310627271, 10.993376953444981, 8.187839369068135, 11.904206666181015, 20.755631094233227, 33.974491949046325, 10.971014547384085, 24.217693288605624, 17.225404244916216, 14.562364443081433, 10.47047393111566, 18.36295373547116, 6.149960169718239, 19.86486996590538, 20.566263635020903, 26.401882512592373, 5.581496880204188, 7.1413238646837405, 13.804352944034889, 9.095407922118756, 7.658129654714432, 8.75080714233311, 6.879353653088884, 11.404364323136436, 15.616234189320041, 12.825485749217947, 31.318868209207835, 60.36775732259633, 57.822500788027476, 25.082270937328914, 43.80770737025413, 23.527333042942818, 15.280556705470863, 34.09007324172777, 31.459005639849046, 621.5250976999007, 269.8820310947065, 156.53993225585174, 27.962076885344842, 563.8336838737142, 669.5099249513316, 87.97449438633176, 223.70307734827728, 34.39856399338096, 153.5812226110674, 194.0831420409624, 296.63111907573744, 205.91784873712993, 324.94320865273437, 97.09519086790309, 189.0366778837264, 161.6124809804649, 50.10658401955187, 132.05843063676014, 153.99758656682985, 152.8714567284248, 166.36737073197318, 76.83177292241879, 165.9525799516358, 108.6678272627219, 220.32636463082056, 61.11414427987924, 186.16790300411017, 121.29269193181636, 122.3901466445095, 183.71371166016453, 103.47867515241158, 115.40101808198841, 102.58126806442876, 110.13733325333621, 89.05942963710928], \"Total\": [11530.0, 10330.0, 6113.0, 7859.0, 9721.0, 4690.0, 9680.0, 9955.0, 6834.0, 1862.0, 2908.0, 3681.0, 5170.0, 2699.0, 3092.0, 9015.0, 2841.0, 2320.0, 992.0, 2851.0, 2709.0, 3446.0, 2939.0, 2225.0, 866.0, 1662.0, 1165.0, 4160.0, 2403.0, 1598.0, 22.087279136357562, 6.1690961722091, 14.595969767133607, 10.918862317315508, 8.665795230067578, 11.31545429960045, 15.47609712260969, 12.508581161781503, 23.165488333744538, 19.055674330319157, 12.061981748280736, 10.618592082106808, 9.622755346727612, 37.67038241606635, 10.154727378660061, 25.737906880592647, 14.020704110585108, 17.298714296159428, 30.827867609023432, 18.315304585115157, 13.715594209789463, 14.174433416563957, 11.043493919582149, 14.590894763211512, 20.795040076875416, 26.05243499862173, 20.66389732656387, 13.69644174165836, 22.86472916199066, 17.051045633175022, 22.677522443341335, 25.709559207541176, 47.922143565571666, 9721.768888262613, 306.10493789237216, 123.9978664043531, 660.2063041443946, 2956.822134135798, 36.18571887528392, 2225.1141650439836, 1117.0871049292396, 3264.1703498276365, 5170.33512463958, 311.94408039356443, 271.4722640963482, 4812.62413838589, 749.1680500729102, 275.769877105075, 1275.6394195171438, 964.5195095195742, 3756.3703109392845, 897.1618164645798, 972.2233110060297, 937.0889459073253, 415.4600334262451, 1965.9552623247987, 3027.1992643914823, 9680.90170482745, 2260.727242276807, 1216.8645966654954, 2551.427640125792, 3030.9622588348116, 4690.671035489209, 2756.7821887983077, 9015.01316631286, 3612.6676230892804, 6113.093181592041, 6834.78708999908, 2943.3992567347636, 7859.879211608601, 10330.865506214672, 2098.790951486295, 9955.987850777878, 1626.1439982223792, 4160.10507770212, 3258.1838088529857, 2939.4627262983345, 1932.4355828496014, 2851.0162781082117, 2023.9239622255989, 2103.995833768266, 12.67036221464703, 10.745235204398341, 14.35700914955467, 13.225944497243763, 23.927642195149875, 9.627121923986433, 19.72137087062608, 14.73325075158845, 9.117052997136646, 10.769552669401797, 17.370823931245205, 11.571733016037292, 26.372029219798833, 13.424319314203295, 16.330940141891816, 36.3670746767484, 22.919672219830748, 12.063524962913847, 20.903700759901547, 22.67910234623354, 14.927075962450687, 7.730968288750802, 24.9200590818869, 16.975325519587944, 7.909095889264177, 11.786160826624595, 18.329012462308413, 16.284428716266493, 17.721928489663867, 10.93308691516476, 14.625536733910733, 444.64436030442874, 11530.362088659445, 41.57513178054027, 29.514520823997266, 124.96848538957697, 32.865372713426005, 235.6700931995468, 9015.01316631286, 130.01127697616278, 2841.628229963679, 125.83009784233543, 4812.62413838589, 62.20302878127553, 521.7351297380677, 2551.427640125792, 1068.476745629636, 1704.4229411027188, 3612.6676230892804, 3258.1838088529857, 1218.2784276403997, 276.721019765453, 353.01475097206446, 690.6475909351896, 7859.879211608601, 623.7304559170657, 2851.0162781082117, 1856.4071000355216, 992.2794543431887, 3446.416350348828, 1410.5894999247637, 10330.865506214672, 1137.589059606465, 9721.768888262613, 2260.727242276807, 1656.0306189808712, 2013.2010493980465, 9955.987850777878, 2403.1972001491235, 4160.10507770212, 2010.5048568051718, 2939.4627262983345, 3681.3631305728154, 6113.093181592041, 6834.78708999908, 2822.310826806821, 5170.33512463958, 9680.90170482745, 3756.3703109392845, 3030.9622588348116, 2943.3992567347636, 4690.671035489209, 3092.5003714320596, 28.455606351223345, 9.209481484544623, 11.669959196926007, 17.655776285581048, 13.816351677423215, 14.753682549524232, 12.831282665795873, 17.403356625606175, 13.227755937409297, 22.40029050047575, 20.68837358011053, 11.627647711658744, 50.35119093050633, 8.897820844574154, 26.99743401771498, 11.956103770203375, 29.28196211273336, 24.519615103567507, 10.441521787233205, 10.275897814106425, 9.736615714211288, 19.31344185005214, 16.438559930086754, 12.045021338643869, 15.998092599881561, 9.997834898190812, 17.66515105974962, 13.636560752795091, 22.714125380558457, 12.2445806253328, 23.278402029190012, 47.92407050543675, 32.32114509052237, 115.15475018575081, 2699.9571535611353, 964.5195095195742, 464.8460599632806, 6834.78708999908, 151.0926462911804, 4160.10507770212, 247.05426811154365, 1092.8930431479632, 10330.865506214672, 3258.1838088529857, 487.09183357761276, 2822.310826806821, 9955.987850777878, 2908.984787778729, 798.6875487179626, 9015.01316631286, 6113.093181592041, 2841.2706688830654, 600.6603863587414, 1656.0306189808712, 3030.9622588348116, 9680.90170482745, 335.7169597189651, 933.492818796737, 7859.879211608601, 962.8617745697828, 3027.1992643914823, 2312.5105441675055, 1376.042184161633, 1626.1439982223792, 499.0393118407384, 3446.416350348828, 2943.3992567347636, 2013.2010493980465, 9721.768888262613, 4812.62413838589, 3681.3631305728154, 2851.0162781082117, 3756.3703109392845, 1750.9892826803152, 2939.4627262983345, 11530.362088659445, 5170.33512463958, 12.526038221304775, 14.927187895532077, 25.961917405849057, 13.806773317369911, 17.670504370946063, 17.255491661495302, 13.099515248558628, 16.92700482339563, 14.142365429203384, 16.707422735606652, 17.265866126699258, 11.352859962113968, 20.545450128847293, 34.385039578850616, 15.466434159379235, 31.131464812027286, 13.177844331015363, 28.530951824613478, 19.112848292320155, 26.125775197685343, 27.262309404137167, 24.34686320473617, 18.423057729817266, 19.728580842279804, 14.73880195145787, 19.47702660495587, 112.29596075222723, 12.050844795930232, 14.77983198128984, 16.25780420425433, 60.519412102290126, 28.00694190678088, 51.769796070519185, 42.310679111440116, 73.26386951115067, 55.616228755442634, 7859.879211608601, 1747.4451230215755, 297.0169254883533, 954.5713588752167, 353.01475097206446, 9015.01316631286, 583.1420020125249, 4812.62413838589, 1320.991445643177, 306.80162398761706, 163.15445303243385, 6834.78708999908, 2756.7821887983077, 2939.4627262983345, 1420.357198349209, 1151.7563461865138, 3030.9622588348116, 206.26565165718705, 1216.8645966654954, 154.31931950163136, 1582.1795536159718, 197.3483814438058, 2699.9571535611353, 10330.865506214672, 9955.987850777878, 440.4602232190595, 2908.984787778729, 1540.9274310262058, 1816.2489780131557, 9680.90170482745, 2098.790951486295, 1662.9389206511314, 2010.5048568051718, 2851.0162781082117, 2403.1972001491235, 3612.6676230892804, 2943.3992567347636, 4160.10507770212, 3027.1992643914823, 4690.671035489209, 3756.3703109392845, 2841.628229963679, 5170.33512463958, 9721.768888262613, 18.09433933176964, 15.097247147883676, 15.467345189278598, 20.054920161292287, 11.959636665746219, 32.14158870022705, 25.42597054343742, 26.102800238203784, 19.416605814243052, 30.84082431052403, 20.35785872801638, 12.666167025768086, 21.785847020702768, 13.418511262067327, 12.566263329165178, 12.43986472124106, 16.35121707879941, 12.685646442497609, 6.241052868407192, 13.067693103248288, 23.24282674880543, 17.712299931746987, 25.081304075425713, 13.00182381953053, 10.102939008912575, 13.83289312910239, 11.532987991855318, 16.442743798931904, 12.498807129150556, 14.782280735762841, 60.58396615780503, 19.458542348440385, 18.129669811427867, 332.4387729105474, 35.05622825271134, 51.420731943488654, 40.96707014065958, 68.96192304258754, 25.50816738455635, 209.80809426319584, 670.5769387869576, 2403.1972001491235, 2320.4615073120854, 138.18289238915833, 2709.4399067681893, 9721.768888262613, 4690.671035489209, 5170.33512463958, 1151.966409993284, 1932.4355828496014, 2908.984787778729, 4160.10507770212, 2098.790951486295, 965.9132272215171, 498.9996695423128, 3612.6676230892804, 897.1618164645798, 1908.743306254426, 2822.310826806821, 2103.995833768266, 9680.90170482745, 3681.3631305728154, 9955.987850777878, 1730.8073588667075, 356.4842992494015, 3092.5003714320596, 1582.1795536159718, 523.3309399232555, 3446.416350348828, 3264.1703498276365, 2023.9239622255989, 10330.865506214672, 3258.1838088529857, 6834.78708999908, 2841.2706688830654, 2943.3992567347636, 11530.362088659445, 6113.093181592041, 2851.0162781082117, 9015.01316631286, 16.5328275136526, 11.686802526320228, 46.69369394825381, 13.370643785906054, 9.147700176568556, 13.408450475679754, 13.484949561048927, 15.044662969456033, 11.210843010610455, 9.574310924396361, 25.204078732367037, 12.64639151760992, 13.737093448148846, 22.469947663955306, 14.6787773295337, 14.962575275421807, 12.543143510564063, 18.6333942654801, 29.720128399270575, 21.219835991261572, 11.037029705731578, 9.046636929393372, 21.128105519457634, 19.764114649254644, 24.535859011554614, 9.912923329461734, 16.26856567670007, 11.240916353022358, 12.108364674831927, 26.742118043790267, 26.173559561943296, 19.19484372146838, 75.38675446185329, 242.94179743183375, 866.8506552307083, 4690.671035489209, 73.85121026155564, 1598.1254113860848, 9680.90170482745, 5170.33512463958, 329.32233707949393, 474.7919444808634, 1629.7612142124715, 10330.865506214672, 9721.768888262613, 9955.987850777878, 504.60821965669214, 601.4146303387982, 864.7697997890873, 6113.093181592041, 2956.822134135798, 3264.1703498276365, 861.8219559704485, 1626.1439982223792, 1750.9892826803152, 2756.7821887983077, 893.9441377646546, 3092.5003714320596, 519.1479634853046, 9015.01316631286, 2320.4615073120854, 2709.4399067681893, 1216.8645966654954, 1540.9274310262058, 6834.78708999908, 2841.2706688830654, 3681.3631305728154, 3030.9622588348116, 2841.628229963679, 2551.427640125792, 3756.3703109392845, 7859.879211608601, 11530.362088659445, 2908.984787778729, 2699.9571535611353, 4812.62413838589, 24.765491685484527, 15.595226430168141, 20.947371331425018, 13.858340341585706, 17.607320541937924, 18.052320218763533, 16.92232159346068, 29.409938371547494, 23.092364992810875, 14.382268168881936, 21.60301555704689, 12.365971540800171, 12.794198057286687, 9.88381394190308, 6.609079649564555, 12.366521373575091, 16.19407163330119, 13.62941332877936, 26.119420132391344, 27.71491858871705, 12.490164436799498, 22.490615157179562, 10.805776972049154, 20.202529683258827, 15.168026343721644, 24.159207544937182, 12.268312212339366, 24.317499743466325, 27.501413819954536, 12.826807348905291, 40.82394844823957, 36.03176981127157, 209.21364272501353, 52.10748100337963, 44.54349464963561, 1165.0688821253245, 546.1187959023383, 316.73802781931437, 995.9310967818229, 81.5684495725686, 2225.1141650439836, 2841.2706688830654, 362.3631700345831, 9955.987850777878, 381.9231530685077, 11530.362088659445, 6113.093181592041, 3756.3703109392845, 1377.6273542989093, 2908.984787778729, 3681.3631305728154, 729.2290248218379, 10330.865506214672, 1458.330050008067, 2312.5105441675055, 9680.90170482745, 3446.416350348828, 1006.7595386320837, 9015.01316631286, 1092.8930431479632, 7859.879211608601, 4812.62413838589, 1862.3575183314038, 2756.7821887983077, 3092.5003714320596, 2939.4627262983345, 1772.3890456187519, 4160.10507770212, 3030.9622588348116, 3027.1992643914823, 2943.3992567347636, 6834.78708999908, 2841.628229963679, 9721.768888262613, 2699.9571535611353, 11.112333772583487, 21.46505256010171, 13.97665378193513, 14.446147949896607, 23.473893775639706, 10.45482563177287, 18.32045774569337, 26.053711884040105, 26.142042431904997, 11.562640192472127, 18.525376986572685, 11.051794094193957, 13.505173001072997, 20.753025233835945, 18.248123404284346, 14.80047851297575, 9.463126824892411, 20.128291853500226, 10.27018683595013, 8.597357342335268, 13.390257744196871, 11.508754324477064, 10.481624597739748, 26.868599978997132, 18.744287170092562, 15.50930686286949, 10.65683106639546, 24.12504708876725, 21.487040632732228, 15.268774434694418, 39.69708846195899, 33.38502938999174, 64.58404961014794, 66.26640577881558, 74.0222472710624, 39.3082848026553, 3092.5003714320596, 182.54472986337703, 10330.865506214672, 731.4054174517568, 1908.743306254426, 335.7169597189651, 9680.90170482745, 3681.3631305728154, 499.6059446313152, 703.8424890339053, 2320.4615073120854, 1216.8645966654954, 7859.879211608601, 1376.042184161633, 2709.4399067681893, 9955.987850777878, 3612.6676230892804, 1965.9552623247987, 9721.768888262613, 2010.5048568051718, 6113.093181592041, 1626.1439982223792, 1816.2489780131557, 2908.984787778729, 1772.3890456187519, 3264.1703498276365, 758.2368862583727, 2013.2010493980465, 2956.822134135798, 2822.310826806821, 3446.416350348828, 9015.01316631286, 5170.33512463958, 3027.1992643914823, 3756.3703109392845, 6834.78708999908, 2551.427640125792, 11530.362088659445, 4690.671035489209, 14.712580111176804, 15.191345246381207, 10.186485338200072, 9.950612463446697, 24.516688740001737, 17.277104429144657, 9.318258811408153, 15.651930768056856, 11.159828042037203, 13.205540743818133, 20.56965529061467, 14.276939680112982, 9.809227859190678, 9.610896883234567, 21.758482609957476, 9.260858484296527, 13.943683380719532, 15.15769121802386, 10.027426951799727, 9.459526446563597, 25.14436539498798, 12.280643791736784, 13.898187968168973, 21.504689575766896, 13.225962735253805, 12.065901964487075, 15.685507854923713, 11.298055974934593, 14.785362253610488, 11.608756215693266, 83.19932456235868, 16.93325940733021, 34.68925626264156, 28.33606692237676, 25.26240377669616, 11530.362088659445, 660.3096215651329, 461.53925977919346, 9955.987850777878, 897.1618164645798, 504.60821965669214, 235.6700931995468, 273.57046893818926, 478.8584824842579, 6834.78708999908, 9680.90170482745, 2943.3992567347636, 3258.1838088529857, 4690.671035489209, 3446.416350348828, 2074.890249978602, 1014.34017121434, 7859.879211608601, 10330.865506214672, 3681.3631305728154, 9015.01316631286, 373.1356380419839, 2023.9239622255989, 5170.33512463958, 616.3313767361046, 2756.7821887983077, 2403.1972001491235, 2851.0162781082117, 9721.768888262613, 3756.3703109392845, 3264.1703498276365, 1856.4071000355216, 2956.822134135798, 1629.7612142124715, 6113.093181592041, 4160.10507770212, 2939.4627262983345, 2841.628229963679, 2225.1141650439836, 2320.4615073120854, 22.770498110558794, 17.73111120174057, 20.546634202368423, 15.80207684218442, 12.600296861380517, 14.295764677429629, 11.234647842722499, 16.376053558308193, 28.642747803841264, 46.958782634593646, 16.48599163947521, 36.548835977871434, 26.24416855399057, 22.365410142258266, 17.084437540875804, 30.20488547467666, 10.145370964161579, 33.7520525307561, 35.18745719316765, 45.513478435252416, 9.697676856214947, 12.51165457352166, 24.917404366903277, 16.82667615590343, 14.334867087636095, 16.590149289429764, 13.04255990786852, 21.92256724619368, 30.197469100211407, 24.980026114748313, 61.3500376170157, 141.68943743530008, 138.632948732851, 54.430702726386585, 109.13452306229135, 52.728804736702486, 31.407797090739734, 87.6981832774204, 87.08474705743652, 6113.093181592041, 1862.3575183314038, 992.2794543431887, 73.82209487461736, 7859.879211608601, 10330.865506214672, 457.63282099114804, 2851.0162781082117, 106.2377748675267, 1662.9389206511314, 2939.4627262983345, 6834.78708999908, 3681.3631305728154, 9680.90170482745, 866.8506552307083, 3446.416350348828, 2551.427640125792, 232.4615487215579, 1856.4071000355216, 2908.984787778729, 3027.1992643914823, 3756.3703109392845, 643.3500890434493, 4160.10507770212, 1598.1254113860848, 9955.987850777878, 387.4276758181113, 9015.01316631286, 2709.4399067681893, 2841.628229963679, 11530.362088659445, 1750.9892826803152, 2841.2706688830654, 2103.995833768266, 3030.9622588348116, 3612.6676230892804], \"Category\": [\"Default\", \"Default\", \"Default\", \"Default\", \"Default\", \"Default\", \"Default\", \"Default\", \"Default\", \"Default\", \"Default\", \"Default\", \"Default\", \"Default\", \"Default\", \"Default\", \"Default\", \"Default\", \"Default\", \"Default\", \"Default\", \"Default\", \"Default\", \"Default\", \"Default\", \"Default\", \"Default\", \"Default\", \"Default\", \"Default\", \"Topic1\", \"Topic1\", \"Topic1\", \"Topic1\", \"Topic1\", \"Topic1\", \"Topic1\", \"Topic1\", \"Topic1\", \"Topic1\", \"Topic1\", \"Topic1\", \"Topic1\", \"Topic1\", \"Topic1\", \"Topic1\", \"Topic1\", \"Topic1\", \"Topic1\", \"Topic1\", \"Topic1\", \"Topic1\", \"Topic1\", \"Topic1\", \"Topic1\", \"Topic1\", \"Topic1\", \"Topic1\", \"Topic1\", \"Topic1\", \"Topic1\", \"Topic1\", \"Topic1\", \"Topic1\", \"Topic1\", \"Topic1\", \"Topic1\", \"Topic1\", \"Topic1\", \"Topic1\", \"Topic1\", \"Topic1\", \"Topic1\", \"Topic1\", \"Topic1\", \"Topic1\", \"Topic1\", \"Topic1\", \"Topic1\", \"Topic1\", \"Topic1\", \"Topic1\", \"Topic1\", \"Topic1\", \"Topic1\", \"Topic1\", \"Topic1\", \"Topic1\", \"Topic1\", \"Topic1\", \"Topic1\", \"Topic1\", \"Topic1\", \"Topic1\", \"Topic1\", \"Topic1\", \"Topic1\", \"Topic1\", \"Topic1\", \"Topic1\", \"Topic1\", \"Topic1\", \"Topic1\", \"Topic1\", \"Topic1\", \"Topic1\", \"Topic1\", \"Topic1\", \"Topic1\", \"Topic1\", \"Topic1\", \"Topic2\", \"Topic2\", \"Topic2\", \"Topic2\", \"Topic2\", \"Topic2\", \"Topic2\", \"Topic2\", \"Topic2\", \"Topic2\", \"Topic2\", \"Topic2\", \"Topic2\", \"Topic2\", \"Topic2\", \"Topic2\", \"Topic2\", \"Topic2\", \"Topic2\", \"Topic2\", \"Topic2\", \"Topic2\", \"Topic2\", \"Topic2\", \"Topic2\", \"Topic2\", \"Topic2\", \"Topic2\", \"Topic2\", \"Topic2\", \"Topic2\", \"Topic2\", \"Topic2\", \"Topic2\", \"Topic2\", \"Topic2\", \"Topic2\", \"Topic2\", \"Topic2\", \"Topic2\", \"Topic2\", \"Topic2\", \"Topic2\", \"Topic2\", \"Topic2\", \"Topic2\", \"Topic2\", \"Topic2\", \"Topic2\", \"Topic2\", \"Topic2\", \"Topic2\", \"Topic2\", \"Topic2\", \"Topic2\", \"Topic2\", \"Topic2\", \"Topic2\", \"Topic2\", \"Topic2\", \"Topic2\", \"Topic2\", \"Topic2\", \"Topic2\", \"Topic2\", \"Topic2\", \"Topic2\", \"Topic2\", \"Topic2\", \"Topic2\", \"Topic2\", \"Topic2\", \"Topic2\", \"Topic2\", \"Topic2\", \"Topic2\", \"Topic2\", \"Topic2\", \"Topic2\", \"Topic2\", \"Topic2\", \"Topic2\", \"Topic2\", \"Topic3\", \"Topic3\", \"Topic3\", \"Topic3\", \"Topic3\", \"Topic3\", \"Topic3\", \"Topic3\", \"Topic3\", \"Topic3\", \"Topic3\", \"Topic3\", \"Topic3\", \"Topic3\", \"Topic3\", \"Topic3\", \"Topic3\", \"Topic3\", \"Topic3\", \"Topic3\", \"Topic3\", \"Topic3\", \"Topic3\", \"Topic3\", \"Topic3\", \"Topic3\", \"Topic3\", \"Topic3\", \"Topic3\", \"Topic3\", \"Topic3\", \"Topic3\", \"Topic3\", \"Topic3\", \"Topic3\", \"Topic3\", \"Topic3\", \"Topic3\", \"Topic3\", \"Topic3\", \"Topic3\", \"Topic3\", \"Topic3\", \"Topic3\", \"Topic3\", \"Topic3\", \"Topic3\", \"Topic3\", \"Topic3\", \"Topic3\", \"Topic3\", \"Topic3\", \"Topic3\", \"Topic3\", \"Topic3\", \"Topic3\", \"Topic3\", \"Topic3\", \"Topic3\", \"Topic3\", \"Topic3\", \"Topic3\", \"Topic3\", \"Topic3\", \"Topic3\", \"Topic3\", \"Topic3\", \"Topic3\", \"Topic3\", \"Topic3\", \"Topic3\", \"Topic3\", \"Topic3\", \"Topic3\", \"Topic3\", \"Topic3\", \"Topic3\", \"Topic4\", \"Topic4\", \"Topic4\", \"Topic4\", \"Topic4\", \"Topic4\", \"Topic4\", \"Topic4\", \"Topic4\", \"Topic4\", \"Topic4\", \"Topic4\", \"Topic4\", \"Topic4\", \"Topic4\", \"Topic4\", \"Topic4\", \"Topic4\", \"Topic4\", \"Topic4\", \"Topic4\", \"Topic4\", \"Topic4\", \"Topic4\", \"Topic4\", \"Topic4\", \"Topic4\", \"Topic4\", \"Topic4\", \"Topic4\", \"Topic4\", \"Topic4\", \"Topic4\", \"Topic4\", \"Topic4\", \"Topic4\", \"Topic4\", \"Topic4\", \"Topic4\", \"Topic4\", \"Topic4\", \"Topic4\", \"Topic4\", \"Topic4\", \"Topic4\", \"Topic4\", \"Topic4\", \"Topic4\", \"Topic4\", \"Topic4\", \"Topic4\", \"Topic4\", \"Topic4\", \"Topic4\", \"Topic4\", \"Topic4\", \"Topic4\", \"Topic4\", \"Topic4\", \"Topic4\", \"Topic4\", \"Topic4\", \"Topic4\", \"Topic4\", \"Topic4\", \"Topic4\", \"Topic4\", \"Topic4\", \"Topic4\", \"Topic4\", \"Topic4\", \"Topic4\", \"Topic4\", \"Topic4\", \"Topic4\", \"Topic4\", \"Topic4\", \"Topic4\", \"Topic4\", \"Topic4\", \"Topic5\", \"Topic5\", \"Topic5\", \"Topic5\", \"Topic5\", \"Topic5\", \"Topic5\", \"Topic5\", \"Topic5\", \"Topic5\", \"Topic5\", \"Topic5\", \"Topic5\", \"Topic5\", \"Topic5\", \"Topic5\", \"Topic5\", \"Topic5\", \"Topic5\", \"Topic5\", \"Topic5\", \"Topic5\", \"Topic5\", \"Topic5\", \"Topic5\", \"Topic5\", \"Topic5\", \"Topic5\", \"Topic5\", \"Topic5\", \"Topic5\", \"Topic5\", \"Topic5\", \"Topic5\", \"Topic5\", \"Topic5\", \"Topic5\", \"Topic5\", \"Topic5\", \"Topic5\", \"Topic5\", \"Topic5\", \"Topic5\", \"Topic5\", \"Topic5\", \"Topic5\", \"Topic5\", \"Topic5\", \"Topic5\", \"Topic5\", \"Topic5\", \"Topic5\", \"Topic5\", \"Topic5\", \"Topic5\", \"Topic5\", \"Topic5\", \"Topic5\", \"Topic5\", \"Topic5\", \"Topic5\", \"Topic5\", \"Topic5\", \"Topic5\", \"Topic5\", \"Topic5\", \"Topic5\", \"Topic5\", \"Topic5\", \"Topic5\", \"Topic5\", \"Topic5\", \"Topic5\", \"Topic5\", \"Topic5\", \"Topic5\", \"Topic5\", \"Topic5\", \"Topic5\", \"Topic5\", \"Topic6\", \"Topic6\", \"Topic6\", \"Topic6\", \"Topic6\", \"Topic6\", \"Topic6\", \"Topic6\", \"Topic6\", \"Topic6\", \"Topic6\", \"Topic6\", \"Topic6\", \"Topic6\", \"Topic6\", \"Topic6\", \"Topic6\", \"Topic6\", \"Topic6\", \"Topic6\", \"Topic6\", \"Topic6\", \"Topic6\", \"Topic6\", \"Topic6\", \"Topic6\", \"Topic6\", \"Topic6\", \"Topic6\", \"Topic6\", \"Topic6\", \"Topic6\", \"Topic6\", \"Topic6\", \"Topic6\", \"Topic6\", \"Topic6\", \"Topic6\", \"Topic6\", \"Topic6\", \"Topic6\", \"Topic6\", \"Topic6\", \"Topic6\", \"Topic6\", \"Topic6\", \"Topic6\", \"Topic6\", \"Topic6\", \"Topic6\", \"Topic6\", \"Topic6\", \"Topic6\", \"Topic6\", \"Topic6\", \"Topic6\", \"Topic6\", \"Topic6\", \"Topic6\", \"Topic6\", \"Topic6\", \"Topic6\", \"Topic6\", \"Topic6\", \"Topic6\", \"Topic6\", \"Topic6\", \"Topic6\", \"Topic6\", \"Topic6\", \"Topic6\", \"Topic6\", \"Topic6\", \"Topic6\", \"Topic6\", \"Topic6\", \"Topic7\", \"Topic7\", \"Topic7\", \"Topic7\", \"Topic7\", \"Topic7\", \"Topic7\", \"Topic7\", \"Topic7\", \"Topic7\", \"Topic7\", \"Topic7\", \"Topic7\", \"Topic7\", \"Topic7\", \"Topic7\", \"Topic7\", \"Topic7\", \"Topic7\", \"Topic7\", \"Topic7\", \"Topic7\", \"Topic7\", \"Topic7\", \"Topic7\", \"Topic7\", \"Topic7\", \"Topic7\", \"Topic7\", \"Topic7\", \"Topic7\", \"Topic7\", \"Topic7\", \"Topic7\", \"Topic7\", \"Topic7\", \"Topic7\", \"Topic7\", \"Topic7\", \"Topic7\", \"Topic7\", \"Topic7\", \"Topic7\", \"Topic7\", \"Topic7\", \"Topic7\", \"Topic7\", \"Topic7\", \"Topic7\", \"Topic7\", \"Topic7\", \"Topic7\", \"Topic7\", \"Topic7\", \"Topic7\", \"Topic7\", \"Topic7\", \"Topic7\", \"Topic7\", \"Topic7\", \"Topic7\", \"Topic7\", \"Topic7\", \"Topic7\", \"Topic7\", \"Topic7\", \"Topic7\", \"Topic7\", \"Topic7\", \"Topic7\", \"Topic7\", \"Topic7\", \"Topic7\", \"Topic7\", \"Topic7\", \"Topic8\", \"Topic8\", \"Topic8\", \"Topic8\", \"Topic8\", \"Topic8\", \"Topic8\", \"Topic8\", \"Topic8\", \"Topic8\", \"Topic8\", \"Topic8\", \"Topic8\", \"Topic8\", \"Topic8\", \"Topic8\", \"Topic8\", \"Topic8\", \"Topic8\", \"Topic8\", \"Topic8\", \"Topic8\", \"Topic8\", \"Topic8\", \"Topic8\", \"Topic8\", \"Topic8\", \"Topic8\", \"Topic8\", \"Topic8\", \"Topic8\", \"Topic8\", \"Topic8\", \"Topic8\", \"Topic8\", \"Topic8\", \"Topic8\", \"Topic8\", \"Topic8\", \"Topic8\", \"Topic8\", \"Topic8\", \"Topic8\", \"Topic8\", \"Topic8\", \"Topic8\", \"Topic8\", \"Topic8\", \"Topic8\", \"Topic8\", \"Topic8\", \"Topic8\", \"Topic8\", \"Topic8\", \"Topic8\", \"Topic8\", \"Topic8\", \"Topic8\", \"Topic8\", \"Topic8\", \"Topic8\", \"Topic8\", \"Topic8\", \"Topic8\", \"Topic8\", \"Topic8\", \"Topic8\", \"Topic8\", \"Topic8\", \"Topic8\", \"Topic8\", \"Topic8\", \"Topic8\", \"Topic8\", \"Topic8\", \"Topic9\", \"Topic9\", \"Topic9\", \"Topic9\", \"Topic9\", \"Topic9\", \"Topic9\", \"Topic9\", \"Topic9\", \"Topic9\", \"Topic9\", \"Topic9\", \"Topic9\", \"Topic9\", \"Topic9\", \"Topic9\", \"Topic9\", \"Topic9\", \"Topic9\", \"Topic9\", \"Topic9\", \"Topic9\", \"Topic9\", \"Topic9\", \"Topic9\", \"Topic9\", \"Topic9\", \"Topic9\", \"Topic9\", \"Topic9\", \"Topic9\", \"Topic9\", \"Topic9\", \"Topic9\", \"Topic9\", \"Topic9\", \"Topic9\", \"Topic9\", \"Topic9\", \"Topic9\", \"Topic9\", \"Topic9\", \"Topic9\", \"Topic9\", \"Topic9\", \"Topic9\", \"Topic9\", \"Topic9\", \"Topic9\", \"Topic9\", \"Topic9\", \"Topic9\", \"Topic9\", \"Topic9\", \"Topic9\", \"Topic9\", \"Topic9\", \"Topic9\", \"Topic9\", \"Topic9\", \"Topic9\", \"Topic9\", \"Topic9\", \"Topic9\", \"Topic9\", \"Topic9\", \"Topic9\", \"Topic9\", \"Topic9\", \"Topic9\", \"Topic9\", \"Topic9\", \"Topic9\", \"Topic9\", \"Topic9\", \"Topic10\", \"Topic10\", \"Topic10\", \"Topic10\", \"Topic10\", \"Topic10\", \"Topic10\", \"Topic10\", \"Topic10\", \"Topic10\", \"Topic10\", \"Topic10\", \"Topic10\", \"Topic10\", \"Topic10\", \"Topic10\", \"Topic10\", \"Topic10\", \"Topic10\", \"Topic10\", \"Topic10\", \"Topic10\", \"Topic10\", \"Topic10\", \"Topic10\", \"Topic10\", \"Topic10\", \"Topic10\", \"Topic10\", \"Topic10\", \"Topic10\", \"Topic10\", \"Topic10\", \"Topic10\", \"Topic10\", \"Topic10\", \"Topic10\", \"Topic10\", \"Topic10\", \"Topic10\", \"Topic10\", \"Topic10\", \"Topic10\", \"Topic10\", \"Topic10\", \"Topic10\", \"Topic10\", \"Topic10\", \"Topic10\", \"Topic10\", \"Topic10\", \"Topic10\", \"Topic10\", \"Topic10\", \"Topic10\", \"Topic10\", \"Topic10\", \"Topic10\", \"Topic10\", \"Topic10\", \"Topic10\", \"Topic10\", \"Topic10\", \"Topic10\", \"Topic10\", \"Topic10\", \"Topic10\", \"Topic10\", \"Topic10\", \"Topic10\", \"Topic10\", \"Topic10\", \"Topic10\", \"Topic10\", \"Topic10\"], \"logprob\": [30.0, 29.0, 28.0, 27.0, 26.0, 25.0, 24.0, 23.0, 22.0, 21.0, 20.0, 19.0, 18.0, 17.0, 16.0, 15.0, 14.0, 13.0, 12.0, 11.0, 10.0, 9.0, 8.0, 7.0, 6.0, 5.0, 4.0, 3.0, 2.0, 1.0, -8.2036, -9.6077, -8.7684, -9.0608, -9.3034, -9.0573, -8.7495, -8.9785, -8.3686, -8.577, -9.077, -9.2071, -9.3135, -7.9574, -9.2832, -8.3657, -8.9732, -8.7656, -8.2067, -8.7375, -9.0369, -9.0108, -9.2725, -9.0016, -8.6508, -8.4304, -8.6658, -9.088, -8.5828, -8.8768, -8.6002, -8.482, -7.9321, -3.1198, -6.3006, -7.1082, -5.6585, -4.4195, -8.1932, -4.7472, -5.3254, -4.4536, -4.1043, -6.4301, -6.5484, -4.2282, -5.7501, -6.5576, -5.3472, -5.5708, -4.5109, -5.6488, -5.5915, -5.6235, -6.2625, -5.1062, -4.7866, -3.933, -5.0334, -5.5071, -4.9669, -4.8469, -4.538, -4.9489, -4.1413, -4.7724, -4.4687, -4.4078, -4.968, -4.424, -4.3585, -5.2294, -4.4514, -5.3621, -4.9856, -5.0863, -5.1574, -5.32, -5.2416, -5.314, -5.3181, -8.7595, -8.9333, -8.6566, -8.7733, -8.1845, -9.1336, -8.4222, -8.7265, -9.217, -9.0578, -8.5889, -9.0118, -8.2178, -8.8942, -8.7013, -7.9057, -8.3706, -9.0463, -8.5107, -8.4317, -8.874, -9.5329, -8.3899, -8.7759, -9.5415, -9.144, -8.7214, -8.842, -8.7632, -9.2591, -8.97, -5.6173, -2.5326, -7.9462, -8.283, -6.9281, -8.2005, -6.5609, -3.5481, -7.0879, -4.6005, -7.1298, -4.297, -7.7041, -6.0736, -4.9285, -5.5871, -5.2474, -4.7018, -4.7829, -5.5186, -6.6183, -6.4483, -5.9911, -4.2777, -6.0738, -5.014, -5.3461, -5.7845, -4.9406, -5.5534, -4.2575, -5.7228, -4.344, -5.2784, -5.4824, -5.3605, -4.3605, -5.2658, -4.9411, -5.3786, -5.1556, -5.0341, -4.7812, -4.7642, -5.2402, -4.9579, -4.7963, -5.1678, -5.2591, -5.3073, -5.2503, -5.3433, -7.8059, -8.9436, -8.7507, -8.422, -8.6683, -8.6037, -8.7615, -8.483, -8.7655, -8.2406, -8.3211, -8.8983, -7.4518, -9.1995, -8.0913, -8.919, -8.0338, -8.2169, -9.0863, -9.1305, -9.2153, -8.5369, -8.702, -9.0313, -8.7538, -9.2468, -8.6816, -8.9412, -8.432, -9.0628, -8.4235, -7.7237, -8.1125, -6.9699, -4.1763, -5.1683, -5.8378, -3.642, -6.8623, -4.2477, -6.525, -5.3389, -3.5493, -4.4829, -5.9894, -4.6198, -3.6588, -4.6293, -5.6469, -3.8761, -4.1651, -4.7716, -5.8978, -5.1729, -4.7668, -3.9469, -6.334, -5.6111, -4.125, -5.6059, -4.8352, -5.0512, -5.4807, -5.395, -6.097, -4.9927, -5.1014, -5.3245, -4.4605, -4.865, -5.1065, -5.2163, -5.1578, -5.4212, -5.3115, -5.0379, -5.2134, -8.4128, -8.259, -7.7199, -8.3769, -8.1565, -8.1843, -8.4699, -8.2201, -8.4155, -8.2701, -8.2378, -8.6647, -8.0807, -7.5729, -8.3752, -7.6778, -8.571, -7.8048, -8.2192, -7.9378, -7.8978, -8.0151, -8.3092, -8.2588, -8.5663, -8.2921, -6.5519, -8.8016, -8.6019, -8.5078, -7.2041, -7.9872, -7.4058, -7.6075, -7.1493, -7.4338, -3.4918, -4.7042, -6.1289, -5.2489, -6.0278, -3.6385, -5.6949, -4.1928, -5.1248, -6.1922, -6.6509, -4.017, -4.7134, -4.6779, -5.2017, -5.3496, -4.6973, -6.549, -5.3794, -6.7433, -5.2497, -6.5963, -4.9309, -4.1267, -4.1821, -6.0993, -4.9599, -5.345, -5.2654, -4.3178, -5.2027, -5.3414, -5.2349, -5.0598, -5.2027, -5.0093, -5.1143, -5.0404, -5.178, -5.0482, -5.1213, -5.258, -5.2376, -5.2258, -7.9488, -8.1428, -8.2042, -7.9988, -8.5831, -7.6143, -7.8561, -7.838, -8.1356, -7.701, -8.1228, -8.6149, -8.0826, -8.5731, -8.6437, -8.6739, -8.4008, -8.663, -9.3809, -8.6713, -8.1033, -8.3828, -8.0574, -8.7221, -8.9793, -8.6673, -8.8594, -8.5061, -8.7825, -8.6155, -7.2171, -8.3432, -8.4202, -5.7152, -7.8225, -7.5066, -7.7069, -7.2499, -8.1285, -6.3529, -5.3845, -4.4318, -4.5232, -6.7554, -4.4786, -3.5179, -4.0834, -4.0153, -5.2049, -4.8327, -4.5418, -4.3165, -4.8295, -5.4005, -5.8777, -4.4877, -5.475, -4.9726, -4.7089, -4.9271, -3.9877, -4.6406, -4.0064, -5.1788, -6.1655, -4.8683, -5.2918, -5.9507, -4.879, -4.9658, -5.2486, -4.4921, -5.0893, -4.8491, -5.1701, -5.1904, -4.9652, -5.106, -5.2047, -5.0997, -8.0221, -8.4709, -7.1241, -8.4869, -8.8797, -8.5551, -8.6122, -8.5071, -8.8099, -8.9832, -8.0226, -8.7453, -8.6768, -8.1913, -8.6175, -8.6106, -8.7931, -8.4004, -7.9387, -8.2759, -8.9448, -9.1464, -8.3303, -8.3999, -8.1927, -9.1018, -8.6178, -8.9973, -8.9232, -8.1378, -8.1837, -8.5, -7.2567, -6.2585, -5.1878, -3.7465, -7.3516, -4.8512, -3.4592, -3.9967, -6.1755, -5.8971, -4.9871, -3.6506, -3.7275, -3.7568, -5.9689, -5.8391, -5.5926, -4.2187, -4.7763, -4.72, -5.6823, -5.2554, -5.2161, -4.9228, -5.6897, -4.8995, -6.0656, -4.2179, -5.0932, -5.0005, -5.5155, -5.3713, -4.5055, -5.0426, -4.9053, -5.0399, -5.0772, -5.1406, -4.9629, -4.6622, -4.5166, -5.121, -5.1564, -4.9725, -7.7183, -8.2, -7.9163, -8.3466, -8.1143, -8.0938, -8.1705, -7.6304, -7.8893, -8.3773, -7.9944, -8.5557, -8.5403, -8.8276, -9.2465, -8.6382, -8.3948, -8.5999, -7.968, -7.9108, -8.7082, -8.1326, -8.8733, -8.2625, -8.5854, -8.1208, -8.809, -8.1387, -8.0189, -8.787, -7.6301, -7.7589, -6.2015, -7.4927, -7.6342, -4.9196, -5.5543, -6.0334, -5.1285, -7.1488, -4.5217, -4.3608, -6.0542, -3.561, -6.0176, -3.5077, -4.0045, -4.487, -5.2171, -4.7595, -4.6176, -5.7061, -3.9606, -5.2646, -4.9797, -4.0551, -4.7332, -5.5273, -4.1356, -5.4817, -4.2421, -4.5836, -5.1877, -4.9939, -4.9279, -4.9597, -5.3015, -4.9327, -5.0836, -5.1174, -5.1342, -4.8468, -5.1738, -5.0056, -5.2399, -8.3986, -7.7741, -8.2405, -8.276, -7.8076, -8.6554, -8.1039, -7.7845, -7.8004, -8.6232, -8.1581, -8.7373, -8.5496, -8.1245, -8.2624, -8.483, -8.9332, -8.1805, -8.8774, -9.0589, -8.6326, -8.7952, -8.8938, -7.9618, -8.3318, -8.5315, -8.9125, -8.1032, -8.2225, -8.5842, -7.6426, -7.8183, -7.2559, -7.2669, -7.1721, -7.7587, -4.1839, -6.5339, -3.344, -5.5086, -4.7933, -6.1409, -3.6565, -4.4104, -5.9082, -5.6619, -4.8324, -5.3123, -4.0337, -5.2413, -4.7804, -3.8877, -4.5875, -5.0054, -3.9472, -5.015, -4.3138, -5.1815, -5.112, -4.8174, -5.1597, -4.7922, -5.7053, -5.1238, -4.8951, -4.9318, -4.9511, -4.5645, -4.836, -5.1022, -5.0193, -4.7972, -5.2024, -5.0399, -5.1874, -8.081, -8.1431, -8.5895, -8.7048, -7.821, -8.1764, -8.7955, -8.2874, -8.6364, -8.4938, -8.0756, -8.443, -8.8213, -8.861, -8.0656, -8.9328, -8.5394, -8.4581, -8.8736, -8.9351, -7.9649, -8.6827, -8.5658, -8.1399, -8.6293, -8.7275, -8.4735, -8.8147, -8.5483, -8.7994, -6.961, -8.4523, -7.8321, -8.0108, -8.1135, -3.1371, -5.5332, -5.8627, -3.5073, -5.3883, -5.8695, -6.4452, -6.3368, -5.9317, -3.9737, -3.7539, -4.6834, -4.6233, -4.4087, -4.6441, -4.9946, -5.5434, -4.1536, -3.9835, -4.7388, -4.1514, -6.2504, -5.2136, -4.6377, -5.9618, -5.037, -5.1299, -5.0303, -4.3373, -4.9172, -5.017, -5.3484, -5.1688, -5.4715, -4.8493, -5.0716, -5.2155, -5.2767, -5.36, -5.3647, -6.8332, -7.1334, -7.0374, -7.4043, -7.6424, -7.5176, -7.8123, -7.438, -6.8821, -6.3893, -7.5197, -6.7278, -7.0685, -7.2365, -7.5664, -7.0046, -8.0985, -6.926, -6.8913, -6.6415, -8.1955, -7.949, -7.2899, -7.7071, -7.8791, -7.7458, -7.9864, -7.4809, -7.1666, -7.3635, -6.4707, -5.8145, -5.8575, -6.6927, -6.1351, -6.7567, -7.1883, -6.3859, -6.4662, -3.4827, -4.3169, -4.8616, -6.5841, -3.5802, -3.4084, -5.4379, -4.5046, -6.3769, -4.8807, -4.6466, -4.2224, -4.5874, -4.1313, -5.3392, -4.673, -4.8297, -6.0008, -5.0317, -4.878, -4.8853, -4.8007, -5.5733, -4.8032, -5.2266, -4.5198, -5.8022, -4.6883, -5.1167, -5.1077, -4.7015, -5.2755, -5.1665, -5.2843, -5.2132, -5.4256], \"loglift\": [30.0, 29.0, 28.0, 27.0, 26.0, 25.0, 24.0, 23.0, 22.0, 21.0, 20.0, 19.0, 18.0, 17.0, 16.0, 15.0, 14.0, 13.0, 12.0, 11.0, 10.0, 9.0, 8.0, 7.0, 6.0, 5.0, 4.0, 3.0, 2.0, 1.0, 1.8506, 1.722, 1.7, 1.6979, 1.6865, 1.6658, 1.6604, 1.6443, 1.6379, 1.6249, 1.5821, 1.5795, 1.5716, 1.563, 1.548, 1.5355, 1.5355, 1.533, 1.5141, 1.504, 1.4938, 1.487, 1.4749, 1.4673, 1.4637, 1.4587, 1.4551, 1.4441, 1.4368, 1.4362, 1.4277, 1.4204, 1.3476, 0.8473, 1.1247, 1.2207, 0.9982, 0.7379, 1.3673, 0.6945, 0.8054, 0.6048, 0.4943, 0.9763, 0.9969, 0.442, 0.7801, 0.972, 0.6508, 0.7068, 0.4071, 0.7012, 0.6782, 0.683, 0.8573, 0.4593, 0.3472, 0.0383, 0.3924, 0.5381, 0.3379, 0.2856, 0.1579, 0.2785, -0.0988, 0.1846, -0.0377, -0.0884, 0.1939, -0.2443, -0.4522, 0.2707, -0.5081, 0.3932, -0.1697, -0.026, 0.0058, 0.2627, -0.0478, 0.2225, 0.1795, 1.8504, 1.8414, 1.8284, 1.7937, 1.7897, 1.7511, 1.7453, 1.7326, 1.7221, 1.7147, 1.7056, 1.6888, 1.6591, 1.658, 1.6548, 1.6499, 1.6466, 1.6127, 1.5986, 1.5961, 1.572, 1.5711, 1.5437, 1.5416, 1.5397, 1.5383, 1.5193, 1.517, 1.5112, 1.4983, 1.4964, 1.4347, 1.2639, 1.4755, 1.4814, 1.3931, 1.4563, 1.1259, 0.4945, 1.1937, 0.5966, 1.1845, 0.3732, 1.3147, 0.8184, 0.3763, 0.5881, 0.4608, 0.2552, 0.2774, 0.5254, 0.9079, 0.8344, 0.6205, -0.098, 0.6397, 0.1798, 0.2767, 0.4647, 0.0636, 0.3441, -0.3511, 0.3898, -0.3769, 0.1474, 0.2547, 0.1813, -0.4173, 0.0989, -0.1252, 0.1645, 0.0076, -0.0959, -0.3502, -0.4447, -0.0363, -0.3593, -0.825, -0.2498, -0.1265, -0.1454, -0.5544, -0.2308, 1.995, 1.9854, 1.9415, 1.8562, 1.8551, 1.854, 1.8358, 1.8096, 1.8014, 1.7996, 1.7986, 1.7975, 1.7784, 1.7639, 1.7621, 1.7489, 1.7385, 1.7329, 1.7171, 1.6889, 1.6581, 1.6515, 1.6476, 1.6293, 1.623, 1.6001, 1.596, 1.5952, 1.5943, 1.5813, 1.5782, 1.5559, 1.561, 1.4331, 1.072, 1.1093, 1.1697, 0.6774, 1.269, 0.5682, 1.1146, 0.8137, 0.357, 0.5774, 0.9714, 0.5841, 0.2845, 0.5443, 0.8193, 0.1665, 0.2659, 0.4256, 0.8534, 0.5641, 0.3658, 0.0244, 0.9989, 0.6992, 0.0547, 0.6734, 0.2987, 0.3519, 0.4416, 0.3603, 0.8396, 0.0114, 0.0605, 0.2173, -0.4934, -0.1947, -0.1684, -0.0225, -0.2398, 0.2601, -0.1483, -1.2414, -0.6148, 2.2086, 2.187, 2.1727, 2.1471, 2.1208, 2.1168, 2.1068, 2.1002, 2.0845, 2.0633, 2.0627, 2.055, 2.0459, 2.0387, 2.0353, 2.0332, 1.9997, 1.9935, 1.9797, 1.9485, 1.9459, 1.9417, 1.9264, 1.9084, 1.8924, 1.8879, 1.8761, 1.8584, 1.8541, 1.8529, 1.8421, 1.8296, 1.7966, 1.7966, 1.7059, 1.697, 0.6879, 0.9791, 1.3266, 1.0391, 1.2549, 0.4041, 1.0858, 0.4775, 0.8383, 1.2308, 1.4036, 0.3025, 0.514, 0.4853, 0.6889, 0.7506, 0.4353, 1.271, 0.6657, 1.3669, 0.533, 1.268, 0.3173, -0.2203, -0.2388, 0.9621, 0.2138, 0.464, 0.3792, -0.3465, 0.2975, 0.3915, 0.3082, 0.134, 0.162, -0.0523, 0.0476, -0.2245, -0.0442, -0.3523, -0.2033, -0.0609, -0.6391, -1.2587, 2.3049, 2.2919, 2.2063, 2.1519, 2.0846, 2.0648, 2.0573, 2.0492, 2.0475, 2.0194, 2.0129, 1.9954, 1.9854, 1.9795, 1.9745, 1.9545, 1.9541, 1.9457, 1.9372, 1.9078, 1.8999, 1.8922, 1.8697, 1.862, 1.8571, 1.8549, 1.8446, 1.8432, 1.8411, 1.8403, 1.8281, 1.8377, 1.8314, 1.6275, 1.7698, 1.7025, 1.7296, 1.6657, 1.7817, 1.4501, 1.2565, 0.9329, 0.8765, 1.4652, 0.7662, 0.4492, 0.6125, 0.5832, 0.8951, 0.75, 0.6319, 0.4994, 0.6706, 0.8757, 1.0589, 0.4693, 0.875, 0.6225, 0.495, 0.5705, -0.0164, 0.2976, -0.0631, 0.5141, 1.1074, 0.2442, 0.4908, 0.9383, 0.1251, 0.0927, 0.2878, -0.5858, -0.029, -0.5297, 0.0271, -0.0285, -1.1688, -0.6749, -0.011, -1.0571, 2.3218, 2.2199, 2.1816, 2.0693, 2.056, 1.9982, 1.9354, 1.9311, 1.9225, 1.9069, 1.8996, 1.8665, 1.8523, 1.8458, 1.8453, 1.8331, 1.827, 1.8239, 1.8187, 1.8184, 1.8031, 1.8005, 1.7683, 1.7655, 1.7564, 1.7536, 1.7422, 1.7324, 1.7321, 1.7251, 1.7008, 1.6946, 1.5699, 1.3979, 1.1966, 0.9494, 1.4956, 0.9215, 0.5121, 0.6018, 1.1767, 1.0892, 0.766, 0.2557, 0.2396, 0.1865, 0.9565, 0.9108, 0.7941, 0.2124, 0.3811, 0.3384, 0.7078, 0.4999, 0.4652, 0.3046, 0.6639, 0.213, 0.8314, -0.1753, 0.3065, 0.2442, 0.5297, 0.4378, -0.1861, 0.1546, 0.0329, 0.0927, 0.1199, 0.1642, -0.0449, -0.4825, -0.7201, 0.0527, 0.0918, -0.3023, 2.2215, 2.2022, 2.1909, 2.1738, 2.1666, 2.1622, 2.1501, 2.1375, 2.1204, 2.1059, 2.082, 2.0786, 2.0599, 2.0307, 2.0143, 1.996, 1.9698, 1.9371, 1.9185, 1.9164, 1.9161, 1.9035, 1.8958, 1.881, 1.8446, 1.8438, 1.8332, 1.8194, 1.8161, 1.8107, 1.8098, 1.806, 1.6044, 1.7033, 1.7185, 1.169, 1.2921, 1.3577, 1.1171, 1.599, 0.92, 0.8364, 1.2024, 0.3823, 1.1864, 0.2888, 0.4265, 0.431, 0.704, 0.4141, 0.3206, 0.8511, -0.0543, 0.5996, 0.4234, -0.0837, 0.271, 0.7074, -0.0931, 0.6709, -0.0624, 0.0866, 0.4319, 0.2335, 0.1846, 0.2036, 0.3677, -0.1168, 0.049, 0.0165, 0.0277, -0.5274, 0.0232, -1.0385, 0.0083, 2.3426, 2.3087, 2.2713, 2.2027, 2.1857, 2.1467, 2.1373, 2.1046, 2.0853, 2.0783, 2.072, 2.0094, 1.9965, 1.9921, 1.9827, 1.9715, 1.9686, 1.9666, 1.9426, 1.9388, 1.922, 1.9109, 1.9058, 1.8964, 1.8865, 1.8763, 1.8705, 1.8628, 1.8592, 1.8392, 1.8253, 1.8229, 1.7253, 1.6886, 1.6728, 1.7191, 0.9286, 1.4083, 0.5623, 1.0456, 0.8017, 1.1921, 0.3148, 0.5278, 1.0272, 0.9308, 0.5673, 0.7329, 0.146, 0.681, 0.4643, 0.0556, 0.3696, 0.5601, 0.0199, 0.5281, 0.1172, 0.5737, 0.5326, 0.3562, 0.5095, 0.2663, 0.8129, 0.418, 0.2622, 0.2721, 0.0531, -0.5219, -0.2375, 0.0316, -0.1013, -0.4777, 0.1024, -1.2434, -0.4916, 2.3795, 2.2854, 2.2387, 2.1468, 2.1289, 2.1235, 2.1217, 2.1112, 2.1005, 2.0748, 2.0498, 2.0475, 2.0446, 2.0253, 2.0036, 1.9906, 1.9748, 1.9726, 1.9703, 1.9671, 1.9596, 1.9585, 1.9517, 1.9411, 1.9377, 1.9314, 1.9229, 1.9099, 1.9073, 1.898, 1.7669, 1.8676, 1.7707, 1.7943, 1.8064, 0.6594, 1.1233, 1.1519, 0.436, 0.9617, 1.0559, 1.2416, 1.2009, 1.0461, 0.3457, 0.2174, 0.4785, 0.437, 0.2872, 0.36, 0.5169, 0.6838, 0.0261, -0.0771, 0.1993, -0.1088, 0.9768, 0.3229, -0.0392, 0.7637, 0.1904, 0.2348, 0.1635, -0.3702, 0.0009, 0.0415, 0.2744, -0.0114, 0.2815, -0.4182, -0.2557, -0.0523, -0.0796, 0.0816, 0.035, 3.1906, 3.1405, 3.0891, 2.9848, 2.9731, 2.9716, 2.918, 2.9154, 2.9122, 2.9106, 2.8271, 2.8227, 2.8132, 2.8052, 2.7447, 2.7366, 2.7337, 2.7042, 2.6973, 2.6897, 2.6819, 2.6735, 2.6437, 2.6191, 2.6074, 2.5946, 2.5946, 2.5808, 2.5749, 2.5677, 2.5619, 2.3811, 2.3599, 2.4595, 2.3215, 2.4273, 2.5138, 2.2894, 2.2161, 0.9483, 1.3027, 1.3876, 2.2635, 0.5995, 0.498, 1.5853, 0.6892, 2.1066, 0.8522, 0.5166, 0.097, 0.3507, -0.16, 1.0451, 0.3312, 0.4751, 1.6997, 0.5912, 0.2957, 0.2485, 0.1173, 1.1092, 0.0127, 0.546, -0.5765, 1.3875, -0.6457, 0.128, 0.0894, -0.9051, 0.4057, 0.0307, 0.2134, -0.0806, -0.4686]}, \"token.table\": {\"Topic\": [2, 8, 9, 1, 2, 3, 5, 6, 7, 9, 10, 1, 2, 3, 4, 5, 6, 7, 8, 9, 10, 5, 6, 8, 9, 1, 2, 3, 4, 5, 6, 7, 8, 9, 10, 3, 5, 6, 8, 9, 10, 2, 3, 4, 5, 6, 1, 2, 3, 4, 9, 2, 4, 1, 2, 5, 6, 8, 9, 1, 2, 7, 9, 5, 6, 9, 1, 2, 3, 4, 5, 6, 7, 8, 9, 10, 1, 3, 4, 6, 8, 1, 2, 3, 4, 5, 6, 7, 8, 9, 10, 4, 5, 9, 1, 2, 3, 4, 5, 6, 7, 8, 9, 10, 1, 2, 5, 6, 7, 9, 1, 2, 3, 6, 9, 1, 2, 4, 8, 2, 6, 9, 1, 2, 3, 5, 7, 1, 2, 9, 1, 2, 3, 4, 5, 8, 1, 3, 8, 2, 6, 2, 3, 6, 8, 1, 2, 3, 4, 5, 6, 7, 8, 9, 10, 1, 4, 5, 6, 8, 2, 6, 8, 1, 2, 9, 1, 5, 6, 8, 9, 6, 7, 9, 1, 2, 5, 1, 4, 6, 4, 6, 7, 2, 3, 5, 6, 7, 4, 5, 6, 9, 1, 2, 7, 5, 10, 1, 2, 5, 6, 1, 2, 3, 5, 9, 2, 3, 6, 7, 1, 2, 3, 4, 5, 6, 7, 8, 9, 10, 1, 2, 3, 5, 6, 9, 2, 4, 1, 2, 3, 4, 5, 6, 7, 8, 9, 10, 1, 2, 3, 5, 6, 9, 1, 2, 3, 4, 5, 6, 7, 8, 9, 10, 1, 2, 3, 4, 5, 6, 7, 9, 10, 2, 3, 4, 8, 10, 1, 5, 1, 3, 4, 10, 1, 3, 8, 1, 2, 3, 4, 5, 7, 8, 9, 8, 9, 5, 1, 5, 7, 8, 1, 2, 3, 5, 6, 10, 1, 2, 3, 1, 2, 4, 5, 6, 3, 5, 7, 8, 1, 4, 9, 1, 5, 1, 4, 9, 1, 2, 3, 5, 8, 1, 2, 3, 4, 6, 7, 8, 1, 2, 3, 4, 7, 8, 9, 1, 2, 5, 9, 1, 4, 5, 9, 1, 2, 3, 5, 6, 7, 8, 9, 10, 1, 2, 3, 5, 6, 9, 10, 1, 6, 1, 2, 3, 6, 7, 8, 9, 1, 3, 9, 1, 2, 3, 4, 5, 6, 7, 8, 9, 10, 2, 1, 2, 3, 4, 5, 6, 7, 8, 9, 10, 2, 2, 3, 4, 8, 10, 1, 2, 3, 8, 9, 1, 2, 3, 4, 5, 6, 7, 8, 9, 10, 2, 6, 9, 2, 4, 6, 7, 9, 1, 2, 3, 4, 5, 6, 7, 8, 9, 10, 1, 2, 3, 4, 5, 6, 7, 8, 9, 10, 4, 6, 10, 1, 2, 3, 4, 5, 6, 7, 8, 9, 10, 1, 2, 3, 4, 5, 6, 7, 8, 9, 10, 1, 2, 9, 10, 1, 2, 3, 4, 5, 6, 7, 8, 9, 10, 1, 2, 3, 4, 5, 6, 7, 8, 9, 10, 1, 2, 6, 1, 2, 5, 9, 3, 6, 9, 10, 2, 3, 4, 5, 9, 2, 4, 10, 1, 2, 3, 4, 5, 6, 7, 8, 9, 10, 1, 7, 1, 2, 3, 4, 5, 6, 7, 8, 9, 10, 1, 2, 3, 5, 6, 7, 8, 9, 1, 5, 1, 5, 9, 1, 2, 3, 4, 5, 6, 8, 10, 1, 2, 3, 4, 9, 1, 2, 3, 4, 5, 6, 7, 8, 9, 10, 1, 2, 3, 4, 5, 6, 7, 8, 9, 10, 1, 2, 3, 4, 6, 9, 1, 2, 3, 4, 5, 6, 7, 8, 9, 10, 1, 2, 3, 4, 5, 6, 7, 8, 9, 10, 1, 3, 4, 5, 7, 8, 1, 2, 4, 5, 6, 8, 9, 10, 1, 1, 1, 2, 3, 7, 8, 9, 1, 2, 4, 6, 2, 4, 1, 2, 3, 4, 5, 6, 7, 8, 9, 10, 1, 3, 6, 1, 2, 3, 4, 5, 6, 7, 8, 9, 10, 9, 1, 2, 3, 4, 5, 6, 7, 8, 9, 10, 1, 2, 3, 4, 5, 6, 7, 8, 9, 10, 1, 2, 3, 4, 5, 6, 7, 8, 9, 10, 1, 2, 3, 4, 6, 9, 10, 2, 4, 9, 2, 3, 9, 1, 2, 3, 6, 7, 8, 9, 2, 5, 6, 9, 1, 2, 3, 5, 6, 9, 10, 2, 7, 9, 6, 2, 3, 7, 1, 2, 3, 4, 5, 6, 7, 8, 9, 10, 2, 4, 6, 6, 9, 1, 2, 3, 4, 5, 6, 7, 8, 9, 10, 2, 3, 5, 6, 8, 10, 1, 2, 3, 4, 5, 6, 7, 8, 9, 10, 1, 2, 3, 4, 5, 6, 7, 8, 9, 10, 1, 2, 3, 9, 1, 2, 3, 4, 5, 6, 7, 8, 9, 10, 3, 4, 7, 8, 1, 2, 3, 4, 5, 6, 7, 8, 9, 10, 3, 4, 6, 1, 2, 3, 4, 5, 6, 7, 8, 9, 10, 7, 9, 1, 2, 3, 4, 5, 6, 7, 8, 9, 10, 1, 3, 5, 8, 1, 2, 8, 10, 1, 2, 3, 4, 5, 6, 7, 8, 9, 10, 1, 2, 3, 4, 2, 4, 5, 8, 1, 6, 9, 1, 2, 3, 4, 5, 6, 7, 8, 9, 10, 1, 2, 3, 4, 5, 6, 7, 8, 9, 10, 1, 2, 3, 4, 5, 6, 7, 8, 9, 2, 3, 4, 10, 2, 6, 1, 3, 8, 2, 3, 9, 1, 2, 3, 4, 5, 6, 7, 8, 9, 10, 1, 2, 3, 4, 5, 6, 7, 8, 9, 10, 1, 2, 4, 5, 9, 3, 4, 8, 3, 4, 9, 1, 2, 5, 1, 2, 5, 6, 8, 9, 2, 6, 6, 8, 2, 3, 9, 10, 1, 2, 8, 10, 1, 2, 3, 4, 5, 6, 7, 8, 9, 10, 1, 2, 7, 1, 2, 3, 4, 5, 6, 7, 8, 9, 10, 1, 9, 2, 3, 1, 2, 4, 6, 8, 1, 2, 3, 4, 5, 6, 7, 8, 9, 10, 4, 7, 1, 2, 3, 4, 5, 6, 7, 8, 9, 10, 2, 3, 4, 6, 8, 9, 1, 2, 3, 4, 5, 6, 7, 8, 9, 10, 1, 3, 5, 9, 2, 3, 4, 9, 10, 3, 5, 7, 1, 4, 7, 9, 1, 2, 3, 4, 5, 6, 7, 8, 9, 10, 2, 3, 6, 3, 4, 8, 9, 1, 2, 3, 4, 5, 6, 7, 8, 9, 10, 1, 2, 4, 6, 9, 1, 2, 3, 4, 5, 6, 7, 8, 9, 10, 1, 2, 3, 4, 5, 6, 7, 8, 9, 10, 1, 2, 4, 5, 6, 7, 9, 1, 2, 3, 4, 9, 2, 3, 8, 2, 3, 1, 2, 3, 4, 5, 6, 7, 8, 9, 10, 3, 4, 6, 8, 2, 5, 6, 10, 2, 3, 5, 6, 1, 2, 3, 4, 5, 6, 8, 9, 2, 3, 6, 7, 4, 5, 6, 9, 2, 8, 9, 3, 1, 2, 3, 9, 1, 2, 3, 6, 7, 9, 10, 2, 6, 2, 4, 9, 3, 4, 8, 1, 2, 3, 4, 5, 6, 7, 8, 9, 10, 1, 2, 3, 4, 5, 6, 7, 8, 9, 10, 3, 4, 5, 6, 7, 2, 4, 7, 1, 2, 3, 4, 5, 6, 7, 8, 9, 10, 1, 2, 3, 4, 5, 6, 7, 8, 9, 10, 3, 7, 8, 9, 10, 2, 5, 6, 2, 6, 9, 4, 7, 9, 2, 3, 4, 9, 1, 2, 3, 4, 5, 6, 7, 8, 9, 3, 8, 9, 10, 1, 2, 3, 4, 5, 6, 7, 8, 9, 10, 2, 3, 1, 2, 3, 4, 5, 6, 7, 8, 9, 10, 1, 2, 3, 6, 9, 3, 6, 8, 9, 1, 2, 3, 4, 5, 6, 7, 8, 9, 10, 2, 3, 6, 9, 1, 4, 6, 5, 6, 7, 8, 1, 2, 3, 4, 5, 6, 7, 8, 9, 10, 10, 1, 6, 1, 5, 6, 7, 8, 9, 2, 3, 1, 2, 3, 4, 5, 6, 8, 9, 1, 3, 4, 6, 3, 5, 6, 7, 9, 3, 5, 6, 7, 8, 1, 2, 3, 4, 6, 8, 1, 2, 3, 4, 6, 8, 9, 1, 2, 3, 4, 5, 6, 7, 8, 9, 10, 1, 2, 3, 4, 5, 6, 7, 8, 9, 10, 1, 6, 7, 2, 3, 8, 9, 2, 8, 9, 1, 2, 3, 4, 5, 6, 7, 8, 1, 2, 3, 4, 5, 6, 7, 8, 9, 10, 1, 2, 5, 6, 9, 10, 2, 3, 4, 2, 3, 4, 1, 2, 3, 4, 5, 6, 7, 8, 9, 10, 1, 4, 8, 2, 3, 5, 1, 2, 4, 8, 9, 1, 2, 7, 1, 4, 5, 6, 7, 8, 10, 1, 2, 3, 4, 5, 6, 7, 8, 9, 10, 1, 2, 3, 4, 5, 6, 7, 8, 9, 10, 1, 4, 1, 4, 6, 7, 1, 2, 3, 4, 5, 6, 7, 8, 9, 10, 1, 2, 3, 4, 9, 10, 1, 2, 3, 4, 5, 6, 7, 8, 9, 10, 1, 2, 3, 4, 5, 6, 7, 8, 9, 10, 1, 2, 3, 4, 5, 6, 7, 8, 9, 10, 1, 2, 3, 4, 5, 6, 7, 8, 9, 10, 1, 3, 4, 1, 2, 3, 4, 5, 6, 7, 8, 9, 10, 1, 3, 10, 1, 3, 5, 8, 1, 2, 3, 4, 5, 6, 7, 8, 9, 10, 1, 2, 3, 4, 5, 6, 7, 8, 9, 10, 4, 6, 7, 1, 2, 3, 5, 6, 7, 9, 1, 6, 7, 8, 1, 2, 3, 4, 5, 6, 7, 8, 9, 10, 1, 2, 3, 4, 5, 6, 7, 8, 9, 10, 2, 3, 4, 5, 6, 7, 9, 1, 2, 3, 4, 5, 6, 7, 8, 9, 10, 1, 5, 9, 1, 3, 4, 5, 6, 7, 2, 7, 1, 2, 3, 4, 5, 6, 7, 8, 9, 10, 1, 2, 3, 1, 2, 3, 4, 6, 7, 8, 9, 1, 2, 3, 4, 5, 6, 7, 8, 9, 10, 1, 2, 3, 4, 7, 9, 1, 2, 3, 4, 5, 6, 7, 8, 9, 10, 1, 2, 3, 4, 5, 6, 7, 8, 9, 10, 2, 3, 4, 7, 9, 2, 3, 8, 9, 2, 4, 9, 1, 4, 1, 2, 5, 6, 8, 9, 1, 2, 3, 4, 5, 6, 7, 8, 9, 10, 2, 3, 1, 2, 4, 5, 6, 8, 9, 10, 6, 10, 2, 3, 6, 7, 8, 9, 2, 3, 6, 7, 8, 1, 3, 7, 10, 1, 3, 4, 5, 6, 7, 8, 9, 10, 1, 2, 3, 4, 5, 6, 7, 8, 9, 1, 2, 3, 4, 5, 6, 7, 8, 9, 10, 1, 2, 3, 4, 5, 6, 7, 8, 9, 10, 1, 2, 3, 4, 5, 6, 7, 8, 9, 10, 1, 2, 3, 4, 5, 6, 7, 8, 9, 10, 1, 2, 3, 4, 5, 6, 7, 8, 9, 10, 3, 6, 9, 2, 3, 4, 5, 1, 2, 3, 4, 5, 6, 7, 8, 9, 10, 1, 3, 5, 1, 2, 3, 4, 5, 6, 7, 8, 9, 10, 1, 2, 7, 1, 8, 1, 2, 3, 9, 1, 2, 3, 4, 5, 6, 7, 8, 9, 10, 1, 2, 3, 7, 8, 1, 2, 3, 4, 5, 6, 7, 8, 9, 10, 1, 8, 9, 10, 1, 4, 2, 8, 9, 1, 2, 3, 4, 5, 6, 7, 8, 9, 10, 1, 2, 3, 4, 5, 6, 7, 8, 9, 10, 1, 3, 4, 8, 1, 3, 5, 6, 9, 1, 3, 1, 2, 3, 1, 2, 3, 4, 5, 6, 7, 8, 9, 10, 1, 2, 3, 4, 5, 6, 7, 8, 9, 10, 1, 2, 3, 4, 5, 6, 7, 8, 9, 10, 1, 2, 3, 4, 5, 6, 7, 8, 9, 10, 1, 2, 3, 4, 5, 6, 7, 8, 9, 10, 2, 9, 1, 2, 3, 4, 5, 6, 7, 8, 9, 10, 1, 2, 3, 4, 2, 3, 5, 8, 3, 5, 6, 7, 8, 1, 4, 9, 1, 2, 3, 4, 5, 6, 7, 8, 10, 1, 10, 1, 2, 5, 6, 7, 9, 1, 3, 4, 5, 7, 8, 1, 2, 3, 4, 5, 6, 7, 9, 10, 2, 5, 6, 9, 2, 4, 7, 9, 3, 6, 1, 2, 3, 4, 5, 6, 7, 8, 9, 10, 1, 2, 3, 4, 5, 6, 7, 8, 9, 10, 2, 7, 9, 1, 3, 9, 1, 2, 3, 4, 5, 6, 9, 10, 1, 2, 3, 4, 5, 6, 7, 8, 9, 10, 1, 2, 3, 4, 5, 6, 7, 8, 9, 1, 2, 3, 4, 5, 6, 7, 8, 9, 10, 3, 4, 5, 9, 1, 2, 6, 9, 1, 2, 3, 4, 5, 6, 7, 8, 9, 10, 1, 2, 9, 5, 2, 3, 5, 6, 7, 1, 2, 3, 4, 5, 6, 7, 8, 9, 10, 1, 2, 5, 7, 2, 3, 4, 6, 7, 10, 6, 8, 9, 2, 3, 4, 8, 2, 9, 1, 3, 9, 1, 2, 3, 4, 5, 6, 7, 8, 9, 10, 4, 6, 8, 9, 1, 2, 6, 8, 9, 2, 3, 7, 8, 1, 3, 4, 5, 9, 1, 2, 3, 4, 5, 6, 7, 8, 9, 10, 1, 2, 3, 4, 5, 6, 7, 8, 9, 10, 1, 2, 3, 4, 5, 6, 7, 8, 9, 10, 1, 2, 3, 4, 5, 6, 7, 8, 9, 10, 3, 4, 9, 1, 8, 10, 2, 3, 4, 9, 1, 2, 3, 4, 5, 6, 7, 8, 9, 10, 1, 3, 5, 7, 9, 1, 2, 3, 4, 5, 6, 7, 8, 9, 10, 1, 2, 3, 4, 6, 7, 8, 9, 10, 1, 2, 3, 5, 1, 2, 9, 7, 8, 1, 2, 3, 4, 5, 6, 7, 8, 9, 10, 1, 3, 6, 7, 8, 9, 10, 1, 2, 3, 4, 5, 6, 7, 8, 9, 10, 1, 2, 3, 6, 8, 1, 3, 4, 10, 1, 2, 3, 4, 6, 7, 8, 9, 1, 2, 3, 4, 5, 6, 8, 9, 10, 1, 2, 3, 4, 5, 6, 7, 8, 9, 10, 1, 4, 6, 7, 1, 2, 3, 6, 7, 8, 9, 2, 3, 4, 7, 1, 3, 5, 7, 8, 9, 10, 1, 3, 4, 5, 6, 8, 9, 10, 1, 2, 3, 4, 5, 6, 7, 8, 9, 10, 1, 2, 3, 4, 5, 6, 7, 8, 9, 10, 1, 2, 4, 7, 1, 2, 3, 4, 5, 6, 7, 8, 9, 10, 2, 6, 7, 1, 2, 3, 4, 6, 7, 8, 9, 1, 2, 9, 1, 2, 4, 7, 9, 10, 1, 2, 3, 4, 5, 6, 7, 8, 9, 10, 1, 2, 5, 6, 2, 3, 5, 7, 1, 3, 6, 7, 1, 2, 3, 4, 5, 6, 7, 8, 9, 10, 1, 3, 7, 8, 1, 2, 3, 4, 5, 6, 7, 8, 9, 10, 1, 2, 5, 8, 9, 1, 2, 3, 4, 5, 6, 7, 8, 9, 10, 1, 2, 3, 5, 6, 8, 9, 1, 2, 3, 6, 7, 1, 3, 9, 1, 2, 3, 4, 5, 6, 7, 8, 9, 10, 1, 5, 1, 2, 3, 4, 5, 6, 7, 8, 9, 10, 1, 2, 3, 4, 5, 6, 7, 8, 9, 10, 2, 3, 5, 6, 8, 1, 2, 3, 4, 5, 6, 7, 8, 9, 10, 1, 8, 9, 2, 3, 4, 9, 2, 3, 5, 6, 4, 7, 8, 9, 1, 2, 3, 6, 1, 2, 3, 6, 8, 9, 1, 3, 1, 7, 8, 1, 3, 1, 6, 8, 9, 1, 2, 3, 4, 5, 6, 7, 8, 9, 10, 1, 1, 2, 3, 4, 5, 6, 7, 8, 9, 10, 8, 3, 9, 1, 2, 3, 4, 5, 6, 7, 8, 9, 10, 1, 2, 3, 4, 5, 6, 7, 8, 9, 10, 2, 3, 4, 6, 1, 2, 3, 4, 5, 6, 7, 8, 9, 10, 3, 4, 6, 1, 2, 3, 4, 5, 6, 7, 8, 9, 10, 1, 2, 3, 4, 5, 6, 7, 8, 9, 10, 1, 2, 3, 4, 5, 6, 7, 8, 9, 10, 1, 2, 3, 5, 6, 8, 1, 2, 3, 4, 5, 6, 7, 8, 9, 10, 2, 3, 6, 8, 3, 4, 9, 1, 2, 3, 4, 5, 6, 7, 8, 9, 10, 2, 4, 5, 9, 1, 2, 3, 4, 1, 2, 3, 4, 5, 6, 7, 8, 9, 10, 1, 2, 3, 5, 7, 8, 9, 10, 1, 10, 1, 4, 5, 6, 1, 2, 3, 4, 5, 6, 7, 8, 9, 10, 1, 2, 3, 4, 5, 6, 7, 8, 9, 10, 1, 2, 3, 5, 6, 7, 9, 10, 1, 2, 3, 4, 5, 6, 7, 8, 9, 10, 1, 4, 5, 7, 2, 7, 10, 1, 2, 5, 8, 9, 10, 1, 2, 3, 4, 5, 6, 7, 8, 9, 10, 1, 2, 8, 9, 1, 2, 3, 4, 5, 6, 7, 8, 9, 10, 5, 6, 1, 2, 3, 4, 5, 6, 7, 8, 9, 10, 1, 2, 3, 4, 5, 6, 7, 8, 9, 10, 1, 2, 3, 4, 5, 6, 7, 8, 9, 10, 1, 6, 10, 2, 7, 8, 9, 1, 2, 7, 1, 2, 3, 4, 5, 6, 7, 8, 9, 10, 1, 2, 3, 4, 5, 6, 7, 8, 9, 10, 1, 2, 6, 9, 1, 4, 9, 1, 3, 5, 6, 9, 2, 4, 7, 10, 1, 2, 3, 4, 5, 6, 7, 8, 9, 10, 1, 2, 3, 4, 5, 6, 7, 8, 9, 10, 2, 3, 4, 7, 1, 2, 3, 4, 5, 6, 7, 8, 9, 10, 2, 4, 6, 8, 1, 2, 3, 4, 5, 6, 7, 8, 9, 10, 1, 3, 6, 8, 10, 1, 2, 3, 4, 5, 6, 7, 8, 9, 10, 1, 2, 3, 4, 5, 6, 7, 8, 9, 10, 2, 4, 7, 1, 2, 3, 4, 5, 6, 7, 8, 9, 10, 2, 8, 1, 2, 3, 4, 5, 6, 7, 8, 9, 10, 2, 3, 1, 2, 3, 4, 5, 6, 7, 8, 9, 1, 2, 3, 4, 5, 6, 7, 8, 9, 10, 1, 2, 5, 2, 5, 6, 9, 10, 1, 2, 3, 4, 5, 6, 7, 8, 9, 10, 1, 5, 6, 8, 1, 2, 3, 4, 5, 6, 7, 8, 9, 10, 2, 3, 7, 8, 9, 1, 3, 7, 9, 1, 2, 3, 4, 5, 6, 7, 8, 9, 10, 2, 6, 1, 2, 3, 4, 5, 6, 7, 8, 9, 10, 1, 2, 3, 4, 5, 6, 7, 8, 9, 10, 1, 2, 3, 4, 5, 6, 7, 8, 9, 10, 1, 2, 6, 9, 1, 5, 8, 9, 1, 2, 3, 4, 5, 6, 7, 8, 9, 10, 1, 2, 3, 4, 5, 6, 7, 8, 9, 10, 1, 2, 3, 4, 10], \"Freq\": [0.6321835099745106, 0.12643670199490212, 0.12643670199490212, 0.0490385684778934, 0.11033677907526016, 0.07355785271684011, 0.07355785271684011, 0.14711570543368022, 0.4413471163010406, 0.0245192842389467, 0.06129821059736675, 0.35382464779514416, 0.1781158090941542, 0.04573243747012067, 0.026476674324806708, 0.15886004594884023, 0.1299764012308693, 0.016848792752149722, 0.014441822358985477, 0.06017425982910615, 0.016848792752149722, 0.1066991762264024, 0.2133983524528048, 0.5868454692452133, 0.0533495881132012, 0.24649794261909558, 0.16433196174606374, 0.04012757205427137, 0.07834430734405363, 0.24267626909011736, 0.04203840881876049, 0.007643347057956452, 0.07643347057956452, 0.09363100145996654, 0.009554183822445566, 0.061157527001251516, 0.6727327970137668, 0.061157527001251516, 0.061157527001251516, 0.12231505400250303, 0.061157527001251516, 0.06646875387173641, 0.06646875387173641, 0.06646875387173641, 0.13293750774347282, 0.6646875387173641, 0.03212184219528474, 0.03212184219528474, 0.06424368439056947, 0.7388023704915488, 0.12848736878113895, 0.6402583327395519, 0.2743964283169508, 0.07916902990225112, 0.1979225747556278, 0.11875354485337668, 0.03958451495112556, 0.03958451495112556, 0.5145986943646322, 0.6349460141018957, 0.1410991142448657, 0.07054955712243285, 0.07054955712243285, 0.11576013840758007, 0.11576013840758007, 0.6945608304454803, 0.33479931721500855, 0.1262211329607385, 0.12353557694029726, 0.06445334449058988, 0.07967149527309027, 0.1306970596614739, 0.03133148690514786, 0.018798892143088716, 0.0537111204088249, 0.03580741360588326, 0.10119350325036822, 0.15179025487555234, 0.10119350325036822, 0.5565642678770252, 0.05059675162518411, 0.0953252069241466, 0.009532520692414661, 0.052428863808280636, 0.028597562077243982, 0.40513212942762306, 0.1429878103862199, 0.028597562077243982, 0.1715853724634639, 0.06672764484690262, 0.004766260346207331, 0.08038672625535073, 0.6430938100428059, 0.16077345251070146, 0.23290374072568998, 0.014115378225799393, 0.07763458024189665, 0.007057689112899696, 0.03528844556449848, 0.08469226935479636, 0.03528844556449848, 0.05646151290319757, 0.028230756451598785, 0.4234613467739818, 0.01650601740723391, 0.1485541566651052, 0.5942166266604209, 0.1320481392578713, 0.03301203481446782, 0.04951805222170173, 0.044503886477854554, 0.044503886477854554, 0.22251943238927274, 0.5785505242121092, 0.044503886477854554, 0.10916757800280096, 0.05458378900140048, 0.05458378900140048, 0.7641730460196067, 0.10444615888250441, 0.6266769532950265, 0.20889231776500883, 0.12969821946798782, 0.032424554866996955, 0.06484910973399391, 0.713340207073933, 0.032424554866996955, 0.6338573689607154, 0.18110210541734728, 0.09055105270867364, 0.10796001622259095, 0.053980008111295476, 0.053980008111295476, 0.053980008111295476, 0.053980008111295476, 0.7017401054468412, 0.6936931724841643, 0.17342329312104107, 0.057807764373680355, 0.9054810695306437, 0.06965238996389567, 0.07237800711414018, 0.7961580782555419, 0.07237800711414018, 0.07237800711414018, 0.29666340768840227, 0.07790082288220636, 0.10031064864284106, 0.06402807360181344, 0.16113731856456384, 0.10564632144299219, 0.029879767680846273, 0.007469941920211568, 0.1504659729642616, 0.00533567280015112, 0.046539680223653165, 0.046539680223653165, 0.18615872089461266, 0.09307936044730633, 0.5584761626838379, 0.19473842413451803, 0.09736921206725901, 0.5842152724035541, 0.10404856197598158, 0.10404856197598158, 0.6242913718558895, 0.12907208027759298, 0.6453604013879649, 0.08604805351839531, 0.043024026759197656, 0.043024026759197656, 0.55321410497115, 0.36880940331409995, 0.06146823388568333, 0.09180271935717853, 0.13770407903576778, 0.6885203951788389, 0.3026352469693618, 0.10087841565645393, 0.5043920782822696, 0.061750992748705553, 0.24700397099482221, 0.6175099274870556, 0.10733417494981927, 0.10733417494981927, 0.10733417494981927, 0.5903379622240059, 0.10733417494981927, 0.5808721395502509, 0.1659634684429288, 0.0829817342214644, 0.0829817342214644, 0.1367471181664605, 0.6153620317490723, 0.1367471181664605, 0.2926640100405485, 0.585328020081097, 0.17341559719063393, 0.08670779859531696, 0.6069545901672188, 0.08670779859531696, 0.6451217266463748, 0.058647429695124986, 0.23458971878049995, 0.058647429695124986, 0.058647429695124986, 0.7460505969580322, 0.0828945107731147, 0.0828945107731147, 0.0828945107731147, 0.3020636801819342, 0.10588948198259686, 0.04681429729756914, 0.025636400901049766, 0.22738372973105012, 0.03678266216237575, 0.0033438783783977955, 0.02340714864878457, 0.2262691036049175, 0.0033438783783977955, 0.028827369270437362, 0.11530947708174945, 0.028827369270437362, 0.1441368463521868, 0.11530947708174945, 0.5188926468678725, 0.8113026272342526, 0.15211924260642237, 0.20366631442137956, 0.11916646056570081, 0.047666584226280326, 0.02599995503251654, 0.18633301106636854, 0.05199991006503308, 0.01299997751625827, 0.07149987633942048, 0.2729995278414237, 0.004333325838752757, 0.06250745167004493, 0.06250745167004493, 0.6250745167004492, 0.06250745167004493, 0.12501490334008986, 0.06250745167004493, 0.10298199174929405, 0.13024193074175425, 0.13024193074175425, 0.06360652431574045, 0.025745497937323513, 0.08480869908765393, 0.06966428853628716, 0.046947672709237, 0.2665416257040552, 0.07875093486710721, 0.03215277518129541, 0.5305207904913743, 0.11253471313453395, 0.016076387590647705, 0.14468748831582937, 0.03215277518129541, 0.03215277518129541, 0.06430555036259082, 0.016076387590647705, 0.6437509222427131, 0.033881627486458586, 0.033881627486458586, 0.06776325497291717, 0.2032897649187515, 0.38610741799542403, 0.6067402282785235, 0.6223366130410688, 0.0388960383150668, 0.27227226820546757, 0.0388960383150668, 0.286215173232489, 0.09540505774416301, 0.572430346464978, 0.13581542403311048, 0.015090602670345607, 0.030181205340691214, 0.030181205340691214, 0.13581542403311048, 0.015090602670345607, 0.4678086827807138, 0.1659966293738017, 0.7614486600961835, 0.13844521092657883, 0.9273213760670608, 0.04968131460326099, 0.09936262920652197, 0.19872525841304395, 0.6458570898423929, 0.04471190081645552, 0.04471190081645552, 0.04471190081645552, 0.13413570244936657, 0.08942380163291104, 0.6706785122468328, 0.09285436737230292, 0.8356893063507262, 0.09285436737230292, 0.07652460094516805, 0.07652460094516805, 0.07652460094516805, 0.6121968075613444, 0.07652460094516805, 0.04773868683464884, 0.04773868683464884, 0.8115576761890303, 0.04773868683464884, 0.6173513899050616, 0.3086756949525308, 0.044096527850361535, 0.23648775122329094, 0.6306340032621092, 0.17702160481742332, 0.17702160481742332, 0.6195756168609816, 0.03791896299163998, 0.7583792598327995, 0.03791896299163998, 0.11375688897491992, 0.03791896299163998, 0.08986063678288533, 0.02995354559429511, 0.02995354559429511, 0.08986063678288533, 0.11981418237718044, 0.11981418237718044, 0.5391638206973121, 0.012019328345033505, 0.2283672385556366, 0.04807731338013402, 0.08413529841523454, 0.06009664172516752, 0.04807731338013402, 0.5048117904914072, 0.14390365165448915, 0.07195182582724458, 0.14390365165448915, 0.5756146066179566, 0.7346892981753388, 0.1574334210375726, 0.0524778070125242, 0.0524778070125242, 0.0435022671590429, 0.014500755719680966, 0.1740090686361716, 0.5075264501888338, 0.058003022878723866, 0.058003022878723866, 0.058003022878723866, 0.029001511439361933, 0.07250377859840483, 0.10355482029188913, 0.051777410145944565, 0.6213289217513348, 0.10355482029188913, 0.051777410145944565, 0.051777410145944565, 0.051777410145944565, 0.08556660367520265, 0.8556660367520265, 0.0503815286583691, 0.02519076432918455, 0.2015261146334764, 0.0503815286583691, 0.1007630573167382, 0.55419681524206, 0.02519076432918455, 0.10049632660034472, 0.10049632660034472, 0.703474286202413, 0.40519793197348475, 0.12524299715544074, 0.09577405664827822, 0.03683617563395316, 0.1878644957331611, 0.0073672351267906324, 0.040519793197348476, 0.06630511614111569, 0.022101705380371896, 0.014734470253581265, 0.9470921033439686, 0.08474531412861555, 0.1271179711929233, 0.08474531412861555, 0.3292029510380835, 0.06518870317585812, 0.03585378674672196, 0.1108207953989588, 0.03911322190551487, 0.10430192508137298, 0.01629717579396453, 0.9306450542754714, 0.22404348424884898, 0.074681161416283, 0.074681161416283, 0.597449291330264, 0.074681161416283, 0.15469748939885689, 0.061878995759542754, 0.5569109618358848, 0.18563698727862826, 0.030939497879771377, 0.18176263338243076, 0.12502551230791498, 0.12672422850775078, 0.10090374227024661, 0.09207041803110043, 0.0811986343521513, 0.09274990451103475, 0.03465381047665035, 0.13963447162650286, 0.025480742997537022, 0.14343412320775134, 0.21515118481162698, 0.645453554434881, 0.03828568915126393, 0.03828568915126393, 0.19142844575631965, 0.6125710264202229, 0.11485706745379179, 0.09391738682538014, 0.3277525132069389, 0.12458428864591244, 0.1322510141010455, 0.034500264548098826, 0.05558375954971478, 0.11308420046321283, 0.05366707818593151, 0.05175039682214824, 0.013416769546482878, 0.17918286431432295, 0.14163526144739585, 0.07034234461145834, 0.09315607799895835, 0.16730071150833337, 0.09838422523359378, 0.04372632232604168, 0.08174921130520835, 0.07509520573385418, 0.048954469560677095, 0.6106330778879743, 0.2035443592959914, 0.13569623953066096, 0.1980569963846159, 0.08959721265018339, 0.07581302608861672, 0.16069459596773783, 0.05876416376246846, 0.1255086460605808, 0.11390091000873516, 0.050783845226824595, 0.1044696244666106, 0.02285273035207107, 0.11936109607711284, 0.1353520563171088, 0.1547696508942468, 0.02798418041999296, 0.062250523791412916, 0.1473452764971058, 0.12392994185996883, 0.06624826385141191, 0.10279903011425987, 0.058823889454270924, 0.06995078770279531, 0.06995078770279531, 0.06995078770279531, 0.7694586647307484, 0.3037781995160916, 0.03836106956346549, 0.36183819669322853, 0.021772498941426358, 0.04043464089122038, 0.06117035416876929, 0.035250712571833154, 0.06117035416876929, 0.07153821080754376, 0.004147142655509783, 0.033689502742475876, 0.1585388364351806, 0.08917809549478908, 0.019817354554397575, 0.025762560920716847, 0.23978999010821067, 0.1347580109699035, 0.03963470910879515, 0.24771693192996969, 0.00792694182175903, 0.7770179389561968, 0.04316766327534426, 0.12950298982603278, 0.09898109838313619, 0.09898109838313619, 0.5938865902988172, 0.09898109838313619, 0.12212954683366459, 0.061064773416832294, 0.061064773416832294, 0.7327772810019875, 0.03932986543391184, 0.07865973086782369, 0.03932986543391184, 0.7472674432443249, 0.07865973086782369, 0.1265656419706112, 0.0632828209853056, 0.7593938518236674, 0.2951996694082766, 0.19645692284662308, 0.08742847351813068, 0.06171421660103343, 0.12548557375543462, 0.056571365217613974, 0.02262854608704559, 0.06582849770776898, 0.08125705185802734, 0.007199991936787233, 0.12824437073456693, 0.8335884097746851, 0.1264391139587613, 0.12740062813335268, 0.21057160423550364, 0.07668075542365943, 0.15600567482744507, 0.056969714844536945, 0.08028643357837696, 0.05889274319371963, 0.06706561367774602, 0.039902838245540646, 0.12719964824469387, 0.025439929648938774, 0.12719964824469387, 0.07631978894681632, 0.05087985929787755, 0.05087985929787755, 0.4833586633298367, 0.025439929648938774, 0.06465233611603649, 0.8404803695084744, 0.05150230733254367, 0.7210323026556114, 0.154506921997631, 0.07348793602954724, 0.05511595202216043, 0.05511595202216043, 0.01837198400738681, 0.23883579209602854, 0.05511595202216043, 0.05511595202216043, 0.45929960018467025, 0.13207640398814427, 0.04402546799604809, 0.5723310839486252, 0.13207640398814427, 0.08805093599209618, 0.07806152112297242, 0.08006309858766401, 0.17213566196347765, 0.05604416901136482, 0.08406625351704722, 0.030023661970374007, 0.062048901405439616, 0.24419245069237525, 0.10808518309334643, 0.08406625351704722, 0.1968007632589641, 0.12249843427343685, 0.15362508560521176, 0.03514299343910073, 0.03213073685860639, 0.1054289803173022, 0.2751194343518172, 0.030122565804943484, 0.03614707896593218, 0.012049026321977394, 0.047330320225780015, 0.18932128090312006, 0.09466064045156003, 0.047330320225780015, 0.5206335224835802, 0.047330320225780015, 0.06232034196707251, 0.33143090955215837, 0.07081857041712786, 0.3370963951855286, 0.011330971266740457, 0.03399291380022137, 0.056654856333702285, 0.025494685350166028, 0.06232034196707251, 0.011330971266740457, 0.16555844347285537, 0.16555844347285537, 0.07047420228912087, 0.08949105052586777, 0.11298245128890806, 0.17898210105173554, 0.049220077789227275, 0.06599964976282748, 0.07942330734170765, 0.021254124499893595, 0.022449967337894547, 0.15714977136526184, 0.022449967337894547, 0.022449967337894547, 0.49389928143368006, 0.24694964071684003, 0.13458892055453478, 0.033647230138633695, 0.033647230138633695, 0.10094169041590108, 0.5720029123567728, 0.06729446027726739, 0.033647230138633695, 0.06729446027726739, 0.807773529625095, 0.8104914983371937, 0.12417625844804177, 0.12417625844804177, 0.12417625844804177, 0.5794892060908615, 0.04139208614934725, 0.04139208614934725, 0.0700993087189826, 0.1752482717974565, 0.700993087189826, 0.0350496543594913, 0.17956090819480117, 0.7780972688441384, 0.1373327571999777, 0.020142137722663395, 0.06591972345598929, 0.11902172290664734, 0.05310199945065804, 0.032959861727994644, 0.3277675138506134, 0.06225751659732322, 0.07324413717332144, 0.10803510233064911, 0.14958142868993282, 0.07479071434496641, 0.7479071434496641, 0.13709278543161263, 0.09261444309307448, 0.2348280903070846, 0.1300698892728961, 0.055744238259812603, 0.07666661639932232, 0.05325696253693383, 0.054134824556773396, 0.12216913109433997, 0.043454169982058644, 0.9515666113086805, 0.064759757672905, 0.10312287499000633, 0.18266475126216136, 0.07039104094880978, 0.09713963650935749, 0.108050247856423, 0.2080055260037329, 0.06722344410611333, 0.05807260878276806, 0.04047484854556562, 0.13781492523013533, 0.07814248337791178, 0.12076565612950003, 0.11508256642928827, 0.034098538201270595, 0.04404394517664119, 0.10513715945391768, 0.22164049830825888, 0.061093214277276486, 0.08240480065307061, 0.5080732582491299, 0.1290344782854933, 0.04032327446421666, 0.04838792935705999, 0.08871120382127665, 0.024193964678529994, 0.05645258424990332, 0.04032327446421666, 0.04838792935705999, 0.016129309785686663, 0.08026518214138366, 0.08026518214138366, 0.04013259107069183, 0.04013259107069183, 0.20066295535345913, 0.04013259107069183, 0.5618562749896856, 0.15310550480256704, 0.6889747716115516, 0.11482912860192528, 0.16604370750124192, 0.5811529762543467, 0.16604370750124192, 0.04078367444905381, 0.04078367444905381, 0.6933224656339148, 0.04078367444905381, 0.04078367444905381, 0.12235102334716143, 0.04078367444905381, 0.09060408702902155, 0.09060408702902155, 0.5436245221741293, 0.1812081740580431, 0.03310722700267761, 0.03310722700267761, 0.13242890801071044, 0.06621445400535522, 0.06621445400535522, 0.03310722700267761, 0.5959300860481971, 0.205613243661837, 0.5757170822531436, 0.205613243661837, 0.9677715434209546, 0.1851593352528602, 0.04628983381321505, 0.7406373410114409, 0.13995121613249753, 0.024697273435146626, 0.1070215182189687, 0.03292969791352883, 0.07409182030543987, 0.37457531376639047, 0.07820803254463098, 0.09055666926220429, 0.04939454687029325, 0.03292969791352883, 0.07242821889035639, 0.7967104077939203, 0.07242821889035639, 0.6325915174190293, 0.31629575870951465, 0.10956218793590322, 0.07669353155513225, 0.11504029733269838, 0.08764975034872258, 0.08217164095192742, 0.04382487517436129, 0.0712154221583371, 0.35607711079168547, 0.027390546983975805, 0.021912437587180644, 0.05705120315803839, 0.028525601579019195, 0.5419864300013647, 0.14262800789509597, 0.028525601579019195, 0.17115360947411518, 0.15837043501631426, 0.1906909319584192, 0.058715569444824, 0.07756919266105189, 0.04848074541315743, 0.08726534174368338, 0.08403329204947288, 0.11096703950122701, 0.11366041424640241, 0.0711050932726309, 0.21007846413922748, 0.21047040157232305, 0.09328110907674653, 0.047424429404564414, 0.0595744898305272, 0.10895860640056948, 0.077211674319828, 0.0968085459746067, 0.03331468181312376, 0.06349386416148294, 0.7994511824053893, 0.07994511824053892, 0.07994511824053892, 0.07994511824053892, 0.1415273807711336, 0.21360964923841907, 0.08175184106655545, 0.13009970406290544, 0.06065459175905726, 0.10284909037405363, 0.08263089312103454, 0.07559847668520181, 0.08702615339342999, 0.024613457525414544, 0.03851795629604408, 0.8473950385129697, 0.03851795629604408, 0.07703591259208815, 0.25784863888134996, 0.03933284321918898, 0.12892431944067498, 0.03277736934932415, 0.0677398966552699, 0.04151800117581059, 0.10488758191783727, 0.10051726600459406, 0.034962527305945755, 0.19229390018270168, 0.10931709399062481, 0.10931709399062481, 0.7652196579343737, 0.13951203926910274, 0.1798021540580247, 0.10403268445497749, 0.1419174192565011, 0.05231701472591353, 0.10824209943292455, 0.02886455984877988, 0.08058022957784383, 0.07156005462510012, 0.09260712951483545, 0.605227991202004, 0.151306997800501, 0.28691493411087804, 0.06663324972520392, 0.10818104073033107, 0.10112575546530947, 0.035276426325107954, 0.036060346910110355, 0.14267354647043662, 0.10818104073033107, 0.04860307627014874, 0.06663324972520392, 0.08290139259173553, 0.24870417777520656, 0.04145069629586776, 0.5803097481421486, 0.120384947328658, 0.6821813681957286, 0.04012831577621934, 0.120384947328658, 0.07719198739789578, 0.24292772504631904, 0.0840030451094748, 0.25200913532842445, 0.08627339768000115, 0.05675881426315865, 0.06129951940421135, 0.04994775655157962, 0.07038092968631673, 0.018162820564210768, 0.6291165598896115, 0.04839358152997011, 0.14518074458991032, 0.14518074458991032, 0.16937382562175854, 0.05645794187391952, 0.6210373606131147, 0.11291588374783904, 0.7461460469613811, 0.08290511632904235, 0.1658102326580847, 0.06414102342303332, 0.04581501673073809, 0.10079303680762379, 0.009163003346147617, 0.027489010038442854, 0.018326006692295234, 0.17409706357680474, 0.08246703011532856, 0.09163003346147618, 0.40317214723049516, 0.03165555402279964, 0.5112588793545312, 0.034430835471373857, 0.019513697685287452, 0.029400637845833095, 0.045011595994063056, 0.12029110528663864, 0.025150988127703826, 0.16721070727659648, 0.01595786832930174, 0.1147152723283211, 0.05735763616416055, 0.10993546931464104, 0.09559606027360092, 0.038238424109440367, 0.08125665123256078, 0.4493014832859243, 0.02389901506840023, 0.028678818082080275, 0.056591480300030673, 0.056591480300030673, 0.7922807242004294, 0.056591480300030673, 0.223739499611935, 0.671218498835805, 0.07404570085259546, 0.22213710255778638, 0.6664113076733591, 0.7054952949959776, 0.1763738237489944, 0.0881869118744972, 0.13522345550549067, 0.1628200790780398, 0.06071257185960806, 0.04967392243058841, 0.03311594828705894, 0.06071257185960806, 0.3008031969407854, 0.06899155893137279, 0.1186654813619612, 0.011038649429019647, 0.04867511396039981, 0.256355600191439, 0.12006528110231952, 0.03894009116831985, 0.04056259496699984, 0.04705261016171981, 0.17847541785479928, 0.04543010636303982, 0.18496543304951926, 0.03894009116831985, 0.6993575694988888, 0.1554127932219753, 0.03885319830549382, 0.03885319830549382, 0.03885319830549382, 0.06465614437659988, 0.7112175881425987, 0.12931228875319975, 0.05795256487715421, 0.8113359082801589, 0.11590512975430842, 0.23873445282952707, 0.07957815094317569, 0.7162033584885812, 0.04861530180606725, 0.0972306036121345, 0.04861530180606725, 0.0972306036121345, 0.04861530180606725, 0.6806142252849414, 0.8309856323796647, 0.10387320404745809, 0.09317470779072358, 0.885159724011874, 0.07793453125817909, 0.7793453125817909, 0.07793453125817909, 0.07793453125817909, 0.09856712026918385, 0.09856712026918385, 0.09856712026918385, 0.5914027216151031, 0.4606263491560408, 0.04900280310170647, 0.052269656641820234, 0.01633426770056882, 0.1829437982463708, 0.08167133850284411, 0.013067414160455058, 0.052269656641820234, 0.07840448496273035, 0.013067414160455058, 0.1617269674779862, 0.0808634837389931, 0.6469078699119448, 0.1163548065670572, 0.13574727432823339, 0.0872661049252929, 0.34421630276087756, 0.06302552022382264, 0.02424058470147025, 0.0581774032835286, 0.096962338805881, 0.0581774032835286, 0.01454435082088215, 0.7274423746396581, 0.20784067846847373, 0.08569010252095918, 0.8569010252095919, 0.5842810424723117, 0.271273341147859, 0.08346872035318739, 0.041734360176593696, 0.020867180088296848, 0.23313684338048235, 0.20986471641202065, 0.09807539222423144, 0.15500898855778952, 0.03823278001961564, 0.06836187296985624, 0.09828317907216413, 0.045920893393125314, 0.03927171425927911, 0.013921718811490479, 0.14431742551440002, 0.7937458403292001, 0.08009383937458522, 0.16331634434974018, 0.15142741506757518, 0.0531873152096855, 0.046929984008546026, 0.23214698756227434, 0.07696517377401549, 0.058193180170597075, 0.06883064321253417, 0.06820491009242023, 0.14180817056131104, 0.04726939018710368, 0.590867377338796, 0.16544286565486288, 0.02363469509355184, 0.02363469509355184, 0.15070781338257347, 0.14560484001747503, 0.10273986375064827, 0.15615098497201177, 0.060215085708161406, 0.07620440225213647, 0.11056442291046585, 0.049668940753624664, 0.08198777206591468, 0.06599845552193961, 0.1400860439850351, 0.07004302199251755, 0.07004302199251755, 0.7004302199251755, 0.03491285147809354, 0.13965140591237415, 0.03491285147809354, 0.03491285147809354, 0.7331698810399644, 0.06953006217500804, 0.13906012435001608, 0.7648306839250885, 0.06763446054599079, 0.13526892109198158, 0.13526892109198158, 0.6087101449139171, 0.06473728906121884, 0.2631257555391475, 0.09188518447398802, 0.039677693295585736, 0.06891388835549102, 0.10232668270966849, 0.04385429258985792, 0.0501191915312662, 0.2464193583620588, 0.02923619505990528, 0.8776460224842668, 0.041792667737346044, 0.08358533547469209, 0.09972648066217221, 0.09972648066217221, 0.09972648066217221, 0.5983588839730333, 0.18725999942371074, 0.10869973581323579, 0.09190068573300844, 0.10474701814729993, 0.1259928756017051, 0.09634749310718627, 0.06670211061266741, 0.08053662244344288, 0.11956970939455937, 0.01778722949671131, 0.6251490716988958, 0.048088390130684285, 0.19235356052273714, 0.048088390130684285, 0.048088390130684285, 0.15566731756490448, 0.06332054788804675, 0.12219936076926477, 0.06796887522077448, 0.09306984281750427, 0.1542211712836114, 0.08284352268550325, 0.11961695669552713, 0.10753130563043502, 0.033571252958589225, 0.1090988324617086, 0.15407308520523208, 0.12070509123423079, 0.05019706919115848, 0.10735789364583027, 0.0699277091044462, 0.1180936830104133, 0.09197960077223837, 0.1238968123966744, 0.05483957270016736, 0.12247712899058426, 0.02449542579811685, 0.0979817031924674, 0.02449542579811685, 0.02449542579811685, 0.5388993675585707, 0.12247712899058426, 0.11321725997334027, 0.056608629986670135, 0.5660862998667013, 0.056608629986670135, 0.1698258899600104, 0.08648543787179777, 0.08648543787179777, 0.6918835029743822, 0.6699235687655888, 0.20097707062967662, 0.15631272876701968, 0.12825659796268282, 0.07014032701084218, 0.05611226160867374, 0.272545270670701, 0.07815636438350984, 0.030060140147503786, 0.1042084858446798, 0.0941884391288452, 0.012024056059001515, 0.10137576625450181, 0.6589424806542619, 0.10137576625450181, 0.15206364938175274, 0.14813913895884753, 0.20739479454238655, 0.029627827791769507, 0.5925565558353901, 0.0745239155424709, 0.0745239155424709, 0.670715239882238, 0.0745239155424709, 0.7167434538303107, 0.05309210769113412, 0.02654605384556706, 0.02654605384556706, 0.02654605384556706, 0.02654605384556706, 0.02654605384556706, 0.07963816153670118, 0.040756673712914325, 0.08151334742582865, 0.5298367582678862, 0.2852967159904003, 0.07895048264921796, 0.7105543438429617, 0.07895048264921796, 0.07895048264921796, 0.25842561806444503, 0.08614187268814834, 0.6029931088170384, 0.8686699694684898, 0.1764535640636683, 0.211744276876402, 0.07058142562546732, 0.5293606921910049, 0.036081650277952015, 0.14432660111180806, 0.036081650277952015, 0.07216330055590403, 0.6133880547251842, 0.036081650277952015, 0.036081650277952015, 0.6467495161344037, 0.12934990322688075, 0.814484203271042, 0.06787368360592017, 0.06787368360592017, 0.09048304659651128, 0.18096609319302256, 0.633381326175579, 0.12338001973966581, 0.14169424141977244, 0.13012736456917878, 0.09639064042161391, 0.08771548278366866, 0.11036728328274792, 0.10988533008063986, 0.027953285722268035, 0.14506791383452894, 0.026989379318051895, 0.12323282025827041, 0.1153459197617411, 0.18632802423050487, 0.09661453108248401, 0.11633178232380727, 0.0591517537239698, 0.04534967785504351, 0.05323657835157282, 0.1715400857995124, 0.03549105223438188, 0.03570543343605414, 0.6069923684129204, 0.1785271671802707, 0.07141086687210828, 0.07141086687210828, 0.1517698911720183, 0.6829645102740823, 0.07588494558600915, 0.14428047696964755, 0.10174881709197367, 0.1555677251679533, 0.041059410112677476, 0.04825707563043767, 0.11434473174805401, 0.1380643112952183, 0.09814998433309358, 0.056926990913194274, 0.10174881709197367, 0.17450508126093675, 0.11496805353661715, 0.31410914626968617, 0.06774903154836369, 0.034901016252187354, 0.13549806309672738, 0.022583010516121226, 0.04516602103224245, 0.08212003824044083, 0.006159002868033062, 0.10311748007556369, 0.10311748007556369, 0.10311748007556369, 0.10311748007556369, 0.6187048804533821, 0.15382457321070023, 0.6152982928428009, 0.23073685981605033, 0.09191817443578199, 0.22979543608945496, 0.6434272210504739, 0.0658269550050687, 0.0658269550050687, 0.8557504150658931, 0.061508921342423396, 0.24603568536969359, 0.615089213424234, 0.061508921342423396, 0.06947173249123956, 0.06947173249123956, 0.5036700605614869, 0.04341983280702473, 0.026051899684214837, 0.052103799368429675, 0.06947173249123956, 0.12157553185966924, 0.04341983280702473, 0.06975997711639097, 0.13951995423278193, 0.2092799313491729, 0.5580798169311277, 0.15736403200237073, 0.12630534147558703, 0.05176448421130616, 0.06522325010624576, 0.22672844084552096, 0.02588224210565308, 0.09007020252767271, 0.0890349128434466, 0.13044650021249152, 0.03623513894791431, 0.7677919610863796, 0.10968456586948279, 0.09806658477669208, 0.1225832309708651, 0.11645406942232184, 0.39226633910676834, 0.07354993858251906, 0.006129161548543255, 0.030645807742716275, 0.06742077703397581, 0.07354993858251906, 0.02451664619417302, 0.11781806467818165, 0.6479993557299991, 0.058909032339090825, 0.058909032339090825, 0.058909032339090825, 0.2268265879808885, 0.07560886266029616, 0.07560886266029616, 0.6048709012823693, 0.1714347474321149, 0.21188564289362516, 0.06549192598530232, 0.07319685845416142, 0.14639371690832284, 0.21188564289362516, 0.023114797406577292, 0.025041030523792064, 0.03852466234429548, 0.030819729875436387, 0.06388988137111133, 0.06388988137111133, 0.12777976274222266, 0.7027886950822246, 0.7953723961677607, 0.08837471068530674, 0.08837471068530674, 0.1737807536430209, 0.08689037682151045, 0.08689037682151045, 0.6082326377505731, 0.1905025160033394, 0.15141095925120904, 0.08148662534246887, 0.1403992531238484, 0.09084657555072544, 0.06221613961958772, 0.03578804491392214, 0.1486580327193689, 0.07212667513421231, 0.02642809470566558, 0.9661624393626457, 0.8242616985587857, 0.09158463317319841, 0.07337072960348465, 0.1467414592069693, 0.07337072960348465, 0.6603365664313617, 0.07337072960348465, 0.07337072960348465, 0.8316986361384141, 0.075608966921674, 0.10838589469465702, 0.01548369924209386, 0.01548369924209386, 0.21677178938931405, 0.12386959393675089, 0.01548369924209386, 0.49547837574700354, 0.01548369924209386, 0.07972483127198392, 0.07972483127198392, 0.23917449381595177, 0.5580738189038874, 0.08660871247369599, 0.043304356236847995, 0.043304356236847995, 0.736174056026416, 0.043304356236847995, 0.048185745872345864, 0.048185745872345864, 0.048185745872345864, 0.1445572376170376, 0.6264146963404963, 0.1738465414802964, 0.07726512954679841, 0.11589769432019761, 0.579488471600988, 0.019316282386699603, 0.019316282386699603, 0.0899018166439539, 0.07192145331516311, 0.14384290663032623, 0.5214305365349327, 0.053941089986372336, 0.053941089986372336, 0.053941089986372336, 0.06008228446742621, 0.03519105233092106, 0.13904757262461492, 0.09527333679834726, 0.05750732941882222, 0.12960607077973368, 0.2901116021427151, 0.04806582757394096, 0.08239856155532736, 0.060940602816960864, 0.18095344029428798, 0.04403021395884752, 0.11705593467108243, 0.031680275897219556, 0.05745405967800835, 0.09504082769165867, 0.13907104165050618, 0.1132972578697174, 0.07624744368483351, 0.14497753376693695, 0.05679455869609201, 0.11358911739218402, 0.7951238217452882, 0.24333031707229905, 0.6083257926807476, 0.06083257926807476, 0.06083257926807476, 0.09564961054548221, 0.7651968843638577, 0.09564961054548221, 0.026715119403264015, 0.09795543781196805, 0.044525199005440025, 0.6233527860761604, 0.15138567661849608, 0.008905039801088005, 0.026715119403264015, 0.026715119403264015, 0.09990623424396332, 0.26931245752720545, 0.03619791095795772, 0.07963540410750698, 0.1303124794486478, 0.05646874109441405, 0.13899997807855766, 0.0651562397243239, 0.11583331506546471, 0.007239582191591544, 0.08208195746141836, 0.054721304974278906, 0.10944260994855781, 0.054721304974278906, 0.027360652487139453, 0.6566556596913469, 0.7348015420874533, 0.06123346184062111, 0.12246692368124222, 0.08808353166841973, 0.08808353166841973, 0.7927517850157775, 0.27418912130222006, 0.10538665667928906, 0.08761797619266475, 0.06586666042455566, 0.103854873878718, 0.12958882492831184, 0.02175131576810908, 0.113964640362487, 0.09006882867357845, 0.00765891400285531, 0.6571049743982836, 0.21903499146609456, 0.07301166382203152, 0.20541018139196526, 0.6162305441758957, 0.10270509069598263, 0.6525301761965575, 0.038384128011562206, 0.23030476806937325, 0.038384128011562206, 0.038384128011562206, 0.7533955479352721, 0.09417444349190901, 0.09417444349190901, 0.11431110853553154, 0.03810370284517718, 0.03810370284517718, 0.03810370284517718, 0.03810370284517718, 0.07620740569035436, 0.6477629483680121, 0.04960485377790451, 0.06921607503893652, 0.09344170130256431, 0.05306565752985134, 0.07844488504412807, 0.3057043314219697, 0.05883366378309605, 0.1292033400726815, 0.048451252527255566, 0.11189932131294739, 0.12364179001097937, 0.11293847087570057, 0.0963298722175093, 0.06163635502039867, 0.20373214354047944, 0.11810559045824896, 0.06680347460294707, 0.13877406878844253, 0.03321719731638252, 0.044658676392025386, 0.07983370179241198, 0.8781707197165318, 0.13185631107687526, 0.1977844666153129, 0.06592815553843763, 0.5933533998459387, 0.1402070406838193, 0.20459842233120298, 0.23367840113969884, 0.09658707247107552, 0.036349973510619825, 0.08204708306682759, 0.05504424560179573, 0.03842711485408381, 0.062314240303919695, 0.05088996291486775, 0.04650148501222149, 0.09300297002444298, 0.04650148501222149, 0.18600594004888596, 0.6045193051588793, 0.04650148501222149, 0.13765717459935514, 0.1333553878931253, 0.15916610813050439, 0.030112506943608938, 0.09033752083082681, 0.034414293649838786, 0.034414293649838786, 0.14626074801181485, 0.012905360118689545, 0.2150893353114924, 0.14026951051571573, 0.08015400600898043, 0.27653132073098247, 0.04809240360538825, 0.022042351652469618, 0.06612705495740885, 0.16030801201796085, 0.11822715886324613, 0.040077003004490214, 0.04809240360538825, 0.11730460165828728, 0.13091804241472627, 0.12595613410163167, 0.1912243126815681, 0.03129819089798121, 0.056998331391445445, 0.08473412657746131, 0.1010193641178743, 0.08880543596256456, 0.07175682791244471, 0.15793244950630253, 0.17581159473343114, 0.10826815720872313, 0.06257700829495007, 0.07250986675446594, 0.04767772060567624, 0.18276459565509223, 0.04867100645162783, 0.1281338741277549, 0.014899287689273824, 0.06699185452735638, 0.06699185452735638, 0.870894108855633, 0.22495119758006682, 0.1126087060075364, 0.09370748112211068, 0.07853325832676888, 0.053242887001199245, 0.08838319242199075, 0.13869772063812402, 0.07879947276177489, 0.08651969137694877, 0.044191596210995374, 0.11327737549740824, 0.7363029407331535, 0.05663868774870412, 0.07840625984016707, 0.2352187795205012, 0.5488438188811694, 0.07840625984016707, 0.1212611010379109, 0.11479384231588899, 0.07016975713393778, 0.0682295795173312, 0.12093773810180981, 0.1144704793797879, 0.10832658359386708, 0.2208568853570484, 0.04106709288483916, 0.01972513910216684, 0.13566258611469195, 0.23682716382245894, 0.14087611150094748, 0.1439820415182912, 0.03283411732620508, 0.0775373243615451, 0.0820852933155127, 0.0518024756464114, 0.0775373243615451, 0.020632249400926166, 0.16517507142456142, 0.4955252142736843, 0.24776260713684214, 0.039676117925937185, 0.039676117925937185, 0.039676117925937185, 0.039676117925937185, 0.634817886814995, 0.15870447170374874, 0.07935223585187437, 0.0889259802821156, 0.0444629901410578, 0.6224818619748093, 0.222314950705289, 0.09534535121064736, 0.10163717641744134, 0.1704600644486802, 0.07714745676638166, 0.05265773711532199, 0.11935108430733826, 0.08537522819065073, 0.15313334580227828, 0.08005137609259427, 0.06485419828541494, 0.1319635645574214, 0.26018348189335566, 0.10107847498015256, 0.14413041802725457, 0.06364200276528124, 0.06832156179214016, 0.10014256317478078, 0.04679559026858915, 0.07206520901362728, 0.011230941664461395, 0.05209732439142262, 0.15629197317426785, 0.10419464878284523, 0.05209732439142262, 0.5209732439142262, 0.05209732439142262, 0.05209732439142262, 0.16294914532556867, 0.039905913140955596, 0.05819612333056024, 0.029929434855716697, 0.1812393555151733, 0.22945900056049467, 0.039905913140955596, 0.14632168151683717, 0.07648633352016489, 0.033254927617462994, 0.28916582833887317, 0.5783316566777463, 0.07229145708471829, 0.6551897591565251, 0.054599146596377095, 0.054599146596377095, 0.054599146596377095, 0.10919829319275419, 0.054599146596377095, 0.12113629877004828, 0.847954091390338, 0.04020901832969899, 0.09503949787019761, 0.19007899574039522, 0.04020901832969899, 0.047519748935098804, 0.007310730605399816, 0.1864236304376953, 0.06579657544859835, 0.2887738589132927, 0.047519748935098804, 0.04783841921035564, 0.7175762881553346, 0.19135367684142257, 0.02086634105687151, 0.02086634105687151, 0.5633912085355308, 0.06259902317061454, 0.02086634105687151, 0.1669307284549721, 0.08346536422748604, 0.04173268211374302, 0.09994270080982058, 0.2621736341666068, 0.07249364917895436, 0.09044110601452073, 0.07636466928074319, 0.10416563182995384, 0.09220066060624292, 0.07882804570915426, 0.07988377846418757, 0.042933132038021515, 0.03042716139931329, 0.6085432279862658, 0.12170864559725315, 0.06085432279862658, 0.09128148419793987, 0.06085432279862658, 0.046149842840941285, 0.47688170935639324, 0.023074921420470643, 0.038458202367451066, 0.07691640473490213, 0.06153312378792171, 0.14614116899631407, 0.0538414833144315, 0.06153312378792171, 0.007691640473490214, 0.14953921834365985, 0.031028310434419337, 0.0685208522093427, 0.07326128852571233, 0.2275409431857418, 0.12540608800577815, 0.0702446472334771, 0.15384870590399588, 0.08963734125498919, 0.011204667656873649, 0.16302160927958914, 0.08151080463979457, 0.08151080463979457, 0.570575632478562, 0.08151080463979457, 0.1481622289501776, 0.7037705875133436, 0.11112167171263321, 0.0370405572375444, 0.10268507819828648, 0.6161104691897189, 0.20537015639657297, 0.26160412741878347, 0.680170731288837, 0.17502668009259365, 0.05834222669753122, 0.525080040277781, 0.019447408899177072, 0.05834222669753122, 0.15557927119341658, 0.09645461026228219, 0.17460396602223346, 0.14573798776855776, 0.19150112402438507, 0.06970077675887545, 0.08871007951129603, 0.05984410125762034, 0.05984410125762034, 0.09223032076174428, 0.02041739925259988, 0.3266751326480226, 0.5716814821340396, 0.018964966207624626, 0.056894898622873884, 0.03792993241524925, 0.151719729660997, 0.018964966207624626, 0.22757959449149553, 0.018964966207624626, 0.45515918898299107, 0.09733954380564476, 0.8760558942508029, 0.03972100685285396, 0.7149781233513713, 0.03972100685285396, 0.05958151027928094, 0.01986050342642698, 0.13902352398498885, 0.047125717673397884, 0.09425143534679577, 0.5655086120807746, 0.14137715302019366, 0.14137715302019366, 0.06027673305128962, 0.06027673305128962, 0.3616603983077377, 0.5424905974616065, 0.10334760453589047, 0.11483067170654496, 0.2526274777543989, 0.03444920151196349, 0.011483067170654497, 0.05741533585327248, 0.03444920151196349, 0.022966134341308994, 0.3559750822902894, 0.3952570931395395, 0.043514542363986004, 0.058019389818648, 0.0688980254096445, 0.22845134741092651, 0.101533932182634, 0.0326359067729895, 0.050766966091317, 0.0181310593183275, 0.39750714244538743, 0.1154052994196286, 0.05449694694815795, 0.10578819113465955, 0.06090835247147065, 0.05449694694815795, 0.0320570276165635, 0.1025824883730032, 0.064114055233127, 0.009617108284969051, 0.026473823168675872, 0.052947646337351745, 0.42358117069881396, 0.052947646337351745, 0.013236911584337936, 0.15884293901205523, 0.026473823168675872, 0.06618455792168969, 0.013236911584337936, 0.15884293901205523, 0.09680624162664661, 0.08174749292916825, 0.38507371669266094, 0.06023499478991345, 0.058083744975987964, 0.12262123939375237, 0.0774449933013173, 0.032268747208882204, 0.06883999404561536, 0.01720999851140384, 0.04094787812897875, 0.10919434167727668, 0.06824646354829793, 0.5323224156767238, 0.10919434167727668, 0.05459717083863834, 0.013649292709659585, 0.05459717083863834, 0.013649292709659585, 0.013649292709659585, 0.15738100986278486, 0.2034610352730597, 0.10988313751680925, 0.07160127025288861, 0.08861543348129779, 0.08861543348129779, 0.09145112735269931, 0.08081727533494358, 0.09216005082054969, 0.01559631629270841, 0.7250449119123004, 0.04833632746082002, 0.19334530984328008, 0.18340339132242514, 0.03668067826448503, 0.6602522087607305, 0.03668067826448503, 0.1992766482787532, 0.12735229509205087, 0.17189260555170596, 0.14846770153218367, 0.05014909029531537, 0.10128796526751196, 0.09468940075497047, 0.021115406440132788, 0.049159305618434145, 0.03629210481897823, 0.08361458027099733, 0.08361458027099733, 0.752531222438976, 0.1838639601415073, 0.07169538068410977, 0.08672828308561666, 0.04047319877328777, 0.12488872764328798, 0.2046787480820553, 0.05550610117479466, 0.0994484312715071, 0.10060480837931532, 0.03237855901863022, 0.0781604283068347, 0.1563208566136694, 0.7034438547615124, 0.7132309419788964, 0.2139692825936689, 0.6561873924190814, 0.14581942053757366, 0.07290971026878683, 0.07290971026878683, 0.18518757831901375, 0.15864191862823362, 0.11819138957561628, 0.1636982347598108, 0.15484968152955075, 0.06699618874339747, 0.029073817756568712, 0.06004375406247886, 0.034762173404593026, 0.02970585727301586, 0.1024521508651034, 0.13660286782013786, 0.6830143391006893, 0.034150716955034466, 0.034150716955034466, 0.17545464044978928, 0.08293056517007051, 0.05052581991081417, 0.0675809489946333, 0.1746018839955983, 0.2387718071734678, 0.025369504512180955, 0.05329727838693477, 0.11533531042932685, 0.015989183516080432, 0.11631481165448146, 0.5815740582724073, 0.11631481165448146, 0.11631481165448146, 0.15267740538872726, 0.7633870269436362, 0.08520103307596638, 0.7668092976836974, 0.08520103307596638, 0.16332428308561364, 0.05226377058739636, 0.12993354076588817, 0.08275097009671091, 0.10017222695917635, 0.08202508439410817, 0.18219731135328454, 0.10162399836438181, 0.04427902785876636, 0.06097439901862909, 0.15261160044155517, 0.0436033144118729, 0.18531408625045984, 0.09229368217179765, 0.14316421565231602, 0.0872066288237458, 0.05232397729424748, 0.17223309192689795, 0.06831185924526754, 0.0036336095343227418, 0.09731509772579014, 0.681205684080531, 0.09731509772579014, 0.09731509772579014, 0.06812556506242519, 0.13625113012485038, 0.06812556506242519, 0.6131300855618267, 0.06812556506242519, 0.287314441432099, 0.6704003633415643, 0.08600191756732754, 0.1720038351346551, 0.6880153405386203, 0.09154217827665462, 0.1312014009128314, 0.10077788765768209, 0.01982961131808839, 0.12739846175593772, 0.09561675594475497, 0.12413879962145744, 0.14804298860764617, 0.1056673808594025, 0.05595753330857819, 0.1877377789371311, 0.10598100423870303, 0.09008385360289758, 0.2225601089012764, 0.09841093250736711, 0.05828955233128667, 0.07267268862082495, 0.02649525105967576, 0.10219596837303507, 0.03633634431041247, 0.13731707076702768, 0.15937102455688365, 0.04618846925800022, 0.11318255529888342, 0.24051293001012727, 0.09029637683771215, 0.049517367943261496, 0.03661788553787405, 0.1094375442779645, 0.017476718097621705, 0.1997201488058924, 0.1568003460539098, 0.0766833809168756, 0.2558020244018163, 0.06180451596285495, 0.060659987889468754, 0.08126149321042041, 0.037769426421744696, 0.04520885889875501, 0.024607353577803363, 0.06222017829314126, 0.06954019926880495, 0.2690107708556402, 0.08235023597621638, 0.10065028841537557, 0.05947517042726738, 0.17659550603788624, 0.05398515469551963, 0.06496518615901514, 0.06130517567118331, 0.4133876315016932, 0.5314983833593199, 0.09915965195433005, 0.0937996707676095, 0.09647966136096978, 0.06967975542736707, 0.05359981186720544, 0.13667952026137387, 0.0937996707676095, 0.11255960492113141, 0.23047919102898337, 0.018759934153521902, 0.10911662612008033, 0.654699756720482, 0.1636749391801205, 0.054558313060040164, 0.051391310926234446, 0.20556524370493778, 0.6166957311148134, 0.051391310926234446, 0.1351307660929055, 0.06756538304645275, 0.06756538304645275, 0.06756538304645275, 0.6080884474180748, 0.21711922410828136, 0.6513576723248441, 0.05427980602707034, 0.007213292432573327, 0.028853169730293306, 0.18033231081433315, 0.17311901838175983, 0.028853169730293306, 0.08655950919087992, 0.050493047028013285, 0.03606646216286663, 0.4183709610892529, 0.05639804457950922, 0.9023687132721475, 0.08726128283237591, 0.7417209040751953, 0.04363064141618796, 0.04363064141618796, 0.04363064141618796, 0.04363064141618796, 0.11101314259475278, 0.05550657129737639, 0.11101314259475278, 0.05550657129737639, 0.555065712973764, 0.11101314259475278, 0.11514661396913135, 0.09595551164094279, 0.019191102328188558, 0.07676440931275423, 0.05757330698456568, 0.019191102328188558, 0.49896866053290256, 0.07676440931275423, 0.038382204656377115, 0.6771272103371186, 0.16928180258427966, 0.05642726752809322, 0.05642726752809322, 0.029082415266873073, 0.7270603816718268, 0.17449449160123842, 0.029082415266873073, 0.745576567956908, 0.2033390639882476, 0.22161010431998712, 0.16720283319951124, 0.10439118686530331, 0.0973138182642658, 0.07475470584845874, 0.0893517785880986, 0.06679266617229153, 0.08979411412566345, 0.06502332402203215, 0.023886119028501608, 0.15822155675280175, 0.2297739805072535, 0.11287142902110699, 0.061474617591852916, 0.0372878828016157, 0.061474617591852916, 0.06752130128941222, 0.07759910745201105, 0.03527232156909593, 0.15822155675280175, 0.2114270742090423, 0.10571353710452115, 0.6342812226271269, 0.1019448232169526, 0.2038896464339052, 0.7136137625186681, 0.5803394447510539, 0.05527042330962418, 0.08290563496443627, 0.02763521165481209, 0.02763521165481209, 0.05527042330962418, 0.02763521165481209, 0.08290563496443627, 0.08059786439288336, 0.11489482796432308, 0.05144544535715959, 0.2846647976429497, 0.15776603242862275, 0.03601181175001172, 0.08574240892859931, 0.09088695346431527, 0.08231271257145535, 0.017148481785719864, 0.04052835614425872, 0.12158506843277617, 0.09456616433660368, 0.04052835614425872, 0.01350945204808624, 0.09456616433660368, 0.10807561638468992, 0.45932136963493214, 0.01350945204808624, 0.16043170092163125, 0.14486420433624386, 0.1695127405964406, 0.08389150937680988, 0.07221588693776933, 0.04497276791334138, 0.13751288650425536, 0.08735095306245153, 0.07999963523046302, 0.01945937073173425, 0.10798134986034849, 0.10798134986034849, 0.10798134986034849, 0.647888099162091, 0.07279560292535943, 0.14559120585071886, 0.5823648234028754, 0.14559120585071886, 0.10869364245859948, 0.18659075288726246, 0.2095371885174112, 0.06038535692144416, 0.07427398901337631, 0.09601271750509621, 0.1249976888273894, 0.03743892129129538, 0.06159306405987304, 0.04045818913736759, 0.08641747944012342, 0.7777573149611107, 0.08641747944012342, 0.9395203487839856, 0.039870335170482024, 0.039870335170482024, 0.5980550275572304, 0.19935167585241012, 0.07974067034096405, 0.07512324449819058, 0.2040848142200844, 0.2704436801934861, 0.03881367632406513, 0.09891227192261759, 0.08388762302297947, 0.0788794067231001, 0.06761092004837152, 0.048830108923823876, 0.03380546002418576, 0.09333701666025015, 0.09333701666025015, 0.7466961332820012, 0.0622246777735001, 0.03400211137359762, 0.03400211137359762, 0.06800422274719524, 0.06800422274719524, 0.7480464502191476, 0.03400211137359762, 0.08287818042474128, 0.24863454127422382, 0.5801472629731889, 0.03838224681576281, 0.11514674044728843, 0.11514674044728843, 0.7292626894994934, 0.32986554008004526, 0.5937579721440815, 0.822144755809301, 0.06851206298410842, 0.06851206298410842, 0.1918458716181563, 0.1145866744506635, 0.044272124219574535, 0.08594000583799763, 0.23177759150247845, 0.10416970404605773, 0.027778587745615396, 0.052084852023028864, 0.09982929971080533, 0.047744447687776456, 0.14831349505206678, 0.6674107277343004, 0.07415674752603339, 0.14831349505206678, 0.038252558215556724, 0.07650511643111345, 0.11475767464667018, 0.688546047880021, 0.038252558215556724, 0.08006299717349773, 0.16012599434699545, 0.6405039773879818, 0.08006299717349773, 0.04986307559229708, 0.04986307559229708, 0.04986307559229708, 0.7978092094767533, 0.04986307559229708, 0.10977535947409398, 0.11497524492286686, 0.13808584691741296, 0.09879782352668458, 0.15830762366264078, 0.08088710698091135, 0.05430991468718334, 0.11844183522204876, 0.10053111867627554, 0.026577192293728017, 0.14139682950059276, 0.22881644607979743, 0.15313100622263365, 0.1103012611871844, 0.11734176722040894, 0.10267404631785781, 0.0328556948217145, 0.03344240365781655, 0.030508859477306322, 0.0498702510686738, 0.13272153402858863, 0.15956409147257286, 0.06114138084463072, 0.01789503829598948, 0.33254946166713784, 0.09096644467127986, 0.03877258297464387, 0.02684255744398422, 0.10438772339327197, 0.03728132978331142, 0.13546079960185947, 0.14900687956204542, 0.04063823988055784, 0.027092159920371894, 0.08127647976111568, 0.06773039980092974, 0.013546079960185947, 0.05418431984074379, 0.05418431984074379, 0.3792902388852065, 0.05791774317383588, 0.7529306612598664, 0.11583548634767175, 0.08901035564259123, 0.08901035564259123, 0.7120828451407298, 0.041073052885329024, 0.24643831731197413, 0.6571688461652644, 0.041073052885329024, 0.3131740625550497, 0.10518048969181475, 0.0794772188989597, 0.040922312709677125, 0.08894684498053787, 0.13528037259397396, 0.0213066586835509, 0.11329731204745319, 0.08556483566568852, 0.016910046574246745, 0.13392683456209123, 0.71427645099782, 0.04464227818736375, 0.04464227818736375, 0.04464227818736375, 0.16680215526028294, 0.07929938528767551, 0.05605646201370165, 0.024610154054795847, 0.1421920012054871, 0.14629369354795307, 0.0806666160684975, 0.24883600210960244, 0.04648584654794771, 0.00957061546575394, 0.0317888968425661, 0.46888622842784994, 0.0635777936851322, 0.09536669052769829, 0.055630569474490674, 0.07152501789577372, 0.047683345263849146, 0.13510281158090592, 0.023841672631924573, 0.18245130111404373, 0.18245130111404373, 0.06081710037134791, 0.6081710037134791, 0.1792142309421198, 0.0896071154710599, 0.7168569237684792, 0.0715478837497215, 0.8585746049966579, 0.15552168113174117, 0.16200175117889706, 0.03888042028293529, 0.3758440627350412, 0.09072098066018236, 0.0712807705187147, 0.0712807705187147, 0.019440210141467646, 0.019440210141467646, 0.006480070047155883, 0.04394302674196183, 0.021971513370980914, 0.1538005935968664, 0.021971513370980914, 0.10985756685490458, 0.06591454011294275, 0.5712593476455038, 0.20197242950559172, 0.07293448843257479, 0.12623276844099482, 0.07573966106459688, 0.2861276084662549, 0.06732414316853057, 0.05329828000842003, 0.05610345264044214, 0.030856898952243177, 0.030856898952243177, 0.06549314119984335, 0.06549314119984335, 0.1309862823996867, 0.1309862823996867, 0.5239451295987468, 0.06065755836036761, 0.12131511672073522, 0.06065755836036761, 0.6672331419640437, 0.12026420087837963, 0.625373844567574, 0.024052840175675928, 0.09621136070270371, 0.024052840175675928, 0.024052840175675928, 0.024052840175675928, 0.07215852052702779, 0.14119271623209603, 0.15060556398090244, 0.03765139099522561, 0.11295417298567682, 0.009412847748806403, 0.10354132523687042, 0.08471562973925761, 0.03765139099522561, 0.32003682345941764, 0.14694825357996483, 0.15708261589582448, 0.030403086947578928, 0.339501137581298, 0.13681389126410518, 0.04560463042136839, 0.05067181157929822, 0.04053744926343857, 0.015201543473789464, 0.04560463042136839, 0.07070952910996363, 0.7778048202096, 0.07070952910996363, 0.07070952910996363, 0.04001008721849346, 0.5841472733900045, 0.20005043609246728, 0.07201815699328823, 0.04801210466219215, 0.024006052331096074, 0.04001008721849346, 0.03514245971978765, 0.8785614929946912, 0.03514245971978765, 0.03514245971978765, 0.02129527095669041, 0.02129527095669041, 0.02129527095669041, 0.04259054191338082, 0.02129527095669041, 0.17036216765352327, 0.7240392125274739, 0.03304724766029771, 0.11566536681104198, 0.6113740817155076, 0.016523623830148854, 0.016523623830148854, 0.09914174298089312, 0.016523623830148854, 0.09914174298089312, 0.11592776558960038, 0.06814922961177787, 0.34852404926458136, 0.13185394424887456, 0.030000476079097865, 0.1014830919218866, 0.09074218073307379, 0.0637047146370967, 0.01925956489028505, 0.03037085232698796, 0.09850084454182208, 0.1392475967803456, 0.21400902914841918, 0.08609965907792362, 0.15519197809107219, 0.0857453394932408, 0.03720355639169539, 0.11444522585254868, 0.04358130891598603, 0.025865329681845368, 0.15592344576459946, 0.07796172288229973, 0.15592344576459946, 0.5457320601760981, 0.25639664499645715, 0.06163380889337912, 0.049307047114703295, 0.1873667790358725, 0.03287136474313553, 0.15696076664847214, 0.04108920592891941, 0.1816142902058238, 0.021366387083038094, 0.010683193541519047, 0.10117551846665528, 0.20235103693331055, 0.708228629266587, 0.12186665551079108, 0.054162958004796036, 0.06770369750599504, 0.2708147900239802, 0.4062221850359703, 0.04062221850359703, 0.013540739501199009, 0.013540739501199009, 0.10731618645059746, 0.10731618645059746, 0.7512133051541822, 0.09551768280127228, 0.19103536560254455, 0.06367845520084818, 0.06367845520084818, 0.06367845520084818, 0.4775884140063614, 0.3495248692964208, 0.099056047419792, 0.07282625293168508, 0.027258413879797383, 0.1483269162817654, 0.11746833453105136, 0.03188720114240449, 0.08907843932039447, 0.05976278665721615, 0.004834511140945196, 0.0982421592919107, 0.0982421592919107, 0.6876951150433749, 0.04912107964595535, 0.6754919187930809, 0.12281671250783288, 0.12281671250783288, 0.06140835625391644, 0.08363928744848874, 0.6691142995879099, 0.08363928744848874, 0.08363928744848874, 0.14879039312833514, 0.0334019249879936, 0.2216673203748666, 0.03643846362326575, 0.04251154089381004, 0.30061732489194243, 0.027328847717449308, 0.10020577496398081, 0.012146154541088583, 0.07591346588180364, 0.21999681990087486, 0.5866581864023329, 0.07333227330029161, 0.07333227330029161, 0.30020931532148853, 0.08538887711239944, 0.07370408340228163, 0.044492099126987074, 0.08853478311127731, 0.039548532557321846, 0.2260558167765101, 0.04044736284271552, 0.09392776482363939, 0.008538887711239944, 0.6812018355059116, 0.03243818264313865, 0.1297527305725546, 0.09731454792941595, 0.03243818264313865, 0.0843486913470488, 0.11054393710700183, 0.10006583880302061, 0.11525908134379338, 0.1765559564220835, 0.08539650117744692, 0.06915544880627603, 0.19436872353885157, 0.028814770335948345, 0.035625534233536135, 0.03820649604931892, 0.03820649604931892, 0.1910324802465946, 0.03820649604931892, 0.49668444864114597, 0.07641299209863785, 0.07641299209863785, 0.08086707920203515, 0.08086707920203515, 0.08086707920203515, 0.08086707920203515, 0.7278037128183164, 0.0814289557582368, 0.24428686727471038, 0.6514316460658944, 0.1859577165861509, 0.10682677335800157, 0.05011626404449457, 0.06066705647491447, 0.055391660259704524, 0.11210216957321154, 0.1266095091650389, 0.1965085090165708, 0.06198590552871697, 0.04220316972167964, 0.7753892925929424, 0.1292315487654904, 0.0539757211439008, 0.6072268628688839, 0.031485837333942134, 0.033734825714938, 0.015742918666971067, 0.04497976761991733, 0.0202408954289628, 0.04273077923892147, 0.13718829124074786, 0.0134939302859752, 0.24563204693400426, 0.10076716256111513, 0.06440588317245939, 0.0506736978714245, 0.16962150012686752, 0.16865444482397773, 0.038101978933857354, 0.06885433756575238, 0.08316675604852113, 0.010057375150053718, 0.04283233625115225, 0.04283233625115225, 0.021416168125576125, 0.8138143887718927, 0.04283233625115225, 0.21207721855371578, 0.10934199274342667, 0.16087477482189966, 0.09183406037061212, 0.078620526504337, 0.07300477461117007, 0.09150372202395525, 0.09018236863732773, 0.0422833083720804, 0.050541767038502355, 0.09383652548958323, 0.5630191529374994, 0.18767305097916645, 0.742429800581752, 0.05499480004309274, 0.08249220006463912, 0.08249220006463912, 0.2705942385685303, 0.06764855964213258, 0.6088370367791932, 0.06764855964213258, 0.055394541415269304, 0.7755235798137703, 0.055394541415269304, 0.055394541415269304, 0.05746017975225909, 0.05746017975225909, 0.7469823367793681, 0.11492035950451818, 0.04295827517481859, 0.04295827517481859, 0.5584575772726417, 0.08591655034963717, 0.08591655034963717, 0.17183310069927435, 0.689334113952714, 0.09847630199324486, 0.21920062196975656, 0.10960031098487828, 0.6576018659092696, 0.22679583855306304, 0.7559861285102102, 0.18609082735641014, 0.037218165471282025, 0.5954906475405124, 0.1488726618851281, 0.2370348954171732, 0.1378464735151372, 0.11037891052688109, 0.08545464040790794, 0.1083442762314547, 0.043744637351667164, 0.047305247368663324, 0.15259757215697847, 0.0498485402379463, 0.02695890441439953, 0.9507735140374168, 0.1213051956800727, 0.1732125352268945, 0.13710308162910542, 0.06826943570831999, 0.023696828923549088, 0.0631915437961309, 0.13033255907951996, 0.14556623481608724, 0.09478731569419635, 0.042879976147374536, 0.8999009753173673, 0.09816928673621374, 0.7853542938897099, 0.0511372360424828, 0.09926639937658426, 0.0360968725005761, 0.04211301791733878, 0.4812916333410146, 0.10528254479334694, 0.030080727083813413, 0.057153381459245485, 0.0511372360424828, 0.04211301791733878, 0.1255870550842267, 0.2446074667653566, 0.14364532444274297, 0.022983251910838876, 0.043504012545516446, 0.07469556871022635, 0.1223037333826783, 0.11491625955419439, 0.061562281904032706, 0.04596650382167775, 0.11238706841459895, 0.6743224104875937, 0.11238706841459895, 0.11238706841459895, 0.16757297766789217, 0.11258809437061504, 0.06807652217758119, 0.060221538849398744, 0.04712989996909467, 0.05498488329727712, 0.2958710386948721, 0.07593150550576364, 0.023564949984547334, 0.09687812771425015, 0.2673336592378304, 0.0668334148094576, 0.6015007332851184, 0.03437625401828209, 0.02750100321462567, 0.2055699990293269, 0.11894183890325603, 0.17806899581470123, 0.09728479887173831, 0.1364737284525799, 0.12478580208636399, 0.024063377812797465, 0.05293943118815442, 0.15920928864365047, 0.07960464432182524, 0.0506575009320706, 0.014473571694877316, 0.4124967933040035, 0.08684143016926389, 0.06513107262694792, 0.0506575009320706, 0.0506575009320706, 0.028947143389754633, 0.08311620136227692, 0.35776104064632236, 0.07227495770632775, 0.018068739426581937, 0.03252373096784749, 0.06143371405037859, 0.05420621827974582, 0.15900490695392105, 0.07227495770632775, 0.08672994924759331, 0.14645909457032502, 0.09763939638021668, 0.07322954728516251, 0.5370166800911917, 0.02440984909505417, 0.09763939638021668, 0.0536165942139716, 0.020850897749877844, 0.32467826496238356, 0.0536165942139716, 0.020850897749877844, 0.10127578907083525, 0.11319058778505116, 0.2889338688197358, 0.023829597428431822, 0.0029786996785539778, 0.08919935807267608, 0.08919935807267608, 0.6243955065087327, 0.08919935807267608, 0.15145157921202534, 0.07572578960601267, 0.681532106454114, 0.24972514153848868, 0.06992303963077683, 0.2796921585231073, 0.09156588523077919, 0.03662635409231167, 0.08324171384616288, 0.04994502830769774, 0.058269199692314026, 0.06159886824616054, 0.018313177046155836, 0.06765976780155046, 0.608937910213954, 0.06765976780155046, 0.20297930340465137, 0.6168230356024489, 0.1370717856894331, 0.06853589284471655, 0.06853589284471655, 0.4059337184720147, 0.056043087998002034, 0.1878200786960068, 0.028778883026001043, 0.030293561080001096, 0.02120549275600077, 0.12874763459000466, 0.10905681988800395, 0.012117424432000439, 0.019690814702000712, 0.0284192175214687, 0.2273537401717496, 0.0284192175214687, 0.0284192175214687, 0.0568384350429374, 0.0284192175214687, 0.0284192175214687, 0.5968035679508427, 0.3197019208366874, 0.5594783614642029, 0.0800076351020517, 0.0800076351020517, 0.5600534457143619, 0.1600152702041034, 0.12763116130136348, 0.1953538183184135, 0.07640504894231284, 0.20316797105115006, 0.03299308931599872, 0.05817202589926091, 0.11547581260599554, 0.09463807198536477, 0.035597806893577576, 0.05990850428431348, 0.1460936607402673, 0.1905969817640882, 0.21238826309299363, 0.06690844126339973, 0.09207583660100879, 0.04972095176454475, 0.02608815370361916, 0.06598768289738964, 0.13381688252679946, 0.016573650588181582, 0.016299908506048667, 0.03259981701209733, 0.34229807862702205, 0.016299908506048667, 0.016299908506048667, 0.048899725518146, 0.016299908506048667, 0.5052971636875088, 0.17978093811833817, 0.1036961724982906, 0.0785391128981136, 0.10492334613732364, 0.07424400516149801, 0.19880212952335005, 0.07792552607859708, 0.05829074785406869, 0.11474073524958783, 0.009203802292747688, 0.09734515366941783, 0.7300886525206337, 0.14601773050412675, 0.048672576834708915, 0.07667206492160364, 0.30668825968641455, 0.5367044544512255, 0.03977034155729099, 0.03977034155729099, 0.03977034155729099, 0.03977034155729099, 0.5965551233593649, 0.19885170778645497, 0.04561097904783938, 0.07981921333371893, 0.10262470285763861, 0.03420823428587954, 0.011402744761959845, 0.011402744761959845, 0.13683293714351816, 0.02280548952391969, 0.15963842666743785, 0.38769332190663475, 0.0848452702037655, 0.678762161630124, 0.0848452702037655, 0.0848452702037655, 0.22199756011437333, 0.06702973421735925, 0.17095656983876947, 0.019678454082160516, 0.09408760858032997, 0.152508019136744, 0.05842041055641403, 0.15496782589701405, 0.05596060379614397, 0.004304661830472613, 0.3558428756499478, 0.5337643134749217, 0.1801992510573984, 0.18656573765389636, 0.07501382033264972, 0.09134524247149228, 0.15141165949062507, 0.0512086965370487, 0.066986511145761, 0.12622251686969843, 0.046779836296006655, 0.0246355350907964, 0.17000313461914057, 0.05262001785830541, 0.3642924313267298, 0.06476309890252974, 0.06881079258393785, 0.03238154945126487, 0.1376215851678757, 0.05262001785830541, 0.03642924313267298, 0.020238468407040543, 0.1116278416600983, 0.1116278416600983, 0.08845979905139865, 0.07161031351779891, 0.0021061856916999677, 0.27380413992099584, 0.0526546422924992, 0.09267217043479858, 0.16849485533599742, 0.023168042608699646, 0.07936320953397266, 0.07936320953397266, 0.7936320953397266, 0.05909354661989355, 0.7682161060586161, 0.05909354661989355, 0.05909354661989355, 0.24749375837538481, 0.1484962550252309, 0.5939850201009236, 0.12457202544657965, 0.2424104278960469, 0.07406985296823655, 0.3636156418440703, 0.016834057492781034, 0.020200868991337242, 0.03030130348700586, 0.057235795475455514, 0.06733622997112414, 0.006733622997112413, 0.16032566479854, 0.2741568868055034, 0.08336934569524079, 0.1250540185428612, 0.0753530624553138, 0.060923752623445196, 0.040081416199635, 0.1090214520630072, 0.0673367792153868, 0.0048097699439562, 0.11053831471349382, 0.11053831471349382, 0.5526915735674691, 0.11053831471349382, 0.31876557942817835, 0.06375311588563566, 0.573778042970721, 0.2991535669276452, 0.03739419586595565, 0.0747883917319113, 0.5235187421233791, 0.03739419586595565, 0.29714721752969686, 0.059429443505939365, 0.11885888701187873, 0.5348649915534543, 0.19457310936364783, 0.12781797343835374, 0.09004181124807106, 0.021216748627419044, 0.2002654077758822, 0.10556626146325573, 0.04088105223331962, 0.09676907300798442, 0.09987396305102135, 0.02276919364893751, 0.04420056567374476, 0.06945803177302748, 0.2683605773048789, 0.0789295815602585, 0.05682929872338612, 0.04104338241133442, 0.35044734212754775, 0.0157859163120517, 0.03472901588651374, 0.04420056567374476, 0.805949104971236, 0.05756779321223114, 0.05756779321223114, 0.05756779321223114, 0.1963034954521007, 0.09434002936775714, 0.060511028937904825, 0.1295984241819694, 0.18486834037722105, 0.04574062029951861, 0.08004608552415757, 0.09338709977818382, 0.09338709977818382, 0.021917380560186002, 0.1056733169177799, 0.1056733169177799, 0.1056733169177799, 0.6340399015066794, 0.1197098521640746, 0.1733557610176848, 0.1480229707257022, 0.07500492811939945, 0.07152787847148026, 0.10778853908549456, 0.07351476398457693, 0.13262460799920298, 0.0740114853628511, 0.024836068913708424, 0.09934607400522176, 0.03311535800174059, 0.2318075060121841, 0.06623071600348118, 0.5298457280278495, 0.03565409372775886, 0.04662458410553082, 0.08364998913051117, 0.10147703599439059, 0.08364998913051117, 0.14398768620825692, 0.21118193977211017, 0.124789328047156, 0.09324916821106163, 0.0754221213471822, 0.0586650746215406, 0.06495061833099137, 0.12361569295253198, 0.2713259701246253, 0.06180784647626599, 0.0900927931687945, 0.0869500213140691, 0.11313978677011402, 0.08380724945934372, 0.04399880596615545, 0.05907719708438032, 0.7680035620969442, 0.11815439416876064, 0.09798533902228236, 0.17010652764274398, 0.13031552702455826, 0.13081291453228558, 0.098980114037737, 0.07062902609727967, 0.07062902609727967, 0.14822147730274185, 0.0691368635740977, 0.01243468769318304, 0.32238707017722346, 0.5802967263190023, 0.09009653421080821, 0.0952190796341652, 0.1584975819226927, 0.07573331861198372, 0.08889122940531245, 0.11139025244123335, 0.1320813182689106, 0.09230625968755045, 0.1337888334100296, 0.022097254767422303, 0.3000649671203186, 0.6001299342406372, 0.05516185708380328, 0.4455380764461034, 0.029702538429740227, 0.004243219775677176, 0.021216098878385877, 0.03818897798109458, 0.05940507685948045, 0.04667541753244893, 0.3012686040730794, 0.11813163827022842, 0.08238127405686982, 0.1367840022076329, 0.13989272953053367, 0.05129400082786234, 0.05906581913511421, 0.12434909291602991, 0.0901530923641217, 0.07927254673396908, 0.11968600193167879, 0.16022937492840283, 0.16022937492840283, 0.6409174997136113, 0.0456150955665845, 0.182460382266338, 0.0456150955665845, 0.182460382266338, 0.5017660512324296, 0.18788613729689266, 0.11931455434182234, 0.1323431551032857, 0.041142949773042184, 0.09257163698934492, 0.052114403045853436, 0.16388608326261803, 0.1296002917850829, 0.061028708830012574, 0.018514327397868985, 0.07662013200686496, 0.7278912540652172, 0.03831006600343248, 0.11493019801029744, 0.3270294294800162, 0.09744142184506603, 0.06273625790024799, 0.1268073297983736, 0.09877623584294365, 0.04538367592783898, 0.058731815906615144, 0.08275846786841225, 0.05339255991510468, 0.04538367592783898, 0.03636176694575673, 0.1454470677830269, 0.5454265041863509, 0.10908530083727017, 0.10908530083727017, 0.09254309084729934, 0.09254309084729934, 0.555258545083796, 0.09254309084729934, 0.09426960575168766, 0.14890312726687027, 0.2399589964588413, 0.06855971327395466, 0.08891337815215995, 0.07605843191329345, 0.1446181451872481, 0.08141465951282116, 0.03749359319669395, 0.02142491039811083, 0.7449167265724772, 0.14898334531449542, 0.05305971889297945, 0.05305971889297945, 0.07958957833946918, 0.05305971889297945, 0.03979478916973459, 0.4377426808670805, 0.03979478916973459, 0.06632464861622432, 0.1061194377859589, 0.06632464861622432, 0.14275611231166466, 0.1729207945200262, 0.11644970340902375, 0.10978541315368805, 0.09365081569340163, 0.05997861229802126, 0.06839666314686635, 0.05541883475489684, 0.10171811442354484, 0.07856847458922084, 0.1745701936273891, 0.11811068862522237, 0.06359806310588896, 0.1531545193162224, 0.10448253224538902, 0.14342012190205572, 0.12070652793566682, 0.05516158534694451, 0.04802302724322228, 0.020117754655944467, 0.12236562742280781, 0.040788542474269274, 0.040788542474269274, 0.7341937645368469, 0.6122967781867714, 0.2186774207809898, 0.08747096831239592, 0.04373548415619796, 0.067109299677926, 0.12389409171309418, 0.21423353358722533, 0.049041411303099774, 0.05678479203516816, 0.05678479203516816, 0.11098845715964686, 0.06452817276723655, 0.10066394951688902, 0.15744874155205718, 0.07194061322119061, 0.15316388621285743, 0.04409263390976199, 0.12763657184404786, 0.04409263390976199, 0.18797386035214322, 0.17288953822511938, 0.06845961580726204, 0.10791091983178593, 0.020885984483571467, 0.16012793508003512, 0.12009595131002634, 0.04003198377000878, 0.16012793508003512, 0.5204157890101142], \"Term\": [\"'s_wedding\", \"'s_wedding\", \"'s_wedding\", \"'ve_ever\", \"'ve_ever\", \"'ve_ever\", \"'ve_ever\", \"'ve_ever\", \"'ve_ever\", \"'ve_ever\", \"'ve_ever\", \"0\", \"0\", \"0\", \"0\", \"0\", \"0\", \"0\", \"0\", \"0\", \"0\", \"1.5\", \"1.5\", \"1.5\", \"1.5\", \"10\", \"10\", \"10\", \"10\", \"10\", \"10\", \"10\", \"10\", \"10\", \"10\", \"107_lb\", \"107_lb\", \"107_lb\", \"107_lb\", \"107_lb\", \"107_lb\", \"110_pound\", \"110_pound\", \"110_pound\", \"110_pound\", \"110_pound\", \"115_lb_30_dd\", \"115_lb_30_dd\", \"115_lb_30_dd\", \"115_lb_30_dd\", \"115_lb_30_dd\", \"115_lb_30dd_chest\", \"115_lb_30dd_chest\", \"120\", \"120\", \"120\", \"120\", \"120\", \"120\", \"127_lb\", \"127_lb\", \"127_lb\", \"127_lb\", \"155_lb\", \"155_lb\", \"155_lb\", \"2\", \"2\", \"2\", \"2\", \"2\", \"2\", \"2\", \"2\", \"2\", \"2\", \"25p\", \"25p\", \"25p\", \"25p\", \"25p\", \"26\", \"26\", \"26\", \"26\", \"26\", \"26\", \"26\", \"26\", \"26\", \"26\", \"26_27\", \"26_27\", \"26_27\", \"29\", \"29\", \"29\", \"29\", \"29\", \"29\", \"29\", \"29\", \"29\", \"29\", \"2p\", \"2p\", \"2p\", \"2p\", \"2p\", \"2p\", \"3/4_length\", \"3/4_length\", \"3/4_length\", \"3/4_length\", \"3/4_length\", \"3/4_length_sleeve\", \"3/4_length_sleeve\", \"3/4_length_sleeve\", \"3/4_length_sleeve\", \"32_dd\", \"32_dd\", \"32_dd\", \"34_b\", \"34_b\", \"34_b\", \"34_b\", \"34_b\", \"34d_chest\", \"34d_chest\", \"34d_chest\", \"38_30_40\", \"38_30_40\", \"38_30_40\", \"38_30_40\", \"38_30_40\", \"38_30_40\", \"39\", \"39\", \"39\", \"3_inch_above\", \"3_inch_above\", \"3rd\", \"3rd\", \"3rd\", \"3rd\", \"4\", \"4\", \"4\", \"4\", \"4\", \"4\", \"4\", \"4\", \"4\", \"4\", \"4_inch\", \"4_inch\", \"4_inch\", \"4_inch\", \"4_inch\", \"4th\", \"4th\", \"4th\", \"5\\\"1\", \"5\\\"1\", \"5\\\"1\", \"5\\\"3\", \"5\\\"3\", \"5\\\"3\", \"5\\\"3\", \"5\\\"3\", \"5'3_135\", \"5'3_135\", \"5'3_135\", \"5'4_120\", \"5'4_120\", \"5'4_120\", \"5'5_110\", \"5'5_110\", \"5'5_110\", \"5'5_125_lb\", \"5'5_125_lb\", \"5'5_125_lb\", \"5'5_135lbs_34c\", \"5'5_135lbs_34c\", \"5'5_135lbs_34c\", \"5'5_135lbs_34c\", \"5'5_135lbs_34c\", \"5'5_tall_145_lb\", \"5'5_tall_145_lb\", \"5'5_tall_145_lb\", \"5'5_tall_145_lb\", \"5'6_125_lb\", \"5'6_125_lb\", \"5'6_125_lb\", \"5'6_145_lb\", \"5'6_145_lb\", \"5'7_140_lb\", \"5'7_140_lb\", \"5'7_140_lb\", \"5'7_140_lb\", \"5'8_135\", \"5'8_135\", \"5'8_135\", \"5'8_135\", \"5'8_135\", \"5ft2\", \"5ft2\", \"5ft2\", \"5ft2\", \"6\", \"6\", \"6\", \"6\", \"6\", \"6\", \"6\", \"6\", \"6\", \"6\", \"6p\", \"6p\", \"6p\", \"6p\", \"6p\", \"6p\", \"70\", \"70\", \"8\", \"8\", \"8\", \"8\", \"8\", \"8\", \"8\", \"8\", \"8\", \"8\", \"80\", \"80\", \"80\", \"80\", \"80\", \"80\", \"absolutely\", \"absolutely\", \"absolutely\", \"absolutely\", \"absolutely\", \"absolutely\", \"absolutely\", \"absolutely\", \"absolutely\", \"absolutely\", \"absolutely_gorgeous\", \"absolutely_gorgeous\", \"absolutely_gorgeous\", \"absolutely_gorgeous\", \"absolutely_gorgeous\", \"absolutely_gorgeous\", \"absolutely_gorgeous\", \"absolutely_gorgeous\", \"absolutely_gorgeous\", \"absolutely_stunning\", \"absolutely_stunning\", \"absolutely_stunning\", \"absolutely_stunning\", \"absolutely_stunning\", \"adjustment\", \"adjustment\", \"adn\", \"adn\", \"adn\", \"adn\", \"affordable\", \"affordable\", \"affordable\", \"ag\", \"ag\", \"ag\", \"ag\", \"ag\", \"ag\", \"ag\", \"ag\", \"ag_jean\", \"ag_jean\", \"ag_jeans\", \"ag_stevie\", \"ag_stevie\", \"ag_stevie\", \"ag_stevie\", \"agree_with_another_reviewer\", \"agree_with_another_reviewer\", \"agree_with_another_reviewer\", \"agree_with_another_reviewer\", \"agree_with_another_reviewer\", \"agree_with_another_reviewer\", \"aka\", \"aka\", \"aka\", \"albeit\", \"albeit\", \"albeit\", \"albeit\", \"albeit\", \"alot\", \"alot\", \"alot\", \"alot\", \"already_sell\", \"already_sell\", \"already_sell\", \"ample_room\", \"ample_room\", \"an_8/10\", \"an_8/10\", \"an_8/10\", \"an_evening\", \"an_evening\", \"an_evening\", \"an_evening\", \"an_evening\", \"an_hour\", \"an_hour\", \"an_hour\", \"an_hour\", \"an_hour\", \"an_hour\", \"an_hour\", \"an_hourglass\", \"an_hourglass\", \"an_hourglass\", \"an_hourglass\", \"an_hourglass\", \"an_hourglass\", \"an_hourglass\", \"an_outdoor\", \"an_outdoor\", \"an_outdoor\", \"an_outdoor\", \"an_undershirt\", \"an_undershirt\", \"an_undershirt\", \"an_undershirt\", \"another_pair\", \"another_pair\", \"another_pair\", \"another_pair\", \"another_pair\", \"another_pair\", \"another_pair\", \"another_pair\", \"another_pair\", \"appealing\", \"appealing\", \"appealing\", \"appealing\", \"appealing\", \"appealing\", \"appealing\", \"around_town\", \"around_town\", \"at_first_sight\", \"at_first_sight\", \"at_first_sight\", \"at_first_sight\", \"at_first_sight\", \"at_first_sight\", \"at_first_sight\", \"athletic_frame\", \"athletic_frame\", \"athletic_frame\", \"available\", \"available\", \"available\", \"available\", \"available\", \"available\", \"available\", \"available\", \"available\", \"available\", \"baby_shower\", \"bad\", \"bad\", \"bad\", \"bad\", \"bad\", \"bad\", \"bad\", \"bad\", \"bad\", \"bad\", \"bailey_44\", \"balance_out\", \"balance_out\", \"balance_out\", \"balance_out\", \"balance_out\", \"basic_tee\", \"basic_tee\", \"basic_tee\", \"basic_tee\", \"basic_tee\", \"beautiful\", \"beautiful\", \"beautiful\", \"beautiful\", \"beautiful\", \"beautiful\", \"beautiful\", \"beautiful\", \"beautiful\", \"beautiful\", \"become_available\", \"become_available\", \"become_available\", \"bed\", \"bed\", \"bed\", \"bed\", \"bed\", \"belt\", \"belt\", \"belt\", \"belt\", \"belt\", \"belt\", \"belt\", \"belt\", \"belt\", \"belt\", \"big\", \"big\", \"big\", \"big\", \"big\", \"big\", \"big\", \"big\", \"big\", \"big\", \"big_cheste\", \"big_cheste\", \"big_cheste\", \"bit\", \"bit\", \"bit\", \"bit\", \"bit\", \"bit\", \"bit\", \"bit\", \"bit\", \"bit\", \"black\", \"black\", \"black\", \"black\", \"black\", \"black\", \"black\", \"black\", \"black\", \"black\", \"bland\", \"bland\", \"bland\", \"bland\", \"blouse\", \"blouse\", \"blouse\", \"blouse\", \"blouse\", \"blouse\", \"blouse\", \"blouse\", \"blouse\", \"blouse\", \"boot\", \"boot\", \"boot\", \"boot\", \"boot\", \"boot\", \"boot\", \"boot\", \"boot\", \"boot\", \"border\", \"border\", \"border\", \"bracelet\", \"bracelet\", \"bracelet\", \"bracelet\", \"brilliant\", \"brilliant\", \"brilliant\", \"brilliant\", \"brocade\", \"brocade\", \"brocade\", \"brocade\", \"brocade\", \"brown_boot\", \"brown_boot\", \"brown_boot\", \"bust\", \"bust\", \"bust\", \"bust\", \"bust\", \"bust\", \"bust\", \"bust\", \"bust\", \"bust\", \"butter\", \"butter\", \"buy\", \"buy\", \"buy\", \"buy\", \"buy\", \"buy\", \"buy\", \"buy\", \"buy\", \"buy\", \"buy_my_usual\", \"buy_my_usual\", \"buy_my_usual\", \"buy_my_usual\", \"buy_my_usual\", \"buy_my_usual\", \"buy_my_usual\", \"buy_my_usual\", \"c.\", \"c.\", \"camel\", \"camel\", \"camel\", \"cape\", \"cape\", \"cape\", \"cape\", \"cape\", \"cape\", \"cape\", \"cape\", \"capri\", \"capri\", \"capri\", \"capri\", \"capri\", \"cardigan\", \"cardigan\", \"cardigan\", \"cardigan\", \"cardigan\", \"cardigan\", \"cardigan\", \"cardigan\", \"cardigan\", \"cardigan\", \"casual\", \"casual\", \"casual\", \"casual\", \"casual\", \"casual\", \"casual\", \"casual\", \"casual\", \"casual\", \"caution\", \"caution\", \"caution\", \"caution\", \"caution\", \"caution\", \"cheap\", \"cheap\", \"cheap\", \"cheap\", \"cheap\", \"cheap\", \"cheap\", \"cheap\", \"cheap\", \"cheap\", \"chest\", \"chest\", \"chest\", \"chest\", \"chest\", \"chest\", \"chest\", \"chest\", \"chest\", \"chest\", \"chilly\", \"chilly\", \"chilly\", \"chilly\", \"chilly\", \"chilly\", \"chino\", \"chino\", \"chino\", \"chino\", \"chino\", \"chino\", \"chino\", \"chino\", \"chocolate\", \"chunky_necklace\", \"circle\", \"circle\", \"circle\", \"circle\", \"circle\", \"circle\", \"clip\", \"clip\", \"clip\", \"clip\", \"clung\", \"clung\", \"coat\", \"coat\", \"coat\", \"coat\", \"coat\", \"coat\", \"coat\", \"coat\", \"coat\", \"coat\", \"cold_winter\", \"cold_winter\", \"cold_winter\", \"color\", \"color\", \"color\", \"color\", \"color\", \"color\", \"color\", \"color\", \"color\", \"color\", \"color_blocking\", \"comfortable\", \"comfortable\", \"comfortable\", \"comfortable\", \"comfortable\", \"comfortable\", \"comfortable\", \"comfortable\", \"comfortable\", \"comfortable\", \"comfy\", \"comfy\", \"comfy\", \"comfy\", \"comfy\", \"comfy\", \"comfy\", \"comfy\", \"comfy\", \"comfy\", \"compare\", \"compare\", \"compare\", \"compare\", \"compare\", \"compare\", \"compare\", \"compare\", \"compare\", \"compare\", \"complexion\", \"complexion\", \"complexion\", \"complexion\", \"complexion\", \"complexion\", \"complexion\", \"concerned_that\", \"concerned_that\", \"concerned_that\", \"confusing\", \"confusing\", \"confusing\", \"cooler_weather\", \"cooler_weather\", \"cooler_weather\", \"cooler_weather\", \"cooler_weather\", \"cooler_weather\", \"cooler_weather\", \"cottony\", \"cottony\", \"cottony\", \"cottony\", \"count\", \"count\", \"count\", \"count\", \"count\", \"count\", \"count\", \"coverup\", \"coverup\", \"coverup\", \"cranberry\", \"crooked\", \"crooked\", \"crooked\", \"crop\", \"crop\", \"crop\", \"crop\", \"crop\", \"crop\", \"crop\", \"crop\", \"crop\", \"crop\", \"cross_over\", \"cross_over\", \"cross_over\", \"crush\", \"crush\", \"cuff\", \"cuff\", \"cuff\", \"cuff\", \"cuff\", \"cuff\", \"cuff\", \"cuff\", \"cuff\", \"cuff\", \"customer_service\", \"customer_service\", \"customer_service\", \"customer_service\", \"customer_service\", \"customer_service\", \"cut\", \"cut\", \"cut\", \"cut\", \"cut\", \"cut\", \"cut\", \"cut\", \"cut\", \"cut\", \"cute\", \"cute\", \"cute\", \"cute\", \"cute\", \"cute\", \"cute\", \"cute\", \"cute\", \"cute\", \"ddd\", \"ddd\", \"ddd\", \"ddd\", \"definitely\", \"definitely\", \"definitely\", \"definitely\", \"definitely\", \"definitely\", \"definitely\", \"definitely\", \"definitely\", \"definitely\", \"degree\", \"degree\", \"degree\", \"degree\", \"denim\", \"denim\", \"denim\", \"denim\", \"denim\", \"denim\", \"denim\", \"denim\", \"denim\", \"denim\", \"depend_on_where\", \"depend_on_where\", \"depend_on_where\", \"design\", \"design\", \"design\", \"design\", \"design\", \"design\", \"design\", \"design\", \"design\", \"design\", \"destroy\", \"destroy\", \"detail\", \"detail\", \"detail\", \"detail\", \"detail\", \"detail\", \"detail\", \"detail\", \"detail\", \"detail\", \"develop\", \"develop\", \"develop\", \"develop\", \"dirty\", \"dirty\", \"dirty\", \"dirty\", \"disappointed\", \"disappointed\", \"disappointed\", \"disappointed\", \"disappointed\", \"disappointed\", \"disappointed\", \"disappointed\", \"disappointed\", \"disappointed\", \"divine\", \"divine\", \"divine\", \"divine\", \"dolman\", \"dolman\", \"dolman\", \"dolman\", \"downsize\", \"downsize\", \"downsize\", \"dream\", \"dream\", \"dream\", \"dream\", \"dream\", \"dream\", \"dream\", \"dream\", \"dream\", \"dream\", \"dress\", \"dress\", \"dress\", \"dress\", \"dress\", \"dress\", \"dress\", \"dress\", \"dress\", \"dress\", \"dressy\", \"dressy\", \"dressy\", \"dressy\", \"dressy\", \"dressy\", \"dressy\", \"dressy\", \"dressy\", \"droopy\", \"droopy\", \"droopy\", \"droopy\", \"dusty_rise\", \"dusty_rise\", \"early_spring\", \"early_spring\", \"early_spring\", \"earring\", \"earring\", \"earring\", \"easily\", \"easily\", \"easily\", \"easily\", \"easily\", \"easily\", \"easily\", \"easily\", \"easily\", \"easily\", \"easy\", \"easy\", \"easy\", \"easy\", \"easy\", \"easy\", \"easy\", \"easy\", \"easy\", \"easy\", \"elastic_waistband\", \"elastic_waistband\", \"elastic_waistband\", \"elastic_waistband\", \"elastic_waistband\", \"elevense\", \"elevense\", \"elevense\", \"eliminate\", \"eliminate\", \"eliminate\", \"emerald_green\", \"emerald_green\", \"emerald_green\", \"end_up_keep\", \"end_up_keep\", \"end_up_keep\", \"end_up_keep\", \"end_up_keep\", \"end_up_keep\", \"engagement\", \"engagement\", \"essential\", \"essential\", \"every_year\", \"every_year\", \"every_year\", \"every_year\", \"exaggerated\", \"exaggerated\", \"exaggerated\", \"exaggerated\", \"exchange\", \"exchange\", \"exchange\", \"exchange\", \"exchange\", \"exchange\", \"exchange\", \"exchange\", \"exchange\", \"exchange\", \"exciting\", \"exciting\", \"exciting\", \"eye\", \"eye\", \"eye\", \"eye\", \"eye\", \"eye\", \"eye\", \"eye\", \"eye\", \"eye\", \"eye_catching\", \"eye_catching\", \"eye_closure\", \"eye_closure\", \"eyelet\", \"eyelet\", \"eyelet\", \"eyelet\", \"eyelet\", \"fabric\", \"fabric\", \"fabric\", \"fabric\", \"fabric\", \"fabric\", \"fabric\", \"fabric\", \"fabric\", \"fabric\", \"fabric_content\", \"fabric_content\", \"fall\", \"fall\", \"fall\", \"fall\", \"fall\", \"fall\", \"fall\", \"fall\", \"fall\", \"fall\", \"fall_apart\", \"fall_apart\", \"fall_apart\", \"fall_apart\", \"fall_apart\", \"fall_apart\", \"feel\", \"feel\", \"feel\", \"feel\", \"feel\", \"feel\", \"feel\", \"feel\", \"feel\", \"feel\", \"few_pound\", \"few_pound\", \"few_pound\", \"few_pound\", \"few_week\", \"few_week\", \"few_week\", \"few_week\", \"few_week\", \"few_week_ago\", \"few_week_ago\", \"few_week_ago\", \"few_year\", \"few_year\", \"few_year\", \"few_year\", \"figure\", \"figure\", \"figure\", \"figure\", \"figure\", \"figure\", \"figure\", \"figure\", \"figure\", \"figure\", \"fill\", \"fill\", \"fill\", \"fill_out\", \"fill_out\", \"fill_out\", \"fill_out\", \"find\", \"find\", \"find\", \"find\", \"find\", \"find\", \"find\", \"find\", \"find\", \"find\", \"finger_cross\", \"finger_cross\", \"finger_cross\", \"finger_cross\", \"finger_cross\", \"fit\", \"fit\", \"fit\", \"fit\", \"fit\", \"fit\", \"fit\", \"fit\", \"fit\", \"fit\", \"flattering\", \"flattering\", \"flattering\", \"flattering\", \"flattering\", \"flattering\", \"flattering\", \"flattering\", \"flattering\", \"flattering\", \"fleece\", \"fleece\", \"fleece\", \"fleece\", \"fleece\", \"fleece\", \"fleece\", \"floreat\", \"floreat\", \"floreat\", \"floreat\", \"floreat\", \"fluctuate\", \"fluctuate\", \"fluctuate\", \"folk\", \"folk\", \"for_reference\", \"for_reference\", \"for_reference\", \"for_reference\", \"for_reference\", \"for_reference\", \"for_reference\", \"for_reference\", \"for_reference\", \"for_reference\", \"fortunately\", \"fortunately\", \"fortunately\", \"fortunately\", \"free_shipping\", \"free_shipping\", \"free_shipping\", \"free_shipping\", \"freeze\", \"freeze\", \"freeze\", \"freeze\", \"from_my_usual\", \"from_my_usual\", \"from_my_usual\", \"from_my_usual\", \"from_my_usual\", \"from_my_usual\", \"from_my_usual\", \"from_my_usual\", \"front_panel\", \"front_panel\", \"front_panel\", \"front_panel\", \"frustrating\", \"frustrating\", \"frustrating\", \"frustrating\", \"full_coverage\", \"full_coverage\", \"full_coverage\", \"fyi_36c\", \"g\", \"g\", \"g\", \"g\", \"gentle\", \"gentle\", \"gentle\", \"gentle\", \"gentle\", \"gentle\", \"gentle\", \"glam\", \"glam\", \"goddess\", \"goddess\", \"goddess\", \"going\", \"going\", \"going\", \"good\", \"good\", \"good\", \"good\", \"good\", \"good\", \"good\", \"good\", \"good\", \"good\", \"gorgeous\", \"gorgeous\", \"gorgeous\", \"gorgeous\", \"gorgeous\", \"gorgeous\", \"gorgeous\", \"gorgeous\", \"gorgeous\", \"gorgeous\", \"grandma\", \"grandma\", \"grandma\", \"grandma\", \"grandma\", \"grant\", \"grant\", \"grant\", \"great\", \"great\", \"great\", \"great\", \"great\", \"great\", \"great\", \"great\", \"great\", \"great\", \"grey\", \"grey\", \"grey\", \"grey\", \"grey\", \"grey\", \"grey\", \"grey\", \"grey\", \"grey\", \"guy\", \"guy\", \"guy\", \"guy\", \"guy\", \"haha\", \"haha\", \"haha\", \"heal\", \"heal\", \"heal\", \"heeled\", \"heeled\", \"heeled\", \"heft\", \"heft\", \"heft\", \"heft\", \"high_waiste\", \"high_waiste\", \"high_waiste\", \"high_waiste\", \"high_waiste\", \"high_waiste\", \"high_waiste\", \"high_waiste\", \"high_waiste\", \"highly_recommend_these\", \"highly_recommend_these\", \"highly_recommend_these\", \"highly_recommend_these\", \"hip\", \"hip\", \"hip\", \"hip\", \"hip\", \"hip\", \"hip\", \"hip\", \"hip\", \"hip\", \"hippie\", \"hippie\", \"hold_up\", \"hold_up\", \"hold_up\", \"hold_up\", \"hold_up\", \"hold_up\", \"hold_up\", \"hold_up\", \"hold_up\", \"hold_up\", \"horizontal\", \"horizontal\", \"horizontal\", \"horizontal\", \"horizontal\", \"hug_your\", \"hug_your\", \"hug_your\", \"hug_your\", \"huge\", \"huge\", \"huge\", \"huge\", \"huge\", \"huge\", \"huge\", \"huge\", \"huge\", \"huge\", \"hugging\", \"hugging\", \"hugging\", \"hugging\", \"humid\", \"humid\", \"humid\", \"i&#39;m\", \"i&#39;m\", \"i&#39;m\", \"i&#39;m\", \"if_you\", \"if_you\", \"if_you\", \"if_you\", \"if_you\", \"if_you\", \"if_you\", \"if_you\", \"if_you\", \"if_you\", \"immediately_catch\", \"inconsistent\", \"inconsistent\", \"indoor\", \"indoor\", \"indoor\", \"indoor\", \"indoor\", \"indoor\", \"initial\", \"initial\", \"inseam\", \"inseam\", \"inseam\", \"inseam\", \"inseam\", \"inseam\", \"inseam\", \"inseam\", \"insert\", \"insert\", \"insert\", \"insert\", \"investment\", \"investment\", \"investment\", \"investment\", \"investment\", \"it&#39;s\", \"it&#39;s\", \"it&#39;s\", \"it&#39;s\", \"it&#39;s\", \"itch\", \"itch\", \"itch\", \"itch\", \"itch\", \"itch\", \"its_own\", \"its_own\", \"its_own\", \"its_own\", \"its_own\", \"its_own\", \"its_own\", \"jacket\", \"jacket\", \"jacket\", \"jacket\", \"jacket\", \"jacket\", \"jacket\", \"jacket\", \"jacket\", \"jacket\", \"jean\", \"jean\", \"jean\", \"jean\", \"jean\", \"jean\", \"jean\", \"jean\", \"jean\", \"jean\", \"jersey_knit\", \"jersey_knit\", \"jersey_knit\", \"july\", \"july\", \"july\", \"july\", \"june\", \"june\", \"june\", \"kimono\", \"kimono\", \"kimono\", \"kimono\", \"kimono\", \"kimono\", \"kimono\", \"kimono\", \"knee\", \"knee\", \"knee\", \"knee\", \"knee\", \"knee\", \"knee\", \"knee\", \"knee\", \"knee\", \"know_why\", \"know_why\", \"know_why\", \"know_why\", \"know_why\", \"know_why\", \"lady_who\", \"lady_who\", \"lady_who\", \"land\", \"land\", \"land\", \"large\", \"large\", \"large\", \"large\", \"large\", \"large\", \"large\", \"large\", \"large\", \"large\", \"large_for_reference\", \"large_for_reference\", \"large_for_reference\", \"law\", \"law\", \"law\", \"layer_underneath\", \"layer_underneath\", \"layer_underneath\", \"layer_underneath\", \"layer_underneath\", \"leg_opening\", \"leg_opening\", \"leg_opening\", \"legge\", \"legge\", \"legge\", \"legge\", \"legge\", \"legge\", \"legge\", \"legging\", \"legging\", \"legging\", \"legging\", \"legging\", \"legging\", \"legging\", \"legging\", \"legging\", \"legging\", \"length\", \"length\", \"length\", \"length\", \"length\", \"length\", \"length\", \"length\", \"length\", \"length\", \"lengthen\", \"lengthen\", \"lifestyle\", \"lifestyle\", \"lifestyle\", \"lifestyle\", \"light\", \"light\", \"light\", \"light\", \"light\", \"light\", \"light\", \"light\", \"light\", \"light\", \"light_airy\", \"light_airy\", \"light_airy\", \"light_airy\", \"light_airy\", \"light_airy\", \"light_weight\", \"light_weight\", \"light_weight\", \"light_weight\", \"light_weight\", \"light_weight\", \"light_weight\", \"light_weight\", \"light_weight\", \"light_weight\", \"lightweight\", \"lightweight\", \"lightweight\", \"lightweight\", \"lightweight\", \"lightweight\", \"lightweight\", \"lightweight\", \"lightweight\", \"lightweight\", \"like\", \"like\", \"like\", \"like\", \"like\", \"like\", \"like\", \"like\", \"like\", \"like\", \"line\", \"line\", \"line\", \"line\", \"line\", \"line\", \"line\", \"line\", \"line\", \"line\", \"linen_blend\", \"linen_blend\", \"linen_blend\", \"little\", \"little\", \"little\", \"little\", \"little\", \"little\", \"little\", \"little\", \"little\", \"little\", \"local_retailer\", \"local_retailer\", \"local_retailer\", \"local_store\", \"local_store\", \"local_store\", \"local_store\", \"long\", \"long\", \"long\", \"long\", \"long\", \"long\", \"long\", \"long\", \"long\", \"long\", \"look\", \"look\", \"look\", \"look\", \"look\", \"look\", \"look\", \"look\", \"look\", \"look\", \"lose_their\", \"lose_their\", \"lose_their\", \"lounge_around\", \"lounge_around\", \"lounge_around\", \"lounge_around\", \"lounge_around\", \"lounge_around\", \"lounge_around\", \"lounge_pant\", \"lounge_pant\", \"lounge_pant\", \"lounge_pant\", \"love\", \"love\", \"love\", \"love\", \"love\", \"love\", \"love\", \"love\", \"love\", \"love\", \"lovely\", \"lovely\", \"lovely\", \"lovely\", \"lovely\", \"lovely\", \"lovely\", \"lovely\", \"lovely\", \"lovely\", \"lover\", \"lover\", \"lover\", \"lover\", \"lover\", \"lover\", \"lover\", \"m\", \"m\", \"m\", \"m\", \"m\", \"m\", \"m\", \"m\", \"m\", \"m\", \"magical\", \"magical\", \"magical\", \"maintain\", \"maintain\", \"maintain\", \"maintain\", \"maintain\", \"maintain\", \"makeup\", \"makeup\", \"many_compliment\", \"many_compliment\", \"many_compliment\", \"many_compliment\", \"many_compliment\", \"many_compliment\", \"many_compliment\", \"many_compliment\", \"many_compliment\", \"many_compliment\", \"many_occasion\", \"many_occasion\", \"many_occasion\", \"many_thing\", \"many_thing\", \"many_thing\", \"many_thing\", \"many_thing\", \"many_thing\", \"many_thing\", \"many_thing\", \"material\", \"material\", \"material\", \"material\", \"material\", \"material\", \"material\", \"material\", \"material\", \"material\", \"matronly\", \"matronly\", \"matronly\", \"matronly\", \"matronly\", \"matronly\", \"maxi\", \"maxi\", \"maxi\", \"maxi\", \"maxi\", \"maxi\", \"maxi\", \"maxi\", \"maxi\", \"maxi\", \"medium\", \"medium\", \"medium\", \"medium\", \"medium\", \"medium\", \"medium\", \"medium\", \"medium\", \"medium\", \"meeting\", \"meeting\", \"meeting\", \"meeting\", \"meeting\", \"minimal\", \"minimal\", \"minimal\", \"minimal\", \"mint_green\", \"mint_green\", \"mint_green\", \"mismatch\", \"mismatch\", \"mistake\", \"mistake\", \"mistake\", \"mistake\", \"mistake\", \"mistake\", \"model\", \"model\", \"model\", \"model\", \"model\", \"model\", \"model\", \"model\", \"model\", \"model\", \"mood\", \"mood\", \"morning\", \"morning\", \"morning\", \"morning\", \"morning\", \"morning\", \"morning\", \"morning\", \"mother_'s_day\", \"mother_'s_day\", \"motif\", \"motif\", \"motif\", \"motif\", \"motif\", \"motif\", \"mp\", \"mp\", \"mp\", \"mp\", \"mp\", \"multiple_season\", \"multiple_season\", \"multiple_season\", \"multiple_season\", \"my_eye\", \"my_eye\", \"my_eye\", \"my_eye\", \"my_eye\", \"my_eye\", \"my_eye\", \"my_eye\", \"my_eye\", \"my_normal\", \"my_normal\", \"my_normal\", \"my_normal\", \"my_normal\", \"my_normal\", \"my_normal\", \"my_normal\", \"my_normal\", \"my_usual\", \"my_usual\", \"my_usual\", \"my_usual\", \"my_usual\", \"my_usual\", \"my_usual\", \"my_usual\", \"my_usual\", \"my_usual\", \"my_wardrobe\", \"my_wardrobe\", \"my_wardrobe\", \"my_wardrobe\", \"my_wardrobe\", \"my_wardrobe\", \"my_wardrobe\", \"my_wardrobe\", \"my_wardrobe\", \"my_wardrobe\", \"navy\", \"navy\", \"navy\", \"navy\", \"navy\", \"navy\", \"navy\", \"navy\", \"navy\", \"navy\", \"nearly\", \"nearly\", \"nearly\", \"nearly\", \"nearly\", \"nearly\", \"nearly\", \"nearly\", \"nearly\", \"nearly\", \"need\", \"need\", \"need\", \"need\", \"need\", \"need\", \"need\", \"need\", \"need\", \"need\", \"negative_review\", \"negative_review\", \"negative_review\", \"next_time\", \"next_time\", \"next_time\", \"next_time\", \"nice\", \"nice\", \"nice\", \"nice\", \"nice\", \"nice\", \"nice\", \"nice\", \"nice\", \"nice\", \"no_trouble\", \"no_trouble\", \"no_trouble\", \"normally\", \"normally\", \"normally\", \"normally\", \"normally\", \"normally\", \"normally\", \"normally\", \"normally\", \"normally\", \"nursing\", \"nursing\", \"nursing\", \"occasionally\", \"occasionally\", \"once_again\", \"once_again\", \"once_again\", \"once_again\", \"online\", \"online\", \"online\", \"online\", \"online\", \"online\", \"online\", \"online\", \"online\", \"online\", \"only_drawback\", \"only_drawback\", \"only_drawback\", \"only_drawback\", \"only_drawback\", \"order\", \"order\", \"order\", \"order\", \"order\", \"order\", \"order\", \"order\", \"order\", \"order\", \"outline\", \"outline\", \"outline\", \"outline\", \"overpriced\", \"overpriced\", \"pain\", \"pain\", \"pain\", \"pair\", \"pair\", \"pair\", \"pair\", \"pair\", \"pair\", \"pair\", \"pair\", \"pair\", \"pair\", \"pant\", \"pant\", \"pant\", \"pant\", \"pant\", \"pant\", \"pant\", \"pant\", \"pant\", \"pant\", \"pattern_placement\", \"pattern_placement\", \"pattern_placement\", \"pattern_placement\", \"peachy\", \"peachy\", \"peachy\", \"peachy\", \"peachy\", \"peachy_pink\", \"peachy_pink\", \"percent\", \"percent\", \"percent\", \"perfect\", \"perfect\", \"perfect\", \"perfect\", \"perfect\", \"perfect\", \"perfect\", \"perfect\", \"perfect\", \"perfect\", \"person\", \"person\", \"person\", \"person\", \"person\", \"person\", \"person\", \"person\", \"person\", \"person\", \"petite\", \"petite\", \"petite\", \"petite\", \"petite\", \"petite\", \"petite\", \"petite\", \"petite\", \"petite\", \"picture\", \"picture\", \"picture\", \"picture\", \"picture\", \"picture\", \"picture\", \"picture\", \"picture\", \"picture\", \"piece\", \"piece\", \"piece\", \"piece\", \"piece\", \"piece\", \"piece\", \"piece\", \"piece\", \"piece\", \"pinch\", \"pinch\", \"plan\", \"plan\", \"plan\", \"plan\", \"plan\", \"plan\", \"plan\", \"plan\", \"plan\", \"plan\", \"playful\", \"playful\", \"playful\", \"playful\", \"pleasantly_surprise_by\", \"pleasantly_surprise_by\", \"pleasantly_surprise_by\", \"pleasantly_surprise_by\", \"pleasing\", \"pleasing\", \"pleasing\", \"pleasing\", \"pleasing\", \"point_where\", \"point_where\", \"point_where\", \"poncho\", \"poncho\", \"poncho\", \"poncho\", \"poncho\", \"poncho\", \"poncho\", \"poncho\", \"poncho\", \"ponchos\", \"ponchos\", \"poof\", \"poof\", \"poof\", \"poof\", \"poof\", \"poof\", \"positive\", \"positive\", \"positive\", \"positive\", \"positive\", \"positive\", \"post\", \"post\", \"post\", \"post\", \"post\", \"post\", \"post\", \"post\", \"post\", \"postpartum\", \"postpartum\", \"postpartum\", \"postpartum\", \"potato_sack\", \"potato_sack\", \"potato_sack\", \"potato_sack\", \"present\", \"present\", \"pretty\", \"pretty\", \"pretty\", \"pretty\", \"pretty\", \"pretty\", \"pretty\", \"pretty\", \"pretty\", \"pretty\", \"print\", \"print\", \"print\", \"print\", \"print\", \"print\", \"print\", \"print\", \"print\", \"print\", \"prior_review\", \"prior_review\", \"prior_review\", \"process\", \"process\", \"process\", \"promo\", \"promo\", \"promo\", \"promo\", \"promo\", \"promo\", \"promo\", \"promo\", \"pull\", \"pull\", \"pull\", \"pull\", \"pull\", \"pull\", \"pull\", \"pull\", \"pull\", \"pull\", \"pullover\", \"pullover\", \"pullover\", \"pullover\", \"pullover\", \"pullover\", \"pullover\", \"pullover\", \"pullover\", \"purchase\", \"purchase\", \"purchase\", \"purchase\", \"purchase\", \"purchase\", \"purchase\", \"purchase\", \"purchase\", \"purchase\", \"purse\", \"purse\", \"purse\", \"purse\", \"pxxs\", \"pxxs\", \"pxxs\", \"pxxs\", \"quality\", \"quality\", \"quality\", \"quality\", \"quality\", \"quality\", \"quality\", \"quality\", \"quality\", \"quality\", \"quality_control\", \"quality_control\", \"quality_control\", \"raise_your_arm\", \"really_look_forward\", \"really_look_forward\", \"really_look_forward\", \"really_look_forward\", \"really_look_forward\", \"receive\", \"receive\", \"receive\", \"receive\", \"receive\", \"receive\", \"receive\", \"receive\", \"receive\", \"receive\", \"receive_several\", \"receive_several\", \"receive_several\", \"receive_several\", \"receive_ton\", \"receive_ton\", \"receive_ton\", \"receive_ton\", \"receive_ton\", \"receive_ton\", \"recommendation\", \"recommendation\", \"recommendation\", \"red_motif\", \"red_motif\", \"red_motif\", \"red_motif\", \"reddish\", \"reddish\", \"regualr\", \"regualr\", \"regualr\", \"regular\", \"regular\", \"regular\", \"regular\", \"regular\", \"regular\", \"regular\", \"regular\", \"regular\", \"regular\", \"regularly\", \"regularly\", \"regularly\", \"regularly\", \"relax\", \"relax\", \"relax\", \"relax\", \"relax\", \"repeat\", \"repeat\", \"repeat\", \"repeat\", \"restock\", \"restock\", \"restock\", \"restock\", \"restock\", \"retailer\", \"retailer\", \"retailer\", \"retailer\", \"retailer\", \"retailer\", \"retailer\", \"retailer\", \"retailer\", \"retailer\", \"return\", \"return\", \"return\", \"return\", \"return\", \"return\", \"return\", \"return\", \"return\", \"return\", \"review\", \"review\", \"review\", \"review\", \"review\", \"review\", \"review\", \"review\", \"review\", \"review\", \"rib\", \"rib\", \"rib\", \"rib\", \"rib\", \"rib\", \"rib\", \"rib\", \"rib\", \"rib\", \"rid\", \"rid\", \"rid\", \"royal_blue\", \"royal_blue\", \"royal_blue\", \"rub\", \"rub\", \"rub\", \"rub\", \"run\", \"run\", \"run\", \"run\", \"run\", \"run\", \"run\", \"run\", \"run\", \"run\", \"rust\", \"rust\", \"rust\", \"rust\", \"rust\", \"s\", \"s\", \"s\", \"s\", \"s\", \"s\", \"s\", \"s\", \"s\", \"s\", \"sack\", \"sack\", \"sack\", \"sack\", \"sack\", \"sack\", \"sack\", \"sack\", \"sack\", \"sash\", \"sash\", \"sash\", \"sash\", \"satisfied\", \"satisfied\", \"satisfied\", \"saturday\", \"saturday\", \"scratchy\", \"scratchy\", \"scratchy\", \"scratchy\", \"scratchy\", \"scratchy\", \"scratchy\", \"scratchy\", \"scratchy\", \"scratchy\", \"self\", \"self\", \"self\", \"self\", \"self\", \"self\", \"self\", \"sell_out\", \"sell_out\", \"sell_out\", \"sell_out\", \"sell_out\", \"sell_out\", \"sell_out\", \"sell_out\", \"sell_out\", \"sell_out\", \"sell_out_online\", \"sell_out_online\", \"sell_out_online\", \"sell_out_online\", \"sell_out_online\", \"semi_sheer\", \"semi_sheer\", \"semi_sheer\", \"semi_sheer\", \"sequin\", \"sequin\", \"sequin\", \"sequin\", \"sequin\", \"sequin\", \"sequin\", \"sequin\", \"set\", \"set\", \"set\", \"set\", \"set\", \"set\", \"set\", \"set\", \"set\", \"sew\", \"sew\", \"sew\", \"sew\", \"sew\", \"sew\", \"sew\", \"sew\", \"sew\", \"sew\", \"sh\", \"sh\", \"sh\", \"sh\", \"shapeless\", \"shapeless\", \"shapeless\", \"shapeless\", \"shapeless\", \"shapeless\", \"shapeless\", \"shawl\", \"shawl\", \"shawl\", \"shawl\", \"sheath\", \"sheath\", \"sheath\", \"sheath\", \"sheath\", \"sheath\", \"sheath\", \"shed\", \"shed\", \"shed\", \"shed\", \"shed\", \"shed\", \"shed\", \"shed\", \"shirt\", \"shirt\", \"shirt\", \"shirt\", \"shirt\", \"shirt\", \"shirt\", \"shirt\", \"shirt\", \"shirt\", \"short\", \"short\", \"short\", \"short\", \"short\", \"short\", \"short\", \"short\", \"short\", \"short\", \"shortness\", \"shortness\", \"shortness\", \"shortness\", \"shoulder\", \"shoulder\", \"shoulder\", \"shoulder\", \"shoulder\", \"shoulder\", \"shoulder\", \"shoulder\", \"shoulder\", \"shoulder\", \"shoulder_trend\", \"shoulder_trend\", \"shoulder_trend\", \"side_slit\", \"side_slit\", \"side_slit\", \"side_slit\", \"side_slit\", \"side_slit\", \"side_slit\", \"side_slit\", \"sigh\", \"sigh\", \"sigh\", \"single\", \"single\", \"single\", \"single\", \"single\", \"single\", \"size\", \"size\", \"size\", \"size\", \"size\", \"size\", \"size\", \"size\", \"size\", \"size\", \"sizing_issue\", \"sizing_issue\", \"sizing_issue\", \"sizing_issue\", \"skim_over\", \"skim_over\", \"skim_over\", \"skim_over\", \"skimpy\", \"skimpy\", \"skimpy\", \"skimpy\", \"skinny_jean\", \"skinny_jean\", \"skinny_jean\", \"skinny_jean\", \"skinny_jean\", \"skinny_jean\", \"skinny_jean\", \"skinny_jean\", \"skinny_jean\", \"skinny_jean\", \"skinnys\", \"skinnys\", \"skinnys\", \"skinnys\", \"skirt\", \"skirt\", \"skirt\", \"skirt\", \"skirt\", \"skirt\", \"skirt\", \"skirt\", \"skirt\", \"skirt\", \"skort\", \"skort\", \"skort\", \"skort\", \"skort\", \"sleeve\", \"sleeve\", \"sleeve\", \"sleeve\", \"sleeve\", \"sleeve\", \"sleeve\", \"sleeve\", \"sleeve\", \"sleeve\", \"slide\", \"slide\", \"slide\", \"slide\", \"slide\", \"slide\", \"slide\", \"slight_flare\", \"slight_flare\", \"slight_flare\", \"slight_flare\", \"slight_flare\", \"slight_sheen\", \"slight_sheen\", \"slight_sheen\", \"slightly\", \"slightly\", \"slightly\", \"slightly\", \"slightly\", \"slightly\", \"slightly\", \"slightly\", \"slightly\", \"slightly\", \"slinky\", \"slinky\", \"slip\", \"slip\", \"slip\", \"slip\", \"slip\", \"slip\", \"slip\", \"slip\", \"slip\", \"slip\", \"small\", \"small\", \"small\", \"small\", \"small\", \"small\", \"small\", \"small\", \"small\", \"small\", \"sock\", \"sock\", \"sock\", \"sock\", \"sock\", \"soft\", \"soft\", \"soft\", \"soft\", \"soft\", \"soft\", \"soft\", \"soft\", \"soft\", \"soft\", \"solution\", \"solution\", \"solution\", \"someone_tall\", \"someone_tall\", \"someone_tall\", \"someone_tall\", \"son\", \"son\", \"son\", \"son\", \"sort_of_like\", \"sort_of_like\", \"sort_of_like\", \"sort_of_like\", \"sport_bra\", \"sport_bra\", \"sport_bra\", \"sport_bra\", \"squeeze\", \"squeeze\", \"squeeze\", \"squeeze\", \"squeeze\", \"squeeze\", \"squish\", \"squish\", \"stay_away\", \"stay_away\", \"stay_away\", \"steep\", \"steep\", \"stevie\", \"stevie\", \"stevie\", \"stevie\", \"store\", \"store\", \"store\", \"store\", \"store\", \"store\", \"store\", \"store\", \"store\", \"store\", \"straight_figure\", \"style\", \"style\", \"style\", \"style\", \"style\", \"style\", \"style\", \"style\", \"style\", \"style\", \"subtly\", \"suede_boot\", \"suede_boot\", \"suit\", \"suit\", \"suit\", \"suit\", \"suit\", \"suit\", \"suit\", \"suit\", \"suit\", \"suit\", \"summer\", \"summer\", \"summer\", \"summer\", \"summer\", \"summer\", \"summer\", \"summer\", \"summer\", \"summer\", \"summer_heat\", \"summer_heat\", \"summer_heat\", \"summer_heat\", \"super_cute\", \"super_cute\", \"super_cute\", \"super_cute\", \"super_cute\", \"super_cute\", \"super_cute\", \"super_cute\", \"super_cute\", \"super_cute\", \"surely\", \"surely\", \"surely\", \"sweater\", \"sweater\", \"sweater\", \"sweater\", \"sweater\", \"sweater\", \"sweater\", \"sweater\", \"sweater\", \"sweater\", \"swim\", \"swim\", \"swim\", \"swim\", \"swim\", \"swim\", \"swim\", \"swim\", \"swim\", \"swim\", \"swing\", \"swing\", \"swing\", \"swing\", \"swing\", \"swing\", \"swing\", \"swing\", \"swing\", \"swing\", \"sz\", \"sz\", \"sz\", \"sz\", \"sz\", \"sz\", \"t_shirt\", \"t_shirt\", \"t_shirt\", \"t_shirt\", \"t_shirt\", \"t_shirt\", \"t_shirt\", \"t_shirt\", \"t_shirt\", \"t_shirt\", \"tacky\", \"tacky\", \"tacky\", \"tacky\", \"tangerine\", \"tangerine\", \"tangerine\", \"tank\", \"tank\", \"tank\", \"tank\", \"tank\", \"tank\", \"tank\", \"tank\", \"tank\", \"tank\", \"tape\", \"tape\", \"tape\", \"tape\", \"te\", \"te\", \"te\", \"te\", \"tee\", \"tee\", \"tee\", \"tee\", \"tee\", \"tee\", \"tee\", \"tee\", \"tee\", \"tee\", \"temp\", \"temp\", \"temp\", \"temp\", \"temp\", \"temp\", \"temp\", \"temp\", \"tencel\", \"tencel\", \"theme\", \"theme\", \"theme\", \"theme\", \"thin\", \"thin\", \"thin\", \"thin\", \"thin\", \"thin\", \"thin\", \"thin\", \"thin\", \"thin\", \"think\", \"think\", \"think\", \"think\", \"think\", \"think\", \"think\", \"think\", \"think\", \"think\", \"thrilled\", \"thrilled\", \"thrilled\", \"thrilled\", \"thrilled\", \"thrilled\", \"thrilled\", \"thrilled\", \"tight\", \"tight\", \"tight\", \"tight\", \"tight\", \"tight\", \"tight\", \"tight\", \"tight\", \"tight\", \"tightness\", \"tightness\", \"tightness\", \"tightness\", \"tip\", \"tip\", \"tip\", \"tracy_reese\", \"tracy_reese\", \"tracy_reese\", \"tracy_reese\", \"tracy_reese\", \"tracy_reese\", \"transition\", \"transition\", \"transition\", \"transition\", \"transition\", \"transition\", \"transition\", \"transition\", \"transition\", \"transition\", \"translate\", \"translate\", \"translate\", \"translate\", \"true\", \"true\", \"true\", \"true\", \"true\", \"true\", \"true\", \"true\", \"true\", \"true\", \"truth\", \"truth\", \"try\", \"try\", \"try\", \"try\", \"try\", \"try\", \"try\", \"try\", \"try\", \"try\", \"tuck\", \"tuck\", \"tuck\", \"tuck\", \"tuck\", \"tuck\", \"tuck\", \"tuck\", \"tuck\", \"tuck\", \"tunic\", \"tunic\", \"tunic\", \"tunic\", \"tunic\", \"tunic\", \"tunic\", \"tunic\", \"tunic\", \"tunic\", \"twill\", \"twill\", \"twill\", \"un\", \"un\", \"un\", \"un\", \"undertone\", \"undertone\", \"undertone\", \"unflattering\", \"unflattering\", \"unflattering\", \"unflattering\", \"unflattering\", \"unflattering\", \"unflattering\", \"unflattering\", \"unflattering\", \"unflattering\", \"unfortunately\", \"unfortunately\", \"unfortunately\", \"unfortunately\", \"unfortunately\", \"unfortunately\", \"unfortunately\", \"unfortunately\", \"unfortunately\", \"unfortunately\", \"unless_you_want\", \"unless_you_want\", \"unless_you_want\", \"unless_you_want\", \"unnecessary\", \"unnecessary\", \"unnecessary\", \"unsure\", \"unsure\", \"unsure\", \"unsure\", \"unsure\", \"upper_part\", \"upper_part\", \"upper_part\", \"upper_part\", \"usually\", \"usually\", \"usually\", \"usually\", \"usually\", \"usually\", \"usually\", \"usually\", \"usually\", \"usually\", \"vest\", \"vest\", \"vest\", \"vest\", \"vest\", \"vest\", \"vest\", \"vest\", \"vest\", \"vest\", \"vs.\", \"vs.\", \"vs.\", \"vs.\", \"waist\", \"waist\", \"waist\", \"waist\", \"waist\", \"waist\", \"waist\", \"waist\", \"waist\", \"waist\", \"waist_definition\", \"waist_definition\", \"waist_definition\", \"waist_definition\", \"want\", \"want\", \"want\", \"want\", \"want\", \"want\", \"want\", \"want\", \"want\", \"want\", \"wardrobe_staple\", \"wardrobe_staple\", \"wardrobe_staple\", \"wardrobe_staple\", \"wardrobe_staple\", \"warm\", \"warm\", \"warm\", \"warm\", \"warm\", \"warm\", \"warm\", \"warm\", \"warm\", \"warm\", \"wash\", \"wash\", \"wash\", \"wash\", \"wash\", \"wash\", \"wash\", \"wash\", \"wash\", \"wash\", \"washing_machine\", \"washing_machine\", \"washing_machine\", \"way\", \"way\", \"way\", \"way\", \"way\", \"way\", \"way\", \"way\", \"way\", \"way\", \"we_'ll\", \"we_'ll\", \"wear\", \"wear\", \"wear\", \"wear\", \"wear\", \"wear\", \"wear\", \"wear\", \"wear\", \"wear\", \"wearer\", \"wearer\", \"wedding\", \"wedding\", \"wedding\", \"wedding\", \"wedding\", \"wedding\", \"wedding\", \"wedding\", \"wedding\", \"weight\", \"weight\", \"weight\", \"weight\", \"weight\", \"weight\", \"weight\", \"weight\", \"weight\", \"weight\", \"well_made\", \"well_made\", \"well_made\", \"well_suited\", \"well_suited\", \"well_suited\", \"well_suited\", \"well_suited\", \"white\", \"white\", \"white\", \"white\", \"white\", \"white\", \"white\", \"white\", \"white\", \"white\", \"who_say\", \"who_say\", \"who_say\", \"who_say\", \"wide\", \"wide\", \"wide\", \"wide\", \"wide\", \"wide\", \"wide\", \"wide\", \"wide\", \"wide\", \"window\", \"window\", \"window\", \"window\", \"window\", \"winter_month\", \"winter_month\", \"winter_month\", \"winter_month\", \"wish\", \"wish\", \"wish\", \"wish\", \"wish\", \"wish\", \"wish\", \"wish\", \"wish\", \"wish\", \"with_flip_flop\", \"with_flip_flop\", \"wonderfully\", \"wonderfully\", \"wonderfully\", \"wonderfully\", \"wonderfully\", \"wonderfully\", \"wonderfully\", \"wonderfully\", \"wonderfully\", \"wonderfully\", \"work\", \"work\", \"work\", \"work\", \"work\", \"work\", \"work\", \"work\", \"work\", \"work\", \"xs\", \"xs\", \"xs\", \"xs\", \"xs\", \"xs\", \"xs\", \"xs\", \"xs\", \"xs\", \"xs_p\", \"xs_p\", \"xs_p\", \"xs_p\", \"xspetite\", \"xspetite\", \"xspetite\", \"xspetite\", \"year\", \"year\", \"year\", \"year\", \"year\", \"year\", \"year\", \"year\", \"year\", \"year\", \"you_can\", \"you_can\", \"you_can\", \"you_can\", \"you_can\", \"you_can\", \"you_can\", \"you_can\", \"you_can\", \"you_can\", \"your_typical\", \"your_typical\", \"your_typical\", \"your_typical\", \"your_typical\"]}, \"R\": 30, \"lambda.step\": 0.01, \"plot.opts\": {\"xlab\": \"PC1\", \"ylab\": \"PC2\"}, \"topic.order\": [7, 2, 5, 4, 3, 1, 8, 9, 6, 10]};\n",
       "\n",
       "function LDAvis_load_lib(url, callback){\n",
       "  var s = document.createElement('script');\n",
       "  s.src = url;\n",
       "  s.async = true;\n",
       "  s.onreadystatechange = s.onload = callback;\n",
       "  s.onerror = function(){console.warn(\"failed to load library \" + url);};\n",
       "  document.getElementsByTagName(\"head\")[0].appendChild(s);\n",
       "}\n",
       "\n",
       "if(typeof(LDAvis) !== \"undefined\"){\n",
       "   // already loaded: just create the visualization\n",
       "   !function(LDAvis){\n",
       "       new LDAvis(\"#\" + \"ldavis_el1442413802614412008641321453\", ldavis_el1442413802614412008641321453_data);\n",
       "   }(LDAvis);\n",
       "}else if(typeof define === \"function\" && define.amd){\n",
       "   // require.js is available: use it to load d3/LDAvis\n",
       "   require.config({paths: {d3: \"https://d3js.org/d3.v5\"}});\n",
       "   require([\"d3\"], function(d3){\n",
       "      window.d3 = d3;\n",
       "      LDAvis_load_lib(\"https://cdn.jsdelivr.net/gh/bmabey/pyLDAvis@3.3.1/pyLDAvis/js/ldavis.v3.0.0.js\", function(){\n",
       "        new LDAvis(\"#\" + \"ldavis_el1442413802614412008641321453\", ldavis_el1442413802614412008641321453_data);\n",
       "      });\n",
       "    });\n",
       "}else{\n",
       "    // require.js not available: dynamically load d3 & LDAvis\n",
       "    LDAvis_load_lib(\"https://d3js.org/d3.v5.js\", function(){\n",
       "         LDAvis_load_lib(\"https://cdn.jsdelivr.net/gh/bmabey/pyLDAvis@3.3.1/pyLDAvis/js/ldavis.v3.0.0.js\", function(){\n",
       "                 new LDAvis(\"#\" + \"ldavis_el1442413802614412008641321453\", ldavis_el1442413802614412008641321453_data);\n",
       "            })\n",
       "         });\n",
       "}\n",
       "</script>"
      ],
      "text/plain": [
       "<IPython.core.display.HTML object>"
      ]
     },
     "execution_count": 38,
     "metadata": {},
     "output_type": "execute_result"
    }
   ],
   "source": [
    "pyLDAvis.display(ldavis)"
   ]
  },
  {
   "cell_type": "code",
   "execution_count": 39,
   "metadata": {},
   "outputs": [
    {
     "name": "stderr",
     "output_type": "stream",
     "text": [
      "C:\\Users\\82104\\Anaconda3\\lib\\site-packages\\ipykernel\\ipkernel.py:287: DeprecationWarning: `should_run_async` will not call `transform_cell` automatically in the future. Please pass the result to `transformed_cell` argument and any exception that happen during thetransform in `preprocessing_exc_tuple` in IPython 7.17 and above.\n",
      "  and should_run_async(code)\n"
     ]
    }
   ],
   "source": [
    "# 참고: 안타깝게도 gensim과 pyLDAvis는 동일한 토픽 인덱스를 공유하지 않는다. \n",
    "# 아래에 현재 토픽 모델에서 두 인덱스가 어떻게 매핑되는지 적어놓았다.\n",
    "# gensim index -> pyLDAvis index\n",
    "#  0 -> 7\n",
    "#  1 -> 8\n",
    "#  2 -> 6\n",
    "#  3 -> 9\n",
    "#  4 -> 4\n",
    "#  5 -> 10\n",
    "#  6 -> 5\n",
    "#  7 -> 3\n",
    "#  8 -> 1\n",
    "#  9 -> 2"
   ]
  },
  {
   "cell_type": "code",
   "execution_count": 40,
   "metadata": {},
   "outputs": [
    {
     "name": "stderr",
     "output_type": "stream",
     "text": [
      "C:\\Users\\82104\\Anaconda3\\lib\\site-packages\\ipykernel\\ipkernel.py:287: DeprecationWarning: `should_run_async` will not call `transform_cell` automatically in the future. Please pass the result to `transformed_cell` argument and any exception that happen during thetransform in `preprocessing_exc_tuple` in IPython 7.17 and above.\n",
      "  and should_run_async(code)\n"
     ]
    },
    {
     "data": {
      "text/plain": [
       "[('fit', 0.031453937),\n",
       " ('love', 0.02597497),\n",
       " ('size', 0.024052786),\n",
       " ('order', 0.023599742),\n",
       " ('wear', 0.023358291),\n",
       " ('small', 0.018375931),\n",
       " ('look', 0.01473023),\n",
       " ('great', 0.0147180855),\n",
       " ('color', 0.011048195),\n",
       " ('dress', 0.0109260995)]"
      ]
     },
     "execution_count": 40,
     "metadata": {},
     "output_type": "execute_result"
    }
   ],
   "source": [
    "lda.show_topic(0)"
   ]
  },
  {
   "cell_type": "code",
   "execution_count": 41,
   "metadata": {},
   "outputs": [
    {
     "name": "stderr",
     "output_type": "stream",
     "text": [
      "C:\\Users\\82104\\Anaconda3\\lib\\site-packages\\ipykernel\\ipkernel.py:287: DeprecationWarning: `should_run_async` will not call `transform_cell` automatically in the future. Please pass the result to `transformed_cell` argument and any exception that happen during thetransform in `preprocessing_exc_tuple` in IPython 7.17 and above.\n",
      "  and should_run_async(code)\n"
     ]
    }
   ],
   "source": [
    "# 토픽 마다 이름을 정해주고 긍부정을 표기해보자.\n",
    "topic_sentiments = {0: ('fit', 1),\n",
    "               1: ('leggings & jeans', 0),\n",
    "               2: ('waist fit', -1),\n",
    "               3: ('skirt & blouse', 0),\n",
    "               4: ('nice color', 1),\n",
    "               5: ('great', 1),\n",
    "               6: ('fabric', -1),\n",
    "               7: ('special occasion', 1),\n",
    "               8: ('size problem', -1),\n",
    "               9: ('love', 1),\n",
    "              }"
   ]
  },
  {
   "cell_type": "code",
   "execution_count": 42,
   "metadata": {},
   "outputs": [
    {
     "name": "stderr",
     "output_type": "stream",
     "text": [
      "C:\\Users\\82104\\Anaconda3\\lib\\site-packages\\ipykernel\\ipkernel.py:287: DeprecationWarning: `should_run_async` will not call `transform_cell` automatically in the future. Please pass the result to `transformed_cell` argument and any exception that happen during thetransform in `preprocessing_exc_tuple` in IPython 7.17 and above.\n",
      "  and should_run_async(code)\n"
     ]
    }
   ],
   "source": [
    "# 리뷰와 LDA 결과를 눈으로 보자\n",
    "# warnings.filterwarnings(\"ignore\", category=DeprecationWarning)\n",
    "def describe_review_from_raw(text, min_frequency=0.1):\n",
    "    tokens = preprocess_text(text)\n",
    "    normalized_text = ' '.join(tokens)\n",
    "    review_lda = get_lda(normalized_text)\n",
    "    sentiment = get_sentiment(normalized_text)\n",
    "\n",
    "    for topic, frequency in sorted(review_lda, key=lambda x: x[1], reverse=True):\n",
    "\n",
    "        if frequency < min_frequency: continue\n",
    "        print('{:25} {}'.format(topic_sentiments[topic][0], round(frequency, 3)))\n",
    "\n",
    "    print()\n",
    "    \n",
    "    print(\"positiveness : {}\".format(sentiment))"
   ]
  },
  {
   "cell_type": "code",
   "execution_count": 43,
   "metadata": {},
   "outputs": [
    {
     "name": "stderr",
     "output_type": "stream",
     "text": [
      "C:\\Users\\82104\\Anaconda3\\lib\\site-packages\\ipykernel\\ipkernel.py:287: DeprecationWarning: `should_run_async` will not call `transform_cell` automatically in the future. Please pass the result to `transformed_cell` argument and any exception that happen during thetransform in `preprocessing_exc_tuple` in IPython 7.17 and above.\n",
      "  and should_run_async(code)\n"
     ]
    }
   ],
   "source": [
    "# LDA로 긍부정을 예측하는 함수를 만든다.\n",
    "def get_lda(normalized_text):\n",
    "    tokens = normalized_text.split()\n",
    "    bow = dictionary.doc2bow(tokens)\n",
    "    lda_result = lda[bow]\n",
    "    return lda_result\n",
    "\n",
    "def get_sentiment(normalized_text):\n",
    "    review_lda = get_lda(normalized_text)\n",
    "    sentiments = [(topic_sentiments[topic][1] * frequency, frequency) for topic, frequency in review_lda \n",
    "                  if topic_sentiments[topic][1] != 0]\n",
    "    if not sentiments:\n",
    "        return 0\n",
    "    else:\n",
    "        return sum(senti for senti, freq in sentiments) / sum(freq for senti, freq in sentiments)\n",
    "\n",
    "def predict_with_lda(normalized_text):\n",
    "    sentiment = get_sentiment(normalized_text)\n",
    "    return sentiment >= 0"
   ]
  },
  {
   "cell_type": "code",
   "execution_count": 44,
   "metadata": {},
   "outputs": [
    {
     "name": "stdout",
     "output_type": "stream",
     "text": [
      "I love this shirt, i had my eye on it for awhile but wasn't sure what size i'd be, so i went to the store to try. they only had a small which i figured i would be but it was a little large and not as fitted as i would like it across the chest. i got an xs and it was perfect; i am 5'1 about 120 lbs and a small c cup and it fits great. i love it!!\n",
      "\n",
      "waist fit                 0.5130000114440918\n",
      "fit                       0.24799999594688416\n",
      "love                      0.210999995470047\n",
      "\n",
      "positiveness : -0.0805756248242249\n"
     ]
    },
    {
     "name": "stderr",
     "output_type": "stream",
     "text": [
      "C:\\Users\\82104\\Anaconda3\\lib\\site-packages\\ipykernel\\ipkernel.py:287: DeprecationWarning: `should_run_async` will not call `transform_cell` automatically in the future. Please pass the result to `transformed_cell` argument and any exception that happen during thetransform in `preprocessing_exc_tuple` in IPython 7.17 and above.\n",
      "  and should_run_async(code)\n"
     ]
    }
   ],
   "source": [
    "text = df_train['Review Text'].iloc[0]\n",
    "print(text)\n",
    "print()\n",
    "describe_review_from_raw(text)"
   ]
  },
  {
   "cell_type": "code",
   "execution_count": 45,
   "metadata": {},
   "outputs": [
    {
     "name": "stderr",
     "output_type": "stream",
     "text": [
      "C:\\Users\\82104\\Anaconda3\\lib\\site-packages\\ipykernel\\ipkernel.py:287: DeprecationWarning: `should_run_async` will not call `transform_cell` automatically in the future. Please pass the result to `transformed_cell` argument and any exception that happen during thetransform in `preprocessing_exc_tuple` in IPython 7.17 and above.\n",
      "  and should_run_async(code)\n"
     ]
    },
    {
     "data": {
      "text/plain": [
       "0.5573220279102632"
      ]
     },
     "execution_count": 45,
     "metadata": {},
     "output_type": "execute_result"
    }
   ],
   "source": [
    "# 정답과 예측\n",
    "predictions_with_lda = df_test['Reviews Preprocessed'].map(predict_with_lda)\n",
    "\n",
    "# 정확도 (accuracy) 구하기\n",
    "corrects_with_lda = df_test['Label'] == predictions_with_lda\n",
    "corrects_with_lda.sum() / len(corrects_with_lda)\n",
    "\n",
    "## 토픽으로 하는 감성분석은 약 55% 의 정확도를 보인다"
   ]
  },
  {
   "cell_type": "markdown",
   "metadata": {},
   "source": [
    "### 통계로 하는 감성분석\n",
    "\n",
    "- 로지스틱 회귀를 이용해 텍스트 분류"
   ]
  },
  {
   "cell_type": "code",
   "execution_count": 46,
   "metadata": {},
   "outputs": [
    {
     "name": "stderr",
     "output_type": "stream",
     "text": [
      "C:\\Users\\82104\\Anaconda3\\lib\\site-packages\\ipykernel\\ipkernel.py:287: DeprecationWarning: `should_run_async` will not call `transform_cell` automatically in the future. Please pass the result to `transformed_cell` argument and any exception that happen during thetransform in `preprocessing_exc_tuple` in IPython 7.17 and above.\n",
      "  and should_run_async(code)\n"
     ]
    }
   ],
   "source": [
    "# vectorizer를 초기화하기\n",
    "from sklearn.feature_extraction.text import CountVectorizer\n",
    "vect = CountVectorizer()"
   ]
  },
  {
   "cell_type": "code",
   "execution_count": 47,
   "metadata": {},
   "outputs": [
    {
     "name": "stderr",
     "output_type": "stream",
     "text": [
      "C:\\Users\\82104\\Anaconda3\\lib\\site-packages\\ipykernel\\ipkernel.py:287: DeprecationWarning: `should_run_async` will not call `transform_cell` automatically in the future. Please pass the result to `transformed_cell` argument and any exception that happen during thetransform in `preprocessing_exc_tuple` in IPython 7.17 and above.\n",
      "  and should_run_async(code)\n"
     ]
    }
   ],
   "source": [
    "# 사전(vocabulary) 학습하기. document-term matrix를 만드는 데 사용됨\n",
    "vect.fit(df_train['Reviews Preprocessed'])\n",
    "X_train_dtm = vect.transform(df_train['Reviews Preprocessed'])"
   ]
  },
  {
   "cell_type": "code",
   "execution_count": 48,
   "metadata": {},
   "outputs": [
    {
     "name": "stderr",
     "output_type": "stream",
     "text": [
      "C:\\Users\\82104\\Anaconda3\\lib\\site-packages\\ipykernel\\ipkernel.py:287: DeprecationWarning: `should_run_async` will not call `transform_cell` automatically in the future. Please pass the result to `transformed_cell` argument and any exception that happen during thetransform in `preprocessing_exc_tuple` in IPython 7.17 and above.\n",
      "  and should_run_async(code)\n"
     ]
    },
    {
     "data": {
      "text/plain": [
       "<5661x11513 sparse matrix of type '<class 'numpy.int64'>'\n",
       "\twith 117067 stored elements in Compressed Sparse Row format>"
      ]
     },
     "execution_count": 48,
     "metadata": {},
     "output_type": "execute_result"
    }
   ],
   "source": [
    "# 테스트 데이터를 document-term matrix로 바꾸기 (학습된 사전 활용)\n",
    "X_test_dtm = vect.transform(df_test['Reviews Preprocessed'])\n",
    "X_test_dtm"
   ]
  },
  {
   "cell_type": "code",
   "execution_count": 49,
   "metadata": {},
   "outputs": [
    {
     "name": "stderr",
     "output_type": "stream",
     "text": [
      "C:\\Users\\82104\\Anaconda3\\lib\\site-packages\\ipykernel\\ipkernel.py:287: DeprecationWarning: `should_run_async` will not call `transform_cell` automatically in the future. Please pass the result to `transformed_cell` argument and any exception that happen during thetransform in `preprocessing_exc_tuple` in IPython 7.17 and above.\n",
      "  and should_run_async(code)\n"
     ]
    }
   ],
   "source": [
    "# logistic regression model을 불러오고 초기화\n",
    "from sklearn.linear_model import LogisticRegression\n",
    "logreg = LogisticRegression(max_iter=1000)"
   ]
  },
  {
   "cell_type": "code",
   "execution_count": 50,
   "metadata": {},
   "outputs": [
    {
     "name": "stderr",
     "output_type": "stream",
     "text": [
      "C:\\Users\\82104\\Anaconda3\\lib\\site-packages\\ipykernel\\ipkernel.py:287: DeprecationWarning: `should_run_async` will not call `transform_cell` automatically in the future. Please pass the result to `transformed_cell` argument and any exception that happen during thetransform in `preprocessing_exc_tuple` in IPython 7.17 and above.\n",
      "  and should_run_async(code)\n"
     ]
    },
    {
     "data": {
      "text/plain": [
       "LogisticRegression(max_iter=1000)"
      ]
     },
     "execution_count": 50,
     "metadata": {},
     "output_type": "execute_result"
    }
   ],
   "source": [
    "# X_train_dtm를 이용해 모델 학습\n",
    "logreg.fit(X_train_dtm, df_train['Label'])"
   ]
  },
  {
   "cell_type": "code",
   "execution_count": 51,
   "metadata": {},
   "outputs": [
    {
     "name": "stderr",
     "output_type": "stream",
     "text": [
      "C:\\Users\\82104\\Anaconda3\\lib\\site-packages\\ipykernel\\ipkernel.py:287: DeprecationWarning: `should_run_async` will not call `transform_cell` automatically in the future. Please pass the result to `transformed_cell` argument and any exception that happen during thetransform in `preprocessing_exc_tuple` in IPython 7.17 and above.\n",
      "  and should_run_async(code)\n"
     ]
    }
   ],
   "source": [
    "# X_test_dtm에 대해 클래스 예측\n",
    "y_pred_class = logreg.predict(X_test_dtm)"
   ]
  },
  {
   "cell_type": "code",
   "execution_count": 52,
   "metadata": {},
   "outputs": [
    {
     "name": "stderr",
     "output_type": "stream",
     "text": [
      "C:\\Users\\82104\\Anaconda3\\lib\\site-packages\\ipykernel\\ipkernel.py:287: DeprecationWarning: `should_run_async` will not call `transform_cell` automatically in the future. Please pass the result to `transformed_cell` argument and any exception that happen during thetransform in `preprocessing_exc_tuple` in IPython 7.17 and above.\n",
      "  and should_run_async(code)\n"
     ]
    },
    {
     "data": {
      "text/plain": [
       "array([0.78184701, 0.3541867 , 0.06452221, ..., 0.01852732, 0.91959515,\n",
       "       0.97169527])"
      ]
     },
     "execution_count": 52,
     "metadata": {},
     "output_type": "execute_result"
    }
   ],
   "source": [
    "# X_test_dtm에 대해 확률 예측\n",
    "y_pred_prob = logreg.predict_proba(X_test_dtm)[:, 1]\n",
    "y_pred_prob"
   ]
  },
  {
   "cell_type": "code",
   "execution_count": 53,
   "metadata": {},
   "outputs": [
    {
     "name": "stdout",
     "output_type": "stream",
     "text": [
      "Beautiful and very versatile dress. extremely forgiving for post baby bodies, while stylish and classy.\n",
      "\n",
      "0.7818470073784249\n"
     ]
    },
    {
     "name": "stderr",
     "output_type": "stream",
     "text": [
      "C:\\Users\\82104\\Anaconda3\\lib\\site-packages\\ipykernel\\ipkernel.py:287: DeprecationWarning: `should_run_async` will not call `transform_cell` automatically in the future. Please pass the result to `transformed_cell` argument and any exception that happen during thetransform in `preprocessing_exc_tuple` in IPython 7.17 and above.\n",
      "  and should_run_async(code)\n"
     ]
    }
   ],
   "source": [
    "print(df_test['Review Text'].iloc[0])\n",
    "print()\n",
    "print(y_pred_prob[0])"
   ]
  },
  {
   "cell_type": "code",
   "execution_count": 54,
   "metadata": {},
   "outputs": [
    {
     "name": "stderr",
     "output_type": "stream",
     "text": [
      "C:\\Users\\82104\\Anaconda3\\lib\\site-packages\\ipykernel\\ipkernel.py:287: DeprecationWarning: `should_run_async` will not call `transform_cell` automatically in the future. Please pass the result to `transformed_cell` argument and any exception that happen during thetransform in `preprocessing_exc_tuple` in IPython 7.17 and above.\n",
      "  and should_run_async(code)\n"
     ]
    }
   ],
   "source": [
    "from sklearn.metrics import accuracy_score, roc_auc_score"
   ]
  },
  {
   "cell_type": "code",
   "execution_count": 55,
   "metadata": {},
   "outputs": [
    {
     "name": "stderr",
     "output_type": "stream",
     "text": [
      "C:\\Users\\82104\\Anaconda3\\lib\\site-packages\\ipykernel\\ipkernel.py:287: DeprecationWarning: `should_run_async` will not call `transform_cell` automatically in the future. Please pass the result to `transformed_cell` argument and any exception that happen during thetransform in `preprocessing_exc_tuple` in IPython 7.17 and above.\n",
      "  and should_run_async(code)\n"
     ]
    },
    {
     "data": {
      "text/plain": [
       "0.7705352411234764"
      ]
     },
     "execution_count": 55,
     "metadata": {},
     "output_type": "execute_result"
    }
   ],
   "source": [
    "# 클래스 예측 정확도 구하기\n",
    "accuracy_score(df_test['Label'], y_pred_class)\n",
    "\n",
    "## 통계로 하는 감성분석은 약 77%의 정확도를 보인다"
   ]
  },
  {
   "cell_type": "markdown",
   "metadata": {},
   "source": [
    "### 딥러닝으로 하는 감성분석\n",
    "\n",
    "- 미리 학습된 딥러닝 모델을 불러와 파인튜닝(fine-tuning)을 통해 텍스트 분류를 해보자"
   ]
  },
  {
   "cell_type": "code",
   "execution_count": 56,
   "metadata": {},
   "outputs": [
    {
     "name": "stderr",
     "output_type": "stream",
     "text": [
      "C:\\Users\\82104\\Anaconda3\\lib\\site-packages\\ipykernel\\ipkernel.py:287: DeprecationWarning: `should_run_async` will not call `transform_cell` automatically in the future. Please pass the result to `transformed_cell` argument and any exception that happen during thetransform in `preprocessing_exc_tuple` in IPython 7.17 and above.\n",
      "  and should_run_async(code)\n"
     ]
    }
   ],
   "source": [
    "# 토크나이저를 불러온다.\n",
    "from transformers import AutoTokenizer\n",
    "# 이 실습에서는 BERT의 다국어 버전 base 모델을 사용할 것이다. 다국어 버전에는 한국어도 지원한다.\n",
    "# cased라는 말은 소문자로 normalized 되지 않았다는 뜻이다.\n",
    "# large 모델도 존재하며, base보다 모델 크기가 크고 정확도가 더 높다.\n",
    "tokenizer = AutoTokenizer.from_pretrained(\"bert-base-multilingual-cased\")"
   ]
  },
  {
   "cell_type": "code",
   "execution_count": 57,
   "metadata": {},
   "outputs": [
    {
     "name": "stdout",
     "output_type": "stream",
     "text": [
      "Absolutely wonderful - silky and sexy and comfortable\n"
     ]
    },
    {
     "name": "stderr",
     "output_type": "stream",
     "text": [
      "C:\\Users\\82104\\Anaconda3\\lib\\site-packages\\ipykernel\\ipkernel.py:287: DeprecationWarning: `should_run_async` will not call `transform_cell` automatically in the future. Please pass the result to `transformed_cell` argument and any exception that happen during thetransform in `preprocessing_exc_tuple` in IPython 7.17 and above.\n",
      "  and should_run_async(code)\n"
     ]
    },
    {
     "data": {
      "text/plain": [
       "{'input_ids': [101, 108394, 10454, 11367, 11304, 14446, 118, 33694, 11445, 10111, 18549, 10157, 10111, 10212, 81587, 102, 0, 0, 0, 0, 0, 0, 0, 0, 0, 0, 0, 0, 0, 0, 0, 0, 0, 0, 0, 0, 0, 0, 0, 0, 0, 0, 0, 0, 0, 0, 0, 0, 0, 0, 0, 0, 0, 0, 0, 0, 0, 0, 0, 0, 0, 0, 0, 0, 0, 0, 0, 0, 0, 0, 0, 0, 0, 0, 0, 0, 0, 0, 0, 0, 0, 0, 0, 0, 0, 0, 0, 0, 0, 0, 0, 0, 0, 0, 0, 0, 0, 0, 0, 0, 0, 0, 0, 0, 0, 0, 0, 0, 0, 0, 0, 0, 0, 0, 0, 0, 0, 0, 0, 0, 0, 0, 0, 0, 0, 0, 0, 0, 0, 0, 0, 0, 0, 0, 0, 0, 0, 0, 0, 0, 0, 0, 0, 0, 0, 0, 0, 0, 0, 0, 0, 0, 0, 0, 0, 0, 0, 0, 0, 0, 0, 0, 0, 0, 0, 0, 0, 0, 0, 0, 0, 0, 0, 0, 0, 0, 0, 0, 0, 0, 0, 0, 0, 0, 0, 0, 0, 0, 0, 0, 0, 0, 0, 0, 0, 0, 0, 0, 0, 0, 0, 0, 0, 0, 0, 0, 0, 0, 0, 0, 0, 0, 0, 0, 0, 0, 0, 0, 0, 0, 0, 0, 0, 0, 0, 0, 0, 0, 0, 0, 0, 0, 0, 0, 0, 0, 0, 0, 0, 0, 0, 0, 0, 0, 0, 0, 0, 0, 0, 0, 0, 0, 0, 0, 0, 0, 0, 0, 0, 0, 0, 0, 0, 0, 0, 0, 0, 0, 0, 0, 0, 0, 0, 0, 0, 0, 0, 0, 0, 0, 0, 0, 0, 0, 0, 0, 0, 0, 0, 0, 0, 0, 0, 0, 0, 0, 0, 0, 0, 0, 0, 0, 0, 0, 0, 0, 0, 0, 0, 0, 0, 0, 0, 0, 0, 0, 0, 0, 0, 0, 0, 0, 0, 0, 0, 0, 0, 0, 0, 0, 0, 0, 0, 0, 0, 0, 0, 0, 0, 0, 0, 0, 0, 0, 0, 0, 0, 0, 0, 0, 0, 0, 0, 0, 0, 0, 0, 0, 0, 0, 0, 0, 0, 0, 0, 0, 0, 0, 0, 0, 0, 0, 0, 0, 0, 0, 0, 0, 0, 0, 0, 0, 0, 0, 0, 0, 0, 0, 0, 0, 0, 0, 0, 0, 0, 0, 0, 0, 0, 0, 0, 0, 0, 0, 0, 0, 0, 0, 0, 0, 0, 0, 0, 0, 0, 0, 0, 0, 0, 0, 0, 0, 0, 0, 0, 0, 0, 0, 0, 0, 0, 0, 0, 0, 0, 0, 0, 0, 0, 0, 0, 0, 0, 0, 0, 0, 0, 0, 0, 0, 0, 0, 0, 0, 0, 0, 0, 0, 0, 0, 0, 0, 0, 0, 0, 0, 0, 0, 0, 0, 0, 0, 0, 0, 0, 0, 0, 0, 0, 0, 0, 0, 0, 0, 0, 0, 0, 0, 0, 0, 0, 0, 0, 0, 0, 0, 0, 0, 0, 0, 0, 0, 0, 0, 0, 0, 0, 0, 0, 0, 0, 0], 'token_type_ids': [0, 0, 0, 0, 0, 0, 0, 0, 0, 0, 0, 0, 0, 0, 0, 0, 0, 0, 0, 0, 0, 0, 0, 0, 0, 0, 0, 0, 0, 0, 0, 0, 0, 0, 0, 0, 0, 0, 0, 0, 0, 0, 0, 0, 0, 0, 0, 0, 0, 0, 0, 0, 0, 0, 0, 0, 0, 0, 0, 0, 0, 0, 0, 0, 0, 0, 0, 0, 0, 0, 0, 0, 0, 0, 0, 0, 0, 0, 0, 0, 0, 0, 0, 0, 0, 0, 0, 0, 0, 0, 0, 0, 0, 0, 0, 0, 0, 0, 0, 0, 0, 0, 0, 0, 0, 0, 0, 0, 0, 0, 0, 0, 0, 0, 0, 0, 0, 0, 0, 0, 0, 0, 0, 0, 0, 0, 0, 0, 0, 0, 0, 0, 0, 0, 0, 0, 0, 0, 0, 0, 0, 0, 0, 0, 0, 0, 0, 0, 0, 0, 0, 0, 0, 0, 0, 0, 0, 0, 0, 0, 0, 0, 0, 0, 0, 0, 0, 0, 0, 0, 0, 0, 0, 0, 0, 0, 0, 0, 0, 0, 0, 0, 0, 0, 0, 0, 0, 0, 0, 0, 0, 0, 0, 0, 0, 0, 0, 0, 0, 0, 0, 0, 0, 0, 0, 0, 0, 0, 0, 0, 0, 0, 0, 0, 0, 0, 0, 0, 0, 0, 0, 0, 0, 0, 0, 0, 0, 0, 0, 0, 0, 0, 0, 0, 0, 0, 0, 0, 0, 0, 0, 0, 0, 0, 0, 0, 0, 0, 0, 0, 0, 0, 0, 0, 0, 0, 0, 0, 0, 0, 0, 0, 0, 0, 0, 0, 0, 0, 0, 0, 0, 0, 0, 0, 0, 0, 0, 0, 0, 0, 0, 0, 0, 0, 0, 0, 0, 0, 0, 0, 0, 0, 0, 0, 0, 0, 0, 0, 0, 0, 0, 0, 0, 0, 0, 0, 0, 0, 0, 0, 0, 0, 0, 0, 0, 0, 0, 0, 0, 0, 0, 0, 0, 0, 0, 0, 0, 0, 0, 0, 0, 0, 0, 0, 0, 0, 0, 0, 0, 0, 0, 0, 0, 0, 0, 0, 0, 0, 0, 0, 0, 0, 0, 0, 0, 0, 0, 0, 0, 0, 0, 0, 0, 0, 0, 0, 0, 0, 0, 0, 0, 0, 0, 0, 0, 0, 0, 0, 0, 0, 0, 0, 0, 0, 0, 0, 0, 0, 0, 0, 0, 0, 0, 0, 0, 0, 0, 0, 0, 0, 0, 0, 0, 0, 0, 0, 0, 0, 0, 0, 0, 0, 0, 0, 0, 0, 0, 0, 0, 0, 0, 0, 0, 0, 0, 0, 0, 0, 0, 0, 0, 0, 0, 0, 0, 0, 0, 0, 0, 0, 0, 0, 0, 0, 0, 0, 0, 0, 0, 0, 0, 0, 0, 0, 0, 0, 0, 0, 0, 0, 0, 0, 0, 0, 0, 0, 0, 0, 0, 0, 0, 0, 0, 0, 0, 0, 0, 0, 0, 0, 0, 0, 0, 0, 0, 0, 0, 0, 0, 0, 0, 0, 0, 0, 0, 0, 0, 0, 0, 0, 0, 0, 0, 0, 0, 0, 0, 0, 0, 0, 0, 0], 'attention_mask': [1, 1, 1, 1, 1, 1, 1, 1, 1, 1, 1, 1, 1, 1, 1, 1, 0, 0, 0, 0, 0, 0, 0, 0, 0, 0, 0, 0, 0, 0, 0, 0, 0, 0, 0, 0, 0, 0, 0, 0, 0, 0, 0, 0, 0, 0, 0, 0, 0, 0, 0, 0, 0, 0, 0, 0, 0, 0, 0, 0, 0, 0, 0, 0, 0, 0, 0, 0, 0, 0, 0, 0, 0, 0, 0, 0, 0, 0, 0, 0, 0, 0, 0, 0, 0, 0, 0, 0, 0, 0, 0, 0, 0, 0, 0, 0, 0, 0, 0, 0, 0, 0, 0, 0, 0, 0, 0, 0, 0, 0, 0, 0, 0, 0, 0, 0, 0, 0, 0, 0, 0, 0, 0, 0, 0, 0, 0, 0, 0, 0, 0, 0, 0, 0, 0, 0, 0, 0, 0, 0, 0, 0, 0, 0, 0, 0, 0, 0, 0, 0, 0, 0, 0, 0, 0, 0, 0, 0, 0, 0, 0, 0, 0, 0, 0, 0, 0, 0, 0, 0, 0, 0, 0, 0, 0, 0, 0, 0, 0, 0, 0, 0, 0, 0, 0, 0, 0, 0, 0, 0, 0, 0, 0, 0, 0, 0, 0, 0, 0, 0, 0, 0, 0, 0, 0, 0, 0, 0, 0, 0, 0, 0, 0, 0, 0, 0, 0, 0, 0, 0, 0, 0, 0, 0, 0, 0, 0, 0, 0, 0, 0, 0, 0, 0, 0, 0, 0, 0, 0, 0, 0, 0, 0, 0, 0, 0, 0, 0, 0, 0, 0, 0, 0, 0, 0, 0, 0, 0, 0, 0, 0, 0, 0, 0, 0, 0, 0, 0, 0, 0, 0, 0, 0, 0, 0, 0, 0, 0, 0, 0, 0, 0, 0, 0, 0, 0, 0, 0, 0, 0, 0, 0, 0, 0, 0, 0, 0, 0, 0, 0, 0, 0, 0, 0, 0, 0, 0, 0, 0, 0, 0, 0, 0, 0, 0, 0, 0, 0, 0, 0, 0, 0, 0, 0, 0, 0, 0, 0, 0, 0, 0, 0, 0, 0, 0, 0, 0, 0, 0, 0, 0, 0, 0, 0, 0, 0, 0, 0, 0, 0, 0, 0, 0, 0, 0, 0, 0, 0, 0, 0, 0, 0, 0, 0, 0, 0, 0, 0, 0, 0, 0, 0, 0, 0, 0, 0, 0, 0, 0, 0, 0, 0, 0, 0, 0, 0, 0, 0, 0, 0, 0, 0, 0, 0, 0, 0, 0, 0, 0, 0, 0, 0, 0, 0, 0, 0, 0, 0, 0, 0, 0, 0, 0, 0, 0, 0, 0, 0, 0, 0, 0, 0, 0, 0, 0, 0, 0, 0, 0, 0, 0, 0, 0, 0, 0, 0, 0, 0, 0, 0, 0, 0, 0, 0, 0, 0, 0, 0, 0, 0, 0, 0, 0, 0, 0, 0, 0, 0, 0, 0, 0, 0, 0, 0, 0, 0, 0, 0, 0, 0, 0, 0, 0, 0, 0, 0, 0, 0, 0, 0, 0, 0, 0, 0, 0, 0, 0, 0, 0, 0, 0, 0, 0, 0, 0, 0, 0, 0, 0, 0, 0, 0, 0, 0, 0, 0, 0, 0, 0, 0, 0, 0]}"
      ]
     },
     "execution_count": 57,
     "metadata": {},
     "output_type": "execute_result"
    }
   ],
   "source": [
    "# 시험 삼아 무작위의 글을 토크나이징 해보자\n",
    "# 토크나이징 결과로 만들어진 단어 인덱스의 리스트가 input_ids에 담긴다.\n",
    "print(df_train['Review Text'].loc[0])\n",
    "tokenizer(df_train['Review Text'].loc[0], padding=\"max_length\", truncation=True)"
   ]
  },
  {
   "cell_type": "code",
   "execution_count": 58,
   "metadata": {},
   "outputs": [
    {
     "name": "stderr",
     "output_type": "stream",
     "text": [
      "C:\\Users\\82104\\Anaconda3\\lib\\site-packages\\ipykernel\\ipkernel.py:287: DeprecationWarning: `should_run_async` will not call `transform_cell` automatically in the future. Please pass the result to `transformed_cell` argument and any exception that happen during thetransform in `preprocessing_exc_tuple` in IPython 7.17 and above.\n",
      "  and should_run_async(code)\n"
     ]
    }
   ],
   "source": [
    "# 토크나이징을 여러번 반복하기 쉽게 함수로 만든다.\n",
    "def tokenize_function(examples):\n",
    "    return tokenizer(examples[\"text\"], padding=\"max_length\", truncation=True)"
   ]
  },
  {
   "cell_type": "code",
   "execution_count": 59,
   "metadata": {},
   "outputs": [
    {
     "name": "stderr",
     "output_type": "stream",
     "text": [
      "C:\\Users\\82104\\Anaconda3\\lib\\site-packages\\ipykernel\\ipkernel.py:287: DeprecationWarning: `should_run_async` will not call `transform_cell` automatically in the future. Please pass the result to `transformed_cell` argument and any exception that happen during thetransform in `preprocessing_exc_tuple` in IPython 7.17 and above.\n",
      "  and should_run_async(code)\n"
     ]
    }
   ],
   "source": [
    "# datasets 라이브러리를 불러온다.\n",
    "# 허깅페이스에서 개발한 자연어 등 여러 데이터셋을 다루기 위한 라이브러리이다.\n",
    "from datasets import Dataset\n",
    "\n",
    "# 리뷰 텍스트와 레이블로 데이터셋을 만든다.\n",
    "dataset_train = Dataset.from_dict({'text': df_train['Review Text'], 'label': df_train['Label']})\n",
    "dataset_test = Dataset.from_dict({'text': df_test['Review Text'], 'label': df_test['Label']})"
   ]
  },
  {
   "cell_type": "code",
   "execution_count": 60,
   "metadata": {
    "scrolled": true
   },
   "outputs": [
    {
     "name": "stderr",
     "output_type": "stream",
     "text": [
      "C:\\Users\\82104\\Anaconda3\\lib\\site-packages\\ipykernel\\ipkernel.py:287: DeprecationWarning: `should_run_async` will not call `transform_cell` automatically in the future. Please pass the result to `transformed_cell` argument and any exception that happen during thetransform in `preprocessing_exc_tuple` in IPython 7.17 and above.\n",
      "  and should_run_async(code)\n"
     ]
    },
    {
     "data": {
      "application/vnd.jupyter.widget-view+json": {
       "model_id": "31f7227f527040c3b37bfdd493867449",
       "version_major": 2,
       "version_minor": 0
      },
      "text/plain": [
       "  0%|          | 0/17 [00:00<?, ?ba/s]"
      ]
     },
     "metadata": {},
     "output_type": "display_data"
    },
    {
     "data": {
      "application/vnd.jupyter.widget-view+json": {
       "model_id": "a3547cb684e74d25adce35805af25907",
       "version_major": 2,
       "version_minor": 0
      },
      "text/plain": [
       "  0%|          | 0/6 [00:00<?, ?ba/s]"
      ]
     },
     "metadata": {},
     "output_type": "display_data"
    }
   ],
   "source": [
    "# dataset의 map 함수를 이용해 토크나이징 함수를 적용한다.\n",
    "dataset_train_tokenized = dataset_train.map(tokenize_function, batched=True)\n",
    "dataset_test_tokenized = dataset_test.map(tokenize_function, batched=True)"
   ]
  },
  {
   "cell_type": "code",
   "execution_count": 61,
   "metadata": {},
   "outputs": [
    {
     "name": "stderr",
     "output_type": "stream",
     "text": [
      "C:\\Users\\82104\\Anaconda3\\lib\\site-packages\\ipykernel\\ipkernel.py:287: DeprecationWarning: `should_run_async` will not call `transform_cell` automatically in the future. Please pass the result to `transformed_cell` argument and any exception that happen during thetransform in `preprocessing_exc_tuple` in IPython 7.17 and above.\n",
      "  and should_run_async(code)\n"
     ]
    },
    {
     "data": {
      "application/vnd.jupyter.widget-view+json": {
       "model_id": "d858f69688c840da8d22312d4b632bef",
       "version_major": 2,
       "version_minor": 0
      },
      "text/plain": [
       "Downloading:   0%|          | 0.00/681M [00:00<?, ?B/s]"
      ]
     },
     "metadata": {},
     "output_type": "display_data"
    },
    {
     "name": "stderr",
     "output_type": "stream",
     "text": [
      "Some weights of the model checkpoint at bert-base-multilingual-cased were not used when initializing BertForSequenceClassification: ['cls.seq_relationship.bias', 'cls.predictions.transform.LayerNorm.weight', 'cls.seq_relationship.weight', 'cls.predictions.transform.LayerNorm.bias', 'cls.predictions.transform.dense.weight', 'cls.predictions.transform.dense.bias', 'cls.predictions.decoder.weight', 'cls.predictions.bias']\n",
      "- This IS expected if you are initializing BertForSequenceClassification from the checkpoint of a model trained on another task or with another architecture (e.g. initializing a BertForSequenceClassification model from a BertForPreTraining model).\n",
      "- This IS NOT expected if you are initializing BertForSequenceClassification from the checkpoint of a model that you expect to be exactly identical (initializing a BertForSequenceClassification model from a BertForSequenceClassification model).\n",
      "Some weights of BertForSequenceClassification were not initialized from the model checkpoint at bert-base-multilingual-cased and are newly initialized: ['classifier.bias', 'classifier.weight']\n",
      "You should probably TRAIN this model on a down-stream task to be able to use it for predictions and inference.\n"
     ]
    }
   ],
   "source": [
    "# 모델을 불러온다.\n",
    "# 분류용으로 불러오며, 분류하는 레이블은 2개이다.\n",
    "from transformers import AutoModelForSequenceClassification\n",
    "\n",
    "model = AutoModelForSequenceClassification.from_pretrained(\"bert-base-multilingual-cased\", num_labels=2)"
   ]
  },
  {
   "cell_type": "code",
   "execution_count": 62,
   "metadata": {},
   "outputs": [
    {
     "name": "stderr",
     "output_type": "stream",
     "text": [
      "C:\\Users\\82104\\Anaconda3\\lib\\site-packages\\ipykernel\\ipkernel.py:287: DeprecationWarning: `should_run_async` will not call `transform_cell` automatically in the future. Please pass the result to `transformed_cell` argument and any exception that happen during thetransform in `preprocessing_exc_tuple` in IPython 7.17 and above.\n",
      "  and should_run_async(code)\n"
     ]
    }
   ],
   "source": [
    "# 모델을 학습시키는 인자(arguments)를 정의하는 클래스이다.\n",
    "# 데이터셋 전체를 한번 학습하는 것을 epoch이라 하며, 보통 여러 epoch을 돌며 모델을 학습시킨다.\n",
    "# 이 실습에서는 빠른 결과를 보기 위해 1 epoch만 학습한다.\n",
    "from transformers import TrainingArguments\n",
    "\n",
    "training_args = TrainingArguments(\"runs\", num_train_epochs=1)"
   ]
  },
  {
   "cell_type": "code",
   "execution_count": 63,
   "metadata": {},
   "outputs": [
    {
     "name": "stderr",
     "output_type": "stream",
     "text": [
      "C:\\Users\\82104\\Anaconda3\\lib\\site-packages\\ipykernel\\ipkernel.py:287: DeprecationWarning: `should_run_async` will not call `transform_cell` automatically in the future. Please pass the result to `transformed_cell` argument and any exception that happen during thetransform in `preprocessing_exc_tuple` in IPython 7.17 and above.\n",
      "  and should_run_async(code)\n"
     ]
    },
    {
     "data": {
      "application/vnd.jupyter.widget-view+json": {
       "model_id": "18ffeb151f924f0c855efa429e5b0a9f",
       "version_major": 2,
       "version_minor": 0
      },
      "text/plain": [
       "Downloading builder script:   0%|          | 0.00/1.41k [00:00<?, ?B/s]"
      ]
     },
     "metadata": {},
     "output_type": "display_data"
    }
   ],
   "source": [
    "# 정확도를 계산하기 위한 함수를 정의한다.\n",
    "\n",
    "import numpy as np\n",
    "from datasets import load_metric\n",
    "\n",
    "metric = load_metric(\"accuracy\")\n",
    "\n",
    "def compute_metrics(eval_pred):\n",
    "    logits, labels = eval_pred\n",
    "    predictions = np.argmax(logits, axis=-1)\n",
    "    return metric.compute(predictions=predictions, references=labels)"
   ]
  },
  {
   "cell_type": "code",
   "execution_count": 64,
   "metadata": {},
   "outputs": [
    {
     "name": "stderr",
     "output_type": "stream",
     "text": [
      "C:\\Users\\82104\\Anaconda3\\lib\\site-packages\\ipykernel\\ipkernel.py:287: DeprecationWarning: `should_run_async` will not call `transform_cell` automatically in the future. Please pass the result to `transformed_cell` argument and any exception that happen during thetransform in `preprocessing_exc_tuple` in IPython 7.17 and above.\n",
      "  and should_run_async(code)\n"
     ]
    }
   ],
   "source": [
    "# 모델을 학습시키는 Trainer 클래스를 정의한다.\n",
    "# 모델과 데이터셋, 정확도 측정 함수가 들어간다.\n",
    "\n",
    "from transformers import Trainer\n",
    "\n",
    "trainer = Trainer(\n",
    "    model=model,\n",
    "    args=training_args,\n",
    "    train_dataset=dataset_train_tokenized,\n",
    "    eval_dataset=dataset_test_tokenized,\n",
    "    compute_metrics=compute_metrics,\n",
    ")"
   ]
  },
  {
   "cell_type": "code",
   "execution_count": 66,
   "metadata": {},
   "outputs": [
    {
     "name": "stderr",
     "output_type": "stream",
     "text": [
      "C:\\Users\\82104\\Anaconda3\\lib\\site-packages\\ipykernel\\ipkernel.py:287: DeprecationWarning: `should_run_async` will not call `transform_cell` automatically in the future. Please pass the result to `transformed_cell` argument and any exception that happen during thetransform in `preprocessing_exc_tuple` in IPython 7.17 and above.\n",
      "  and should_run_async(code)\n"
     ]
    }
   ],
   "source": [
    "# 학습을 진행한다.\n",
    "# GPU 서버에서 1 epoch을 학습하면 약 1시간이 걸린다.\n",
    "trainer.train()"
   ]
  },
  {
   "cell_type": "code",
   "execution_count": 67,
   "metadata": {},
   "outputs": [
    {
     "name": "stderr",
     "output_type": "stream",
     "text": [
      "C:\\Users\\82104\\Anaconda3\\lib\\site-packages\\ipykernel\\ipkernel.py:287: DeprecationWarning: `should_run_async` will not call `transform_cell` automatically in the future. Please pass the result to `transformed_cell` argument and any exception that happen during thetransform in `preprocessing_exc_tuple` in IPython 7.17 and above.\n",
      "  and should_run_async(code)\n"
     ]
    }
   ],
   "source": [
    "# 학습이 끝난 모델을 평가한다.\n",
    "# 약 80%의 정확도를 기록하는 것을 볼 수 있다.\n",
    "trainer.evaluate()"
   ]
  },
  {
   "cell_type": "code",
   "execution_count": null,
   "metadata": {},
   "outputs": [],
   "source": []
  }
 ],
 "metadata": {
  "kernelspec": {
   "display_name": "Python 3",
   "language": "python",
   "name": "python3"
  },
  "language_info": {
   "codemirror_mode": {
    "name": "ipython",
    "version": 3
   },
   "file_extension": ".py",
   "mimetype": "text/x-python",
   "name": "python",
   "nbconvert_exporter": "python",
   "pygments_lexer": "ipython3",
   "version": "3.8.5"
  }
 },
 "nbformat": 4,
 "nbformat_minor": 4
}
