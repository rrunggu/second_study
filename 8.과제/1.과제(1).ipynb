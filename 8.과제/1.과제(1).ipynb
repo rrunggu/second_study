{
 "cells": [
  {
   "cell_type": "markdown",
   "metadata": {},
   "source": [
    "### 내가 푼 방법"
   ]
  },
  {
   "cell_type": "markdown",
   "metadata": {},
   "source": [
    "### 1. 아래 요구사항에 맞게 함수를 구현하세요. \n",
    "\n",
    "날짜 별 날씨 데이터를 구했으나 날짜와 날씨가 문자열로 붙어있는 형태여서 읽기나 처리하기가 어려운 상황이라고 가정해봅시다. 이 데이터를 딕셔너리 형태로 가공하려고 합니다.\n",
    "\n",
    "아래 assert문이 통과되도록 process_data 함수를 구현하세요."
   ]
  },
  {
   "cell_type": "code",
   "execution_count": 1,
   "metadata": {},
   "outputs": [],
   "source": [
    "# 함수구현\n",
    "def process_data(data) :\n",
    "    data = []\n",
    "    w = data[0][:5], data[1][:5], data[2][:5]\n",
    "    d = data[0][5:], data[1][6:], data[3][6:]\n",
    "    wd = [{'weather' : w[0], 'date' : d[0]},{'weather' : w[1], 'date' : d[1]}, {'weather' : w[2], 'date' : d[2]}]\n",
    "    \n",
    "    return wd\n",
    "    "
   ]
  },
  {
   "cell_type": "code",
   "execution_count": null,
   "metadata": {},
   "outputs": [],
   "source": [
    "# 데이터와 테스트 코드는 수정하지 마세요.\n",
    "raw_data = ['Sunny20210101', 'Rainy20210102', 'Cloudy20210103']\n",
    "processed_data = [{'weather': 'Sunny', 'date': '20210101'}, {'weather': 'Rainy', 'date': '20210102'}, {'weather': 'Cloudy', 'date': '20210103'}]\n",
    "\n",
    "assert process_data(raw_data) == processed_data"
   ]
  },
  {
   "cell_type": "markdown",
   "metadata": {},
   "source": [
    "### 2. 카운터 함수를 구현해 주세요. \n",
    "\n",
    "주어진 리스트에서 각 아이템이 몇개씩 등장했는지 세는 함수를 구현하려고 합니다. 이 함수는 리스트 변수를 입력으로 받고 딕셔너리를 출력하는데, 딕셔너리의 각 쌍의 키는 아이템이고 값은 해당 아이템이 출현한 횟수입니다.\n",
    "\n"
   ]
  },
  {
   "cell_type": "code",
   "execution_count": 3,
   "metadata": {},
   "outputs": [],
   "source": [
    "def count(data):\n",
    "  from collections import Counter\n",
    "  count_items = Counter(data)\n",
    "  \n",
    "  return count_items"
   ]
  },
  {
   "cell_type": "code",
   "execution_count": 4,
   "metadata": {},
   "outputs": [],
   "source": [
    "# 데이터와 테스트 코드는 수정하지 마세요.\n",
    "\n",
    "assert count([\"A\", \"B\", \"C\"]) == {\"A\": 1, \"B\": 1, \"C\": 1}\n",
    "assert count([\"A\", \"A\", \"B\", \"C\", \"C\", \"C\"]) == {\"A\": 2, \"B\": 1, \"C\": 3}\n",
    "assert count([\"D\", \"A\", \"D\", \"B\", \"C\", \"A\", \"C\"]) == {\"A\": 2, \"B\": 1, \"C\": 2, \"D\": 2}"
   ]
  },
  {
   "cell_type": "markdown",
   "metadata": {},
   "source": [
    "### 3. 아래 요구사항에 맞게 함수를 구현하세요.\n",
    "\n",
    "날짜 별, 지역 별 매출 데이터가 있습니다. 그런데 매출의 데이터 형식이 문자열로 들어가 있고, 중간에 빠진 값이 있습니다.\n",
    "매출의 데이터 형식을 숫자형으로 바꾸고 결측치를 제외한 지역 별 평균 매출을 구해보세요.\n",
    "\n"
   ]
  },
  {
   "cell_type": "code",
   "execution_count": 5,
   "metadata": {},
   "outputs": [],
   "source": [
    "import pandas as pd\n",
    "\n",
    "def average_by_region(data):\n",
    "  raw_data = pd.DataFrame(\n",
    "    [{\"날짜\": \"20210101\", \"지역\": \"서울\", \"매출\": \"10\"},\n",
    "     {\"날짜\": \"20210101\", \"지역\": \"부산\", \"매출\": \"20\"},\n",
    "     {\"날짜\": \"20210101\", \"지역\": \"제주\", \"매출\": \"8\"},\n",
    "     {\"날짜\": \"20210102\", \"지역\": \"서울\", \"매출\": \"15\"},\n",
    "     {\"날짜\": \"20210102\", \"지역\": \"부산\", \"매출\": None},\n",
    "     {\"날짜\": \"20210102\", \"지역\": \"제주\", \"매출\": \"10\"}]\n",
    "      )\n",
    "  raw_data = raw_data.dropna()\n",
    "  raw_data['매출'].astype(float)\n",
    "  raw_data.drop(['날짜'], axis=1, inplace=True)\n",
    "  a = raw_data.groupby('지역').agg('mean')\n",
    "\n",
    "  return a "
   ]
  },
  {
   "cell_type": "code",
   "execution_count": null,
   "metadata": {},
   "outputs": [],
   "source": [
    "# 데이터와 테스트 코드는 수정하지 마세요.\n",
    "\n",
    "raw_data = pd.DataFrame(\n",
    "    [{\"날짜\": \"20210101\", \"지역\": \"서울\", \"매출\": \"10\"},\n",
    "     {\"날짜\": \"20210101\", \"지역\": \"부산\", \"매출\": \"20\"},\n",
    "     {\"날짜\": \"20210101\", \"지역\": \"제주\", \"매출\": \"8\"},\n",
    "     {\"날짜\": \"20210102\", \"지역\": \"서울\", \"매출\": \"15\"},\n",
    "     {\"날짜\": \"20210102\", \"지역\": \"부산\", \"매출\": None},\n",
    "     {\"날짜\": \"20210102\", \"지역\": \"제주\", \"매출\": \"10\"}]\n",
    "  )\n",
    "\n",
    "result = pd.Series([20.0, 12.5, 9.0], index=['부산', '서울', '제주'])\n",
    "\n",
    "assert average_by_region(raw_data).equals(result) "
   ]
  },
  {
   "cell_type": "markdown",
   "metadata": {},
   "source": [
    "### 정답 답안\n"
   ]
  },
  {
   "cell_type": "markdown",
   "metadata": {},
   "source": [
    "#### 1번 답안\n"
   ]
  },
  {
   "cell_type": "code",
   "execution_count": 7,
   "metadata": {},
   "outputs": [],
   "source": [
    "def process_data(data):\n",
    "  # 정답 코드\n",
    "  # 반드시 한 줄로 작성할 필요는 없으며 아래 테스트 코드를 통과하면 합격입니다.\n",
    "  return [{'weather': d[:-8], 'date': d[-8:]} for d in raw_data]\n"
   ]
  },
  {
   "cell_type": "code",
   "execution_count": 8,
   "metadata": {},
   "outputs": [],
   "source": [
    "# 데이터와 테스트 코드는 수정하지 마세요.\n",
    "raw_data = ['Sunny20210101', 'Rainy20210102', 'Cloudy20210103']\n",
    "processed_data = [{'weather': 'Sunny', 'date': '20210101'}, {'weather': 'Rainy', 'date': '20210102'}, {'weather': 'Cloudy', 'date': '20210103'}]\n",
    "\n",
    "assert process_data(raw_data) == processed_data"
   ]
  },
  {
   "cell_type": "markdown",
   "metadata": {},
   "source": [
    "#### 2번 답안"
   ]
  },
  {
   "cell_type": "code",
   "execution_count": 9,
   "metadata": {},
   "outputs": [],
   "source": [
    "def count(data):\n",
    "  c = {}\n",
    "  for d in data:\n",
    "    if d in c:\n",
    "      c[d] += 1\n",
    "    else:\n",
    "      c[d] = 1\n",
    "  return c"
   ]
  },
  {
   "cell_type": "code",
   "execution_count": 10,
   "metadata": {},
   "outputs": [],
   "source": [
    "# 데이터와 테스트 코드는 수정하지 마세요.\n",
    "\n",
    "assert count([\"A\", \"B\", \"C\"]) == {\"A\": 1, \"B\": 1, \"C\": 1}\n",
    "assert count([\"A\", \"A\", \"B\", \"C\", \"C\", \"C\"]) == {\"A\": 2, \"B\": 1, \"C\": 3}\n",
    "assert count([\"D\", \"A\", \"D\", \"B\", \"C\", \"A\", \"C\"]) == {\"A\": 2, \"B\": 1, \"C\": 2, \"D\": 2}"
   ]
  },
  {
   "cell_type": "markdown",
   "metadata": {},
   "source": [
    "#### 3번 답안"
   ]
  },
  {
   "cell_type": "code",
   "execution_count": 12,
   "metadata": {},
   "outputs": [],
   "source": [
    "import pandas as pd\n",
    "\n",
    "def average_by_region(data):\n",
    "  # 정답 코드\n",
    "  # 반드시 한 줄로 작성할 필요는 없으며 아래 테스트 코드를 통과하면 합격입니다.\n",
    "  return data.dropna().assign(sales=lambda x: x['매출'].map(lambda x: int(x))).groupby('지역')['sales'].mean()"
   ]
  },
  {
   "cell_type": "code",
   "execution_count": 13,
   "metadata": {},
   "outputs": [],
   "source": [
    "# 데이터와 테스트 코드는 수정하지 마세요.\n",
    "\n",
    "raw_data = pd.DataFrame(\n",
    "    [{\"날짜\": \"20210101\", \"지역\": \"서울\", \"매출\": \"10\"},\n",
    "     {\"날짜\": \"20210101\", \"지역\": \"부산\", \"매출\": \"20\"},\n",
    "     {\"날짜\": \"20210101\", \"지역\": \"제주\", \"매출\": \"8\"},\n",
    "     {\"날짜\": \"20210102\", \"지역\": \"서울\", \"매출\": \"15\"},\n",
    "     {\"날짜\": \"20210102\", \"지역\": \"부산\", \"매출\": None},\n",
    "     {\"날짜\": \"20210102\", \"지역\": \"제주\", \"매출\": \"10\"}]\n",
    "  )\n",
    "\n",
    "result = pd.Series([20.0, 12.5, 9.0], index=['부산', '서울', '제주'])\n",
    "\n",
    "assert average_by_region(raw_data).equals(result) # 판다스 시리즈(Series)의 equals는 두 시리즈의 내용이 같은지 검사한다."
   ]
  }
 ],
 "metadata": {
  "kernelspec": {
   "display_name": "Python 3",
   "language": "python",
   "name": "python3"
  },
  "language_info": {
   "codemirror_mode": {
    "name": "ipython",
    "version": 3
   },
   "file_extension": ".py",
   "mimetype": "text/x-python",
   "name": "python",
   "nbconvert_exporter": "python",
   "pygments_lexer": "ipython3",
   "version": "3.8.5"
  }
 },
 "nbformat": 4,
 "nbformat_minor": 4
}
