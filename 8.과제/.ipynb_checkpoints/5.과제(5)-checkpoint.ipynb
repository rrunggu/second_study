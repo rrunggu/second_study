{
 "cells": [
  {
   "cell_type": "markdown",
   "metadata": {},
   "source": [
    "**1. 다음 조건을 만족하는 함수를 구현하세요.**\n",
    "\n",
    "* 문장(string)과 사전(dictionary)을 입력으로 받습니다\n",
    "* 문장을 띄어쓰기 단위로 나누어 단어마다 사전에 있는지를 체크하고,\n",
    "* 사전에 있는 경우 해당하는 점수(1 또는 -1), 사전에 없는 경우 0점으로 계산합니다\n",
    "* 점수의 평균이 0 이상이면 \"positive\", 0 미만이면 \"negative\"라는 문자열을 출력합니다."
   ]
  },
  {
   "cell_type": "code",
   "execution_count": 1,
   "metadata": {},
   "outputs": [],
   "source": [
    "# 함수 구현에 필요한 사전\n",
    "# 수정하지 마세요\n",
    "\n",
    "sentiment_vocab = {\n",
    " 'amazing': 1,\n",
    " 'awesome': 1,\n",
    " 'awful': -1,\n",
    " 'bad': -1,\n",
    " 'beautiful': 1,\n",
    " 'disappointing': -1,\n",
    " 'excited': 1,\n",
    " 'fun': 1,\n",
    " 'hate': -1,\n",
    " 'love': 1,\n",
    " 'nice': 1,\n",
    " 'okay': 1,\n",
    " 'sad': -1,\n",
    " 'wonderful': 1,\n",
    " 'wrong': -1}"
   ]
  },
  {
   "cell_type": "code",
   "execution_count": 2,
   "metadata": {},
   "outputs": [],
   "source": [
    "def detect_sentiment(sentence, vocabulary):\n",
    "   tokens = sentence.split()\n",
    "   review_score = 0\n",
    "   for token in tokens:\n",
    "     token_score = vocabulary.get(token, 0)\n",
    "     review_score = review_score + token_score\n",
    "   review_score = review_score/len(tokens)\n",
    "   pred = review_score\n",
    "   if pred >= 0 :\n",
    "     return 'positive'\n",
    "   else :\n",
    "     return 'negative'"
   ]
  },
  {
   "cell_type": "code",
   "execution_count": 3,
   "metadata": {},
   "outputs": [],
   "source": [
    "# 테스트 코드입니다.\n",
    "# 함수가 제대로 구현되었는지 평가를 위한 코드이니 수정하지 마세요.\n",
    "# 실행했을 때 아무 에러도 뜨지 않으면 성공입니다.\n",
    "\n",
    "assert detect_sentiment(\"absolutely wonderful - silky and sexy and comfortable\", sentiment_vocab) == \"positive\"\n",
    "assert detect_sentiment(\"love this skirt . the detail is amazing .\", sentiment_vocab) == \"positive\"\n",
    "assert detect_sentiment(\"great skirt in the theory with the wrong waste fit and length\", sentiment_vocab) == \"negative\"\n",
    "assert detect_sentiment(\"nothing bad to say about it !\", sentiment_vocab) == \"negative\"\n",
    "assert detect_sentiment(\"great that it's hand washable because i hate the smell of dry cleaned garmets\", sentiment_vocab) == \"negative\""
   ]
  },
  {
   "cell_type": "markdown",
   "metadata": {},
   "source": [
    "**2. 유사도 계산에서 자주 쓰이는 코사인 유사도 (Cosine similarity)를 구현해보세요**\n",
    "\n",
    "![cosine similarity](https://neo4j.com/docs/graph-data-science/current/_images/cosine-similarity.png)\n",
    "\n",
    "* 입력으로 두 개의 벡터(리스트) A와 B를 받습니다.\n",
    "* A, B 리스트의 길이는 같습니다.\n",
    "* 출력으로 공식에 따라 계산된 코사인 유사도 값을 출력합니다.\n",
    "* 라이브러리(내장/외장)를 사용하지 말고 파이썬의 기능만으로 구현해보세요\n"
   ]
  },
  {
   "cell_type": "code",
   "execution_count": 4,
   "metadata": {},
   "outputs": [],
   "source": [
    "# 코드를 입력하세요\n",
    "def cosine_similarity(a, b):\n",
    "  def dot(v1, v2):\n",
    "    return sum(x*y for x, y in zip(v1, v2))\n",
    "\n",
    "  def norm(v1):\n",
    "    var = sum(i*i for i in v1)\n",
    "    return var ** (1/2)\n",
    "\n",
    "  return dot(a,b)/(norm(a)*norm(b))"
   ]
  },
  {
   "cell_type": "code",
   "execution_count": 5,
   "metadata": {},
   "outputs": [],
   "source": [
    "# 테스트 코드입니다.\n",
    "# 함수가 제대로 구현되었는지 평가를 위한 코드이니 수정하지 마세요.\n",
    "# 실행했을 때 아무 에러도 뜨지 않으면 성공입니다.\n",
    "# 프로그래밍 언어의 특성 상 딱 떨어지는 숫자로 값이 나오지 않을 수 있기 때문에 정답과 차이가 충분히 작으면 정답으로 인정합니다.\n",
    "\n",
    "epsilon = 0.001 # small number\n",
    "assert abs(cosine_similarity([0, 1], [0, 1]) - 1) < epsilon\n",
    "assert abs(cosine_similarity([1, 0], [0, 1]) - 0) < epsilon\n",
    "assert abs(cosine_similarity([2, 1], [4, 2]) - 1) < epsilon\n",
    "assert abs(cosine_similarity([1,2,3], [3,2,1]) - 0.714) < epsilon\n",
    "assert abs(cosine_similarity([1, 1.732], [1, 0]) - 0.5) < epsilon"
   ]
  },
  {
   "cell_type": "markdown",
   "metadata": {},
   "source": [
    "**3. 위에서 구현한 코사인 유사도를 이용해 K개의 유사한 벡터를 찾아보세요**\n",
    "\n",
    "* 입력으로 타겟 벡터와, 이름 - 벡터로 이루어진 데이터, 그리고 k를 받습니다.\n",
    "* 딕셔너리 형식의 데이터에서 타겟 벡터와 코사인 유사도가 가장 높은 k개의 데이터를 찾습니다.\n",
    "* 찾은 k개의 데이터의 이름을 유사도가 높은 순서로 리스트로 출력합니다.\n",
    "* 라이브러리(내장/외장)를 사용하지 말고 파이썬의 기본 기능만으로 구현해보세요"
   ]
  },
  {
   "cell_type": "code",
   "execution_count": 6,
   "metadata": {},
   "outputs": [],
   "source": [
    "def find_k_nearest_neighbors(target, data, k):\n",
    "  sim_dict = {}\n",
    "  sim_list = []\n",
    "  last_list = []\n",
    "  for i in data:\n",
    "    sim_dict[str(cosine_similarity(target,data[i]))]= i\n",
    "    sim_list.append(cosine_similarity(target,data[i]))\n",
    "  sim_list.sort(reverse=True)\n",
    "  for i in range(k):\n",
    "    last_list.append(sim_dict[str(sim_list[i])])\n",
    "  return last_list\n",
    "  "
   ]
  },
  {
   "cell_type": "code",
   "execution_count": 7,
   "metadata": {},
   "outputs": [],
   "source": [
    "# 테스트를 위한 데이터입니다. 수정하지 마세요.\n",
    "# 각 벡터의 값은 랜덤으로 생성된 숫자입니다.\n",
    "\n",
    "data = {\n",
    "    'apple': [1, 4, 3, 0],\n",
    "    'banana': [0, 4, 5, 0],\n",
    "    'orange': [5, 2, 5, 2],\n",
    "    'melon': [4, 1, 5, 3],\n",
    "}"
   ]
  },
  {
   "cell_type": "code",
   "execution_count": 8,
   "metadata": {},
   "outputs": [],
   "source": [
    "# 테스트 코드입니다.\n",
    "# 함수가 제대로 구현되었는지 평가를 위한 코드이니 수정하지 마세요.\n",
    "# 실행했을 때 아무 에러도 뜨지 않으면 성공입니다.\n",
    "\n",
    "assert find_k_nearest_neighbors([1,4,3,0], data, 1) == ['apple']\n",
    "assert find_k_nearest_neighbors(data['banana'], data, 1) == ['banana']\n",
    "assert find_k_nearest_neighbors([5,2,0,5], data, 2) == ['melon', 'orange']\n",
    "assert find_k_nearest_neighbors([1,3,4,1], data, 2) == ['banana', 'apple']"
   ]
  }
 ],
 "metadata": {
  "kernelspec": {
   "display_name": "Python 3",
   "language": "python",
   "name": "python3"
  },
  "language_info": {
   "codemirror_mode": {
    "name": "ipython",
    "version": 3
   },
   "file_extension": ".py",
   "mimetype": "text/x-python",
   "name": "python",
   "nbconvert_exporter": "python",
   "pygments_lexer": "ipython3",
   "version": "3.8.5"
  }
 },
 "nbformat": 4,
 "nbformat_minor": 4
}
