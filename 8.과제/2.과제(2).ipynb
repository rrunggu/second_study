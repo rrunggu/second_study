{
 "cells": [
  {
   "cell_type": "markdown",
   "metadata": {},
   "source": [
    "### 내가 푼 답안"
   ]
  },
  {
   "cell_type": "markdown",
   "metadata": {},
   "source": [
    "수정 금지) 아래는 예제 데이터를 불러오는 코드입니다.\n",
    "- user_data 에 대한 설명은 다음과 같습니다.\n",
    "  - user_id: 유저별 unique ID\n",
    "  - session_id: 유저의 세션 ID\n",
    "  - date: event 발생 날짜"
   ]
  },
  {
   "cell_type": "code",
   "execution_count": 1,
   "metadata": {},
   "outputs": [],
   "source": [
    "import seaborn as sns\n",
    "import matplotlib.pyplot as plt\n",
    "import pandas as pd"
   ]
  },
  {
   "cell_type": "code",
   "execution_count": 2,
   "metadata": {},
   "outputs": [],
   "source": [
    "# 수정 금지: 데이터셋 준비 #\n",
    "a = (1051,1051,1051,1051,1051,2073,2073,2073,2073,3063,3063,3063,3053,3024,3024)\n",
    "b = ('aBxD','aBxD','aBxD','aBxD','aBxD','bDbD','bDbD','bDbC','bDbC','aaaa','aaab','aaac', '5DaD','aDDD','aDDE')\n",
    "c = ('2021-10-31','2021-10-31','2021-10-31','2021-11-01','2021-11-01','2021-10-31','2021-10-31','2021-10-30', '2021-10-29','2021-11-07','2021-11-08','2021-11-09','2021-11-09','2021-11-09','2021-11-10')\n",
    "user_data = pd.DataFrame({\"user_id\":a, \"session_id\":b, \"date\": c})"
   ]
  },
  {
   "cell_type": "markdown",
   "metadata": {},
   "source": [
    "### 1. 평균 Daily Active User 를 구해서 avg_active_user라는 변수에 저장하시오. \n",
    "\n",
    "- 제약사항\n",
    "  - 위의 user_data 의 기간 전체를 사용합니다\n",
    "  - 단 유저가 방문하지 않은 날짜는 제외(무시)하고 DAU를 구하시오\n",
    "  - avg_active_user 은 DataFarame이 아닌 숫자(float)로 저장되어야 합니다."
   ]
  },
  {
   "cell_type": "code",
   "execution_count": 3,
   "metadata": {},
   "outputs": [],
   "source": [
    "### 여기에 코드를 입력해 주세요 ####\n",
    "user_data['event_date'] = user_data['date'].str.slice(start=0, stop =10)\n",
    "user_data['evert_date_dtm_format'] = pd.to_datetime(user_data['event_date'], format=\"%Y-%m-%d\")\n",
    "\n",
    "avg_active_user = user_data.groupby('event_date')['user_id'].nunique()"
   ]
  },
  {
   "cell_type": "code",
   "execution_count": 4,
   "metadata": {},
   "outputs": [
    {
     "data": {
      "text/plain": [
       "event_date\n",
       "2021-10-29    1\n",
       "2021-10-30    1\n",
       "2021-10-31    2\n",
       "2021-11-01    1\n",
       "2021-11-07    1\n",
       "2021-11-08    1\n",
       "2021-11-09    3\n",
       "2021-11-10    1\n",
       "Name: user_id, dtype: int64"
      ]
     },
     "execution_count": 4,
     "metadata": {},
     "output_type": "execute_result"
    }
   ],
   "source": [
    "avg_active_user"
   ]
  },
  {
   "cell_type": "markdown",
   "metadata": {},
   "source": [
    "### 2. 11월 한 달 동안의 DAU/MAU 지표를 구하시오\n",
    "- user_data 를 사용합니다\n",
    "- 단, 유저가 방문하지 않는 날짜는 제외(무시)하고, DAU를 구하시오"
   ]
  },
  {
   "cell_type": "code",
   "execution_count": 5,
   "metadata": {},
   "outputs": [
    {
     "data": {
      "text/html": [
       "<div>\n",
       "<style scoped>\n",
       "    .dataframe tbody tr th:only-of-type {\n",
       "        vertical-align: middle;\n",
       "    }\n",
       "\n",
       "    .dataframe tbody tr th {\n",
       "        vertical-align: top;\n",
       "    }\n",
       "\n",
       "    .dataframe thead th {\n",
       "        text-align: right;\n",
       "    }\n",
       "</style>\n",
       "<table border=\"1\" class=\"dataframe\">\n",
       "  <thead>\n",
       "    <tr style=\"text-align: right;\">\n",
       "      <th></th>\n",
       "      <th>user_id</th>\n",
       "      <th>session_id</th>\n",
       "      <th>date</th>\n",
       "      <th>event_date</th>\n",
       "      <th>evert_date_dtm_format</th>\n",
       "      <th>event_date_dtm_format</th>\n",
       "    </tr>\n",
       "  </thead>\n",
       "  <tbody>\n",
       "    <tr>\n",
       "      <th>3</th>\n",
       "      <td>1051</td>\n",
       "      <td>aBxD</td>\n",
       "      <td>2021-11-01</td>\n",
       "      <td>2021-11-01</td>\n",
       "      <td>2021-11-01</td>\n",
       "      <td>2021-11-01</td>\n",
       "    </tr>\n",
       "    <tr>\n",
       "      <th>4</th>\n",
       "      <td>1051</td>\n",
       "      <td>aBxD</td>\n",
       "      <td>2021-11-01</td>\n",
       "      <td>2021-11-01</td>\n",
       "      <td>2021-11-01</td>\n",
       "      <td>2021-11-01</td>\n",
       "    </tr>\n",
       "    <tr>\n",
       "      <th>9</th>\n",
       "      <td>3063</td>\n",
       "      <td>aaaa</td>\n",
       "      <td>2021-11-07</td>\n",
       "      <td>2021-11-07</td>\n",
       "      <td>2021-11-07</td>\n",
       "      <td>2021-11-07</td>\n",
       "    </tr>\n",
       "    <tr>\n",
       "      <th>10</th>\n",
       "      <td>3063</td>\n",
       "      <td>aaab</td>\n",
       "      <td>2021-11-08</td>\n",
       "      <td>2021-11-08</td>\n",
       "      <td>2021-11-08</td>\n",
       "      <td>2021-11-08</td>\n",
       "    </tr>\n",
       "    <tr>\n",
       "      <th>11</th>\n",
       "      <td>3063</td>\n",
       "      <td>aaac</td>\n",
       "      <td>2021-11-09</td>\n",
       "      <td>2021-11-09</td>\n",
       "      <td>2021-11-09</td>\n",
       "      <td>2021-11-09</td>\n",
       "    </tr>\n",
       "    <tr>\n",
       "      <th>12</th>\n",
       "      <td>3053</td>\n",
       "      <td>5DaD</td>\n",
       "      <td>2021-11-09</td>\n",
       "      <td>2021-11-09</td>\n",
       "      <td>2021-11-09</td>\n",
       "      <td>2021-11-09</td>\n",
       "    </tr>\n",
       "    <tr>\n",
       "      <th>13</th>\n",
       "      <td>3024</td>\n",
       "      <td>aDDD</td>\n",
       "      <td>2021-11-09</td>\n",
       "      <td>2021-11-09</td>\n",
       "      <td>2021-11-09</td>\n",
       "      <td>2021-11-09</td>\n",
       "    </tr>\n",
       "    <tr>\n",
       "      <th>14</th>\n",
       "      <td>3024</td>\n",
       "      <td>aDDE</td>\n",
       "      <td>2021-11-10</td>\n",
       "      <td>2021-11-10</td>\n",
       "      <td>2021-11-10</td>\n",
       "      <td>2021-11-10</td>\n",
       "    </tr>\n",
       "  </tbody>\n",
       "</table>\n",
       "</div>"
      ],
      "text/plain": [
       "    user_id session_id        date  event_date evert_date_dtm_format  \\\n",
       "3      1051       aBxD  2021-11-01  2021-11-01            2021-11-01   \n",
       "4      1051       aBxD  2021-11-01  2021-11-01            2021-11-01   \n",
       "9      3063       aaaa  2021-11-07  2021-11-07            2021-11-07   \n",
       "10     3063       aaab  2021-11-08  2021-11-08            2021-11-08   \n",
       "11     3063       aaac  2021-11-09  2021-11-09            2021-11-09   \n",
       "12     3053       5DaD  2021-11-09  2021-11-09            2021-11-09   \n",
       "13     3024       aDDD  2021-11-09  2021-11-09            2021-11-09   \n",
       "14     3024       aDDE  2021-11-10  2021-11-10            2021-11-10   \n",
       "\n",
       "   event_date_dtm_format  \n",
       "3             2021-11-01  \n",
       "4             2021-11-01  \n",
       "9             2021-11-07  \n",
       "10            2021-11-08  \n",
       "11            2021-11-09  \n",
       "12            2021-11-09  \n",
       "13            2021-11-09  \n",
       "14            2021-11-10  "
      ]
     },
     "execution_count": 5,
     "metadata": {},
     "output_type": "execute_result"
    }
   ],
   "source": [
    "user_data['event_date'] = user_data['date'].str.slice(start=0, stop =10)\n",
    "user_data['event_date_dtm_format'] = pd.to_datetime(user_data['event_date'], format=\"%Y-%m-%d\")\n",
    "\n",
    "november_data = user_data.loc[(user_data['event_date'] > '2021-10-31')]\n",
    "november_data"
   ]
  },
  {
   "cell_type": "markdown",
   "metadata": {},
   "source": [
    "2-2) november_data를 이용하여, 11월 평균 DAU를 구한 후 dau_11 변수에 저장합니다. \n",
    "- dau_11은 숫자(float)여야 합니다."
   ]
  },
  {
   "cell_type": "code",
   "execution_count": 6,
   "metadata": {},
   "outputs": [
    {
     "data": {
      "text/plain": [
       "event_date\n",
       "2021-11-01    1\n",
       "2021-11-07    1\n",
       "2021-11-08    1\n",
       "2021-11-09    3\n",
       "2021-11-10    1\n",
       "Name: user_id, dtype: int64"
      ]
     },
     "execution_count": 6,
     "metadata": {},
     "output_type": "execute_result"
    }
   ],
   "source": [
    "### 여기에 코드를 입력해 주세요 ####\n",
    "dau_11 = november_data.groupby('event_date')['user_id'].nunique()\n",
    "dau_11"
   ]
  },
  {
   "cell_type": "markdown",
   "metadata": {},
   "source": [
    "2-3) november_data를 이용하여, 11월 MAU를 구한 후 mau_11 변수에 저장합니다. "
   ]
  },
  {
   "cell_type": "code",
   "execution_count": 7,
   "metadata": {},
   "outputs": [
    {
     "name": "stderr",
     "output_type": "stream",
     "text": [
      "<ipython-input-7-96ca3b0ff140>:3: SettingWithCopyWarning: \n",
      "A value is trying to be set on a copy of a slice from a DataFrame.\n",
      "Try using .loc[row_indexer,col_indexer] = value instead\n",
      "\n",
      "See the caveats in the documentation: https://pandas.pydata.org/pandas-docs/stable/user_guide/indexing.html#returning-a-view-versus-a-copy\n",
      "  november_data['event_month'] = november_data['date'].str.slice(start=0, stop=7)\n"
     ]
    },
    {
     "data": {
      "text/plain": [
       "event_month\n",
       "2021-11    4\n",
       "Name: user_id, dtype: int64"
      ]
     },
     "execution_count": 7,
     "metadata": {},
     "output_type": "execute_result"
    }
   ],
   "source": [
    "### 여기에 코드를 입력해 주세요 #### \n",
    "\n",
    "november_data['event_month'] = november_data['date'].str.slice(start=0, stop=7)\n",
    "\n",
    "mau_11 = november_data.groupby('event_month')['user_id'].nunique()\n",
    "mau_11"
   ]
  },
  {
   "cell_type": "markdown",
   "metadata": {},
   "source": [
    "2-4) 앞에서 구한 지표를 바탕으로 11월 1달 DAU/MAU 를 구하여 dau_mau_11 변수에 저장합니다. "
   ]
  },
  {
   "cell_type": "code",
   "execution_count": 8,
   "metadata": {},
   "outputs": [
    {
     "name": "stdout",
     "output_type": "stream",
     "text": [
      "0.35\n"
     ]
    }
   ],
   "source": [
    "### 여기에 코드를 입력해 주세요 ####\n",
    "dau_dt = pd.DataFrame({'event_date': dau_11.index, 'user_count':dau_11.values})\n",
    "\n",
    "mau_dt = pd.DataFrame({'event_date': mau_11.index, 'user_count':mau_11.values})\n",
    "\n",
    "avg_daily_user = dau_dt.user_count.mean()\n",
    "avg_month_user = mau_dt.user_count.mean()\n",
    "\n",
    "dau_mau_11 = avg_daily_user / avg_month_user\n",
    "print(dau_mau_11)"
   ]
  },
  {
   "cell_type": "markdown",
   "metadata": {},
   "source": [
    "### 3. 다음 데이터를 가지고 코호트 분석을 위한 히트맵 그래프를 만들어 주세요 \n",
    "\n",
    "아래 제약 사항을 잘 읽어 주세요.\n",
    "- 기간:  2021-01 ~ 2021-05월\n",
    "- 분석 목적: 해당 기간 동안 기간 별 **재방문율 변화**를 파악합니다.\n",
    "- 그래프 크기: 그래프 크기는 (9, 7) 입니다. \n",
    "- 그래프 내 값은 백분율로 **%를 포함하여 소숫점 2자리**까지 그려주세요.\n",
    "- **첫 방문월도 포함**하여 그래프를 그려주세요."
   ]
  },
  {
   "cell_type": "markdown",
   "metadata": {},
   "source": [
    "cohort_data 에 대한 컬럼 설명 안내\n",
    "- first_visit_month : 유저의 첫 방문월\n",
    "- revisit_month: 재방문월\n",
    "- user_cnt: 각 첫 방문월/재방문월 별 유저수"
   ]
  },
  {
   "cell_type": "code",
   "execution_count": 10,
   "metadata": {},
   "outputs": [],
   "source": [
    "## 수정 금지) 데이터셋 준비 ## \n",
    "a = ('2021-01','2021-01','2021-01','2021-01','2021-01','2021-02', '2021-02','2021-02','2021-02','2021-03','2021-03','2021-03','2021-04','2021-04','2021-05')\n",
    "b = ('2021-01','2021-02','2021-03','2021-04','2021-05','2021-02', '2021-03','2021-04','2021-05','2021-03','2021-04','2021-05','2021-04','2021-05','2021-05')\n",
    "c = (100,80,60,40,10,96, 55,33,11,90,20,10,120,5,1)\n",
    "cohort_data = pd.DataFrame({\"first_visit_month\":a, \"revisit_month\":b, \"user_cnt\": c})"
   ]
  },
  {
   "cell_type": "code",
   "execution_count": 11,
   "metadata": {},
   "outputs": [
    {
     "name": "stderr",
     "output_type": "stream",
     "text": [
      "findfont: Font family ['NanumBarunGothic'] not found. Falling back to DejaVu Sans.\n",
      "findfont: Font family ['NanumBarunGothic'] not found. Falling back to DejaVu Sans.\n",
      "findfont: Font family ['NanumBarunGothic'] not found. Falling back to DejaVu Sans.\n"
     ]
    },
    {
     "data": {
      "image/png": "[encoded data removed]",
      "text/plain": [
       "<Figure size 648x504 with 2 Axes>"
      ]
     },
     "metadata": {},
     "output_type": "display_data"
    }
   ],
   "source": [
    "### 여기에 코드를 입력해 주세요 ####\n",
    "\n",
    "import matplotlib.pyplot as plt\n",
    "import seaborn as sns\n",
    "\n",
    "cohort_data['first_visit_month_dt'] = pd.to_datetime(cohort_data.first_visit_month, format = '%Y-%m')\n",
    "cohort_data['revisit_month_dt'] = pd.to_datetime(cohort_data.revisit_month, format = '%Y-%m')\n",
    "\n",
    "cohort_data['month_diff'] =  cohort_data.revisit_month_dt.dt.to_period('M').astype('int') - cohort_data.first_visit_month_dt.dt.to_period('M').astype('int')\n",
    "\n",
    "cohort_data = cohort_data[['first_visit_month','month_diff','user_cnt']]\n",
    "cohort_data.set_index(['first_visit_month','month_diff'],inplace=True)\n",
    "cohort_data.head()\n",
    "\n",
    "cohort_data = cohort_data['user_cnt'].unstack(1)\n",
    "cohort_data\n",
    "\n",
    "revisit_rate = cohort_data.divide(cohort_data[0],axis=0)\n",
    "revisit_rate\n",
    "\n",
    "revisit_rate.iloc[:, :]\n",
    "\n",
    "sns.set_theme(style=\"whitegrid\", palette=\"pastel\") \n",
    "plt.rc('font', family='NanumBarunGothic') \n",
    "\n",
    "\n",
    "g = sns.heatmap(revisit_rate.iloc[:, :], annot=True, fmt='.2%', cmap=\"Blues\")\n",
    "\n",
    "g.figure.set_size_inches(9, 7) \n",
    "g.set_title(\"revisit_rate\", pad=20, size=16) \n",
    "g.set_xlabel(\"month_diff\",labelpad = 20, size = 12)\n",
    "g.set_ylabel(\"first_visit_month\",labelpad = 20, size = 12) \n",
    "sns.set_theme(style=\"whitegrid\", palette=\"pastel\")"
   ]
  },
  {
   "cell_type": "markdown",
   "metadata": {},
   "source": [
    "### 예시 답안"
   ]
  },
  {
   "cell_type": "code",
   "execution_count": 12,
   "metadata": {},
   "outputs": [
    {
     "data": {
      "text/plain": [
       "1.375"
      ]
     },
     "execution_count": 12,
     "metadata": {},
     "output_type": "execute_result"
    }
   ],
   "source": [
    "### 여기에 코드를 입력해 주세요 ####\n",
    "test = user_data.groupby('date')['user_id'].nunique()\n",
    "dau_data = pd.DataFrame({'date':test.index, 'user_count':test.values})\n",
    "avg_active_user = dau_data['user_count'].mean()\n",
    "avg_active_user"
   ]
  },
  {
   "cell_type": "code",
   "execution_count": 13,
   "metadata": {},
   "outputs": [
    {
     "data": {
      "text/html": [
       "<div>\n",
       "<style scoped>\n",
       "    .dataframe tbody tr th:only-of-type {\n",
       "        vertical-align: middle;\n",
       "    }\n",
       "\n",
       "    .dataframe tbody tr th {\n",
       "        vertical-align: top;\n",
       "    }\n",
       "\n",
       "    .dataframe thead th {\n",
       "        text-align: right;\n",
       "    }\n",
       "</style>\n",
       "<table border=\"1\" class=\"dataframe\">\n",
       "  <thead>\n",
       "    <tr style=\"text-align: right;\">\n",
       "      <th></th>\n",
       "      <th>user_id</th>\n",
       "      <th>session_id</th>\n",
       "      <th>date</th>\n",
       "      <th>event_date</th>\n",
       "      <th>evert_date_dtm_format</th>\n",
       "      <th>event_date_dtm_format</th>\n",
       "    </tr>\n",
       "  </thead>\n",
       "  <tbody>\n",
       "    <tr>\n",
       "      <th>3</th>\n",
       "      <td>1051</td>\n",
       "      <td>aBxD</td>\n",
       "      <td>2021-11-01</td>\n",
       "      <td>2021-11-01</td>\n",
       "      <td>2021-11-01</td>\n",
       "      <td>2021-11-01</td>\n",
       "    </tr>\n",
       "    <tr>\n",
       "      <th>4</th>\n",
       "      <td>1051</td>\n",
       "      <td>aBxD</td>\n",
       "      <td>2021-11-01</td>\n",
       "      <td>2021-11-01</td>\n",
       "      <td>2021-11-01</td>\n",
       "      <td>2021-11-01</td>\n",
       "    </tr>\n",
       "    <tr>\n",
       "      <th>9</th>\n",
       "      <td>3063</td>\n",
       "      <td>aaaa</td>\n",
       "      <td>2021-11-07</td>\n",
       "      <td>2021-11-07</td>\n",
       "      <td>2021-11-07</td>\n",
       "      <td>2021-11-07</td>\n",
       "    </tr>\n",
       "    <tr>\n",
       "      <th>10</th>\n",
       "      <td>3063</td>\n",
       "      <td>aaab</td>\n",
       "      <td>2021-11-08</td>\n",
       "      <td>2021-11-08</td>\n",
       "      <td>2021-11-08</td>\n",
       "      <td>2021-11-08</td>\n",
       "    </tr>\n",
       "    <tr>\n",
       "      <th>11</th>\n",
       "      <td>3063</td>\n",
       "      <td>aaac</td>\n",
       "      <td>2021-11-09</td>\n",
       "      <td>2021-11-09</td>\n",
       "      <td>2021-11-09</td>\n",
       "      <td>2021-11-09</td>\n",
       "    </tr>\n",
       "    <tr>\n",
       "      <th>12</th>\n",
       "      <td>3053</td>\n",
       "      <td>5DaD</td>\n",
       "      <td>2021-11-09</td>\n",
       "      <td>2021-11-09</td>\n",
       "      <td>2021-11-09</td>\n",
       "      <td>2021-11-09</td>\n",
       "    </tr>\n",
       "    <tr>\n",
       "      <th>13</th>\n",
       "      <td>3024</td>\n",
       "      <td>aDDD</td>\n",
       "      <td>2021-11-09</td>\n",
       "      <td>2021-11-09</td>\n",
       "      <td>2021-11-09</td>\n",
       "      <td>2021-11-09</td>\n",
       "    </tr>\n",
       "    <tr>\n",
       "      <th>14</th>\n",
       "      <td>3024</td>\n",
       "      <td>aDDE</td>\n",
       "      <td>2021-11-10</td>\n",
       "      <td>2021-11-10</td>\n",
       "      <td>2021-11-10</td>\n",
       "      <td>2021-11-10</td>\n",
       "    </tr>\n",
       "  </tbody>\n",
       "</table>\n",
       "</div>"
      ],
      "text/plain": [
       "    user_id session_id        date  event_date evert_date_dtm_format  \\\n",
       "3      1051       aBxD  2021-11-01  2021-11-01            2021-11-01   \n",
       "4      1051       aBxD  2021-11-01  2021-11-01            2021-11-01   \n",
       "9      3063       aaaa  2021-11-07  2021-11-07            2021-11-07   \n",
       "10     3063       aaab  2021-11-08  2021-11-08            2021-11-08   \n",
       "11     3063       aaac  2021-11-09  2021-11-09            2021-11-09   \n",
       "12     3053       5DaD  2021-11-09  2021-11-09            2021-11-09   \n",
       "13     3024       aDDD  2021-11-09  2021-11-09            2021-11-09   \n",
       "14     3024       aDDE  2021-11-10  2021-11-10            2021-11-10   \n",
       "\n",
       "   event_date_dtm_format  \n",
       "3             2021-11-01  \n",
       "4             2021-11-01  \n",
       "9             2021-11-07  \n",
       "10            2021-11-08  \n",
       "11            2021-11-09  \n",
       "12            2021-11-09  \n",
       "13            2021-11-09  \n",
       "14            2021-11-10  "
      ]
     },
     "execution_count": 13,
     "metadata": {},
     "output_type": "execute_result"
    }
   ],
   "source": [
    "november_data = user_data.loc[user_data.date >= '2021-11-01', :]\n",
    "november_data"
   ]
  },
  {
   "cell_type": "code",
   "execution_count": 14,
   "metadata": {},
   "outputs": [
    {
     "data": {
      "text/plain": [
       "1.4"
      ]
     },
     "execution_count": 14,
     "metadata": {},
     "output_type": "execute_result"
    }
   ],
   "source": [
    "dau = november_data.groupby('date')['user_id'].nunique()\n",
    "dau_data = pd.DataFrame({'date':dau.index, 'user_count':dau.values})\n",
    "dau_11 = dau_data['user_count'].mean()\n",
    "dau_11"
   ]
  },
  {
   "cell_type": "code",
   "execution_count": 15,
   "metadata": {},
   "outputs": [
    {
     "data": {
      "text/plain": [
       "4"
      ]
     },
     "execution_count": 15,
     "metadata": {},
     "output_type": "execute_result"
    }
   ],
   "source": [
    "### 여기에 코드를 입력해 주세요 #### \n",
    "mau_11 = november_data['user_id'].nunique()\n",
    "mau_11"
   ]
  },
  {
   "cell_type": "code",
   "execution_count": 16,
   "metadata": {},
   "outputs": [
    {
     "data": {
      "text/plain": [
       "0.35"
      ]
     },
     "execution_count": 16,
     "metadata": {},
     "output_type": "execute_result"
    }
   ],
   "source": [
    "### 여기에 코드를 입력해 주세요 ####\n",
    "dau_mau_11 = dau_11/mau_11\n",
    "dau_mau_11"
   ]
  },
  {
   "cell_type": "code",
   "execution_count": null,
   "metadata": {},
   "outputs": [],
   "source": [
    "### 여기에 코드를 입력해 주세요 ####\n",
    "\n",
    "# 기간을 diff 로 나타냅니다.\n",
    "cohort_data[\"first_visit_month_dt\"] = pd.to_datetime(cohort_data.first_visit_month, format='%Y-%m')\n",
    "cohort_data[\"revisit_month_dt\"] = pd.to_datetime(cohort_data.revisit_month, format='%Y-%m')\n",
    "\n",
    "\n",
    "cohort_data['month_diff'] = (\n",
    "     cohort_data.revisit_month_dt.dt.to_period('M').astype(int) \n",
    "     - cohort_data.first_visit_month_dt.dt.to_period('M').astype(int)\n",
    ")\n",
    " \n",
    "\n",
    "# matrix 로 변환합니다.\n",
    "visit_cohorts = cohort_data[['first_visit_month','month_diff','user_cnt']]\n",
    "visit_cohorts.set_index(['first_visit_month','month_diff'],inplace=True)\n",
    "visit_cohorts = visit_cohorts['user_cnt'].unstack(1)\n",
    "revisit_rate=visit_cohorts.divide(visit_cohorts[0],axis=0)\n",
    "\n",
    "# 그래프를 그립니다.\n",
    "sns.set_theme(style=\"whitegrid\", palette=\"pastel\")\n",
    "g = sns.heatmap(revisit_rate, annot=True, fmt='.2%', cmap=\"Blues\")\n",
    "g.figure.set_size_inches(9, 7) "
   ]
  },
  {
   "cell_type": "code",
   "execution_count": null,
   "metadata": {},
   "outputs": [],
   "source": []
  }
 ],
 "metadata": {
  "kernelspec": {
   "display_name": "Python 3",
   "language": "python",
   "name": "python3"
  },
  "language_info": {
   "codemirror_mode": {
    "name": "ipython",
    "version": 3
   },
   "file_extension": ".py",
   "mimetype": "text/x-python",
   "name": "python",
   "nbconvert_exporter": "python",
   "pygments_lexer": "ipython3",
   "version": "3.8.5"
  }
 },
 "nbformat": 4,
 "nbformat_minor": 4
}
